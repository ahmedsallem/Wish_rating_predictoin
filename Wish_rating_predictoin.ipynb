{
 "cells": [
  {
   "cell_type": "markdown",
   "id": "f3338495",
   "metadata": {},
   "source": [
    "Define the problem.\n",
    "The problem is predicting the products rating to gain prior knowledge of customers'\n",
    "preferences for products, which further improves the website's sales process.\n",
    "************************************************************************************************************************\n",
    "What is the input? \n",
    "Our inputs are a lot of features I will show them next slides\n",
    "************************************************************************************************************************\n",
    "What is the output?\n",
    "Rating of the products depend on some features.\n",
    "************************************************************************************************************************\n",
    "What data mining function is required?\n",
    "The model is classification model."
   ]
  },
  {
   "cell_type": "markdown",
   "id": "83e7cc55",
   "metadata": {},
   "source": [
    "What could be the challenges?\n",
    "containing different ranges needed to be scaled.\n",
    "containing some columns needed to be adjusted.\n",
    "containing many of missing values.\n",
    "containing Not important columns.\n",
    "containing categorical columns. \n",
    "************************************************************************************************************************\n",
    "What is the impact?\n",
    "The impact is making misleading to the model to predict and classify  the right rating for each model.\n",
    "************************************************************************************************************************\n",
    "What is an ideal solution?\n",
    "The ideal solution is to make good preprocessing on each column and take the columns that will help the model to predict the right rating \n"
   ]
  },
  {
   "cell_type": "code",
   "execution_count": null,
   "id": "6821c7f2",
   "metadata": {},
   "outputs": [],
   "source": []
  },
  {
   "cell_type": "markdown",
   "id": "c007c8b0",
   "metadata": {},
   "source": [
    "1. Why Data Mining is a misnomer? What is another preferred name?\n",
    "************************************************************************************************************************\n",
    "\n",
    "Data mining is a misnomer, because the goal is the extraction of patterns \n",
    "and knowledge from large amounts of data, not the extraction (mining) of data itself.\n",
    "Data mining is also known as Knowledge Discovery in Data (KDD).\n"
   ]
  },
  {
   "cell_type": "code",
   "execution_count": null,
   "id": "3274d42f",
   "metadata": {},
   "outputs": [],
   "source": []
  },
  {
   "cell_type": "markdown",
   "id": "4abf1548",
   "metadata": {},
   "source": [
    "2. What is the general knowledge discovery process? \n",
    "What is the difference between a data engineer and data scientist/AI engineer?"
   ]
  },
  {
   "cell_type": "markdown",
   "id": "e3bd10ca",
   "metadata": {},
   "source": [
    "knowledge discovery can be defined as the process of identifying interesting and new patterns in data. These patterns can include relations, events or trends, and they can reveal both exceptions and regularities. In the core of the process, data mining methods are utilized for extracting and verifying patterns.\n",
    "************************************************************************************************************************\n",
    "\n",
    "Data engineers create and maintain key data infrastructures like databases, data warehouses, and data pipelines. Data engineers also prepare data for production by converting raw, unstructured data into a structured format that can be analyzed and interpreted. \n",
    "************************************************************************************************************************\n",
    "\n",
    "Data scientists analyze and interpret data to solve business problems. Initially, data scientists explore data and conduct market research in order to formulate business questions around a specific trend or pain point. Data scientists must then frame business questions as data analytics problems.\n"
   ]
  },
  {
   "cell_type": "code",
   "execution_count": null,
   "id": "43bb1f30",
   "metadata": {},
   "outputs": [],
   "source": []
  },
  {
   "cell_type": "markdown",
   "id": "9c3a2a75",
   "metadata": {},
   "source": [
    "3. In data mining,what is the difference between prediction and categorization?"
   ]
  },
  {
   "cell_type": "markdown",
   "id": "5cce8b63",
   "metadata": {},
   "source": [
    "- Functionality:\n",
    "Classification is about determining a (categorial) class (or label) for an element in a dataset\n",
    "Prediction is about predicting a missing/unknown element(continuous value) of a dataset\n",
    "************************************************************************************************************************\n",
    "- Working Strategy:\n",
    "In classification, data is grouped into categories based on a training dataset.\n",
    "In prediction, a classification/regression model is built to predict the outcome(continuous value)\n",
    "\n"
   ]
  },
  {
   "cell_type": "code",
   "execution_count": null,
   "id": "06173359",
   "metadata": {},
   "outputs": [],
   "source": []
  },
  {
   "cell_type": "markdown",
   "id": "3d6f12cf",
   "metadata": {},
   "source": [
    "4. Why data science/machine learning is a bad idea in the context of information security?"
   ]
  },
  {
   "cell_type": "markdown",
   "id": "e4f0a384",
   "metadata": {},
   "source": [
    "Machine learning was not designed with security in mind and as such is prone to adversarial manipulation and reverse engineering. While most data-based learning models rely on a static assumption of the world, the security landscape is one that is especially dynamic, with an ongoing never-ending arms race between the system designer and the attackers. \n",
    "Any solution designed for such a domain needs to consider an active adversary  and needs to evolve over time, in the face of emerging threats. We term this as the \"Dynamic Adversarial Mining\" problem\n"
   ]
  },
  {
   "cell_type": "code",
   "execution_count": null,
   "id": "63d22a3e",
   "metadata": {},
   "outputs": [],
   "source": []
  },
  {
   "cell_type": "markdown",
   "id": "e2fd11ac",
   "metadata": {},
   "source": [
    "5. What is CIA principle and how can we use it to access the security/privacy aspect of the AI system/pipelines?"
   ]
  },
  {
   "cell_type": "markdown",
   "id": "655cd2c0",
   "metadata": {},
   "source": [
    "widely-applicable security model is the CIA triad; standing for Confidentiality, Integrity and Availability; three key principles which should be guaranteed in any kind of secure system. This principle is applicable across the whole subject of Security Analysis, from access to a user's internet history to security of encrypted data across the internet. If any one of the three can be breached, it can have serious consequences for the parties concerned\n",
    "In the information security (InfoSec) community, “CIA” has nothing to do with a certain well-recognized US intelligence agency.\n"
   ]
  },
  {
   "cell_type": "code",
   "execution_count": null,
   "id": "142bf304",
   "metadata": {},
   "outputs": [],
   "source": []
  },
  {
   "cell_type": "code",
   "execution_count": 587,
   "id": "d80422e5",
   "metadata": {},
   "outputs": [],
   "source": [
    "# !pip3 install fuzzywuzzy"
   ]
  },
  {
   "cell_type": "code",
   "execution_count": 707,
   "id": "97e5fad4",
   "metadata": {},
   "outputs": [],
   "source": [
    "# !pip install plotly                #if you don't install plotly you can use this code \n",
    "# !pip install cufflinks             #if you don't install cufflinks you can use this code"
   ]
  },
  {
   "cell_type": "markdown",
   "id": "c52e996a",
   "metadata": {},
   "source": [
    "# in this cell i made import to the libraries that i use it "
   ]
  },
  {
   "cell_type": "code",
   "execution_count": 708,
   "id": "7143c6e3",
   "metadata": {},
   "outputs": [
    {
     "data": {
      "text/html": [
       "        <script type=\"text/javascript\">\n",
       "        window.PlotlyConfig = {MathJaxConfig: 'local'};\n",
       "        if (window.MathJax) {MathJax.Hub.Config({SVG: {font: \"STIX-Web\"}});}\n",
       "        if (typeof require !== 'undefined') {\n",
       "        require.undef(\"plotly\");\n",
       "        requirejs.config({\n",
       "            paths: {\n",
       "                'plotly': ['https://cdn.plot.ly/plotly-2.9.0.min']\n",
       "            }\n",
       "        });\n",
       "        require(['plotly'], function(Plotly) {\n",
       "            window._Plotly = Plotly;\n",
       "        });\n",
       "        }\n",
       "        </script>\n",
       "        "
      ]
     },
     "metadata": {},
     "output_type": "display_data"
    },
    {
     "data": {
      "text/html": [
       "        <script type=\"text/javascript\">\n",
       "        window.PlotlyConfig = {MathJaxConfig: 'local'};\n",
       "        if (window.MathJax) {MathJax.Hub.Config({SVG: {font: \"STIX-Web\"}});}\n",
       "        if (typeof require !== 'undefined') {\n",
       "        require.undef(\"plotly\");\n",
       "        requirejs.config({\n",
       "            paths: {\n",
       "                'plotly': ['https://cdn.plot.ly/plotly-2.9.0.min']\n",
       "            }\n",
       "        });\n",
       "        require(['plotly'], function(Plotly) {\n",
       "            window._Plotly = Plotly;\n",
       "        });\n",
       "        }\n",
       "        </script>\n",
       "        "
      ]
     },
     "metadata": {},
     "output_type": "display_data"
    }
   ],
   "source": [
    "import pandas as pd\n",
    "import numpy as np\n",
    "from sklearn.model_selection import train_test_split, GridSearchCV, StratifiedKFold\n",
    "from sklearn.ensemble import RandomForestRegressor, GradientBoostingRegressor\n",
    "from sklearn.svm import SVC\n",
    "from sklearn.preprocessing import StandardScaler\n",
    "from sklearn.metrics import roc_auc_score, roc_curve, auc\n",
    "from sklearn import linear_model\n",
    "from sklearn.linear_model import LassoCV\n",
    "from sklearn.feature_selection import SelectKBest, chi2, f_classif, SelectFromModel, RFECV, VarianceThreshold\n",
    "# from fuzzywuzzy import fuzz,process\n",
    "import matplotlib.pyplot as plt\n",
    "from sklearn.preprocessing import StandardScaler\n",
    "from plotly.offline import iplot, init_notebook_mode\n",
    "import cufflinks as cf\n",
    "import plotly.graph_objs as go\n",
    "# import chart_studio.plotly as py\n",
    "init_notebook_mode(connected=True)\n",
    "cf.go_offline(connected=True)\n",
    "# Set global theme\n",
    "cf.set_config_file(world_readable=True, theme='ggplot')\n",
    "import warnings\n",
    "warnings.filterwarnings(\"ignore\")\n",
    "from sklearn.metrics import accuracy_score\n",
    "from sklearn.metrics import f1_score\n",
    "from sklearn.pipeline import Pipeline"
   ]
  },
  {
   "cell_type": "markdown",
   "id": "50cf6c7c",
   "metadata": {},
   "source": [
    "# first we will combine the training data and test data and make preprocessing on the them at the same time "
   ]
  },
  {
   "cell_type": "code",
   "execution_count": 709,
   "id": "531f37fe",
   "metadata": {},
   "outputs": [
    {
     "data": {
      "text/plain": [
       "(1573, 34)"
      ]
     },
     "execution_count": 709,
     "metadata": {},
     "output_type": "execute_result"
    }
   ],
   "source": [
    "train_data=pd.read_csv('train_new.csv')  #Load traind_new Dataset \n",
    "test_data = pd.read_csv('test_new.csv')  #Load test_new Dataset \n",
    "test_data['rating'] = 0 #make column called rating in test_new dataset\n",
    "df = pd.concat([train_data, test_data], ignore_index=True, sort=False) #concatenate the train_new dataset and test_new dataset\n",
    "                                                                       #and combine them in dataset called df\n",
    "df.shape #show df shape"
   ]
  },
  {
   "cell_type": "code",
   "execution_count": 710,
   "id": "004219ae",
   "metadata": {},
   "outputs": [
    {
     "name": "stdout",
     "output_type": "stream",
     "text": [
      "<class 'pandas.core.frame.DataFrame'>\n",
      "RangeIndex: 1573 entries, 0 to 1572\n",
      "Data columns (total 34 columns):\n",
      " #   Column                        Non-Null Count  Dtype  \n",
      "---  ------                        --------------  -----  \n",
      " 0   price                         1573 non-null   float64\n",
      " 1   retail_price                  1573 non-null   int64  \n",
      " 2   currency_buyer                1573 non-null   object \n",
      " 3   units_sold                    1573 non-null   int64  \n",
      " 4   uses_ad_boosts                1573 non-null   int64  \n",
      " 5   rating                        1573 non-null   int64  \n",
      " 6   rating_count                  1573 non-null   int64  \n",
      " 7   badges_count                  1573 non-null   int64  \n",
      " 8   badge_local_product           1573 non-null   int64  \n",
      " 9   badge_product_quality         1573 non-null   int64  \n",
      " 10  badge_fast_shipping           1573 non-null   int64  \n",
      " 11  tags                          1573 non-null   object \n",
      " 12  product_color                 1532 non-null   object \n",
      " 13  product_variation_size_id     1559 non-null   object \n",
      " 14  product_variation_inventory   1573 non-null   int64  \n",
      " 15  shipping_option_name          1573 non-null   object \n",
      " 16  shipping_option_price         1573 non-null   int64  \n",
      " 17  shipping_is_express           1573 non-null   int64  \n",
      " 18  countries_shipped_to          1573 non-null   int64  \n",
      " 19  inventory_total               1573 non-null   int64  \n",
      " 20  has_urgency_banner            473 non-null    float64\n",
      " 21  urgency_text                  473 non-null    object \n",
      " 22  origin_country                1556 non-null   object \n",
      " 23  merchant_title                1573 non-null   object \n",
      " 24  merchant_name                 1569 non-null   object \n",
      " 25  merchant_info_subtitle        1572 non-null   object \n",
      " 26  merchant_rating_count         1573 non-null   int64  \n",
      " 27  merchant_rating               1573 non-null   float64\n",
      " 28  merchant_id                   1573 non-null   object \n",
      " 29  merchant_has_profile_picture  1573 non-null   int64  \n",
      " 30  merchant_profile_picture      226 non-null    object \n",
      " 31  theme                         1573 non-null   object \n",
      " 32  crawl_month                   1573 non-null   object \n",
      " 33  id                            1573 non-null   int64  \n",
      "dtypes: float64(3), int64(17), object(14)\n",
      "memory usage: 418.0+ KB\n"
     ]
    }
   ],
   "source": [
    "df.info()  #show some details on the df using method info()"
   ]
  },
  {
   "cell_type": "code",
   "execution_count": 711,
   "id": "237b695c",
   "metadata": {
    "scrolled": false
   },
   "outputs": [
    {
     "name": "stdout",
     "output_type": "stream",
     "text": [
      "\n",
      "*****************check the values of each colomun are unique or not and how many number for each one*****************\n",
      "price                            129\n",
      "retail_price                     104\n",
      "currency_buyer                     1\n",
      "units_sold                        15\n",
      "uses_ad_boosts                     2\n",
      "rating                             7\n",
      "rating_count                     761\n",
      "badges_count                       4\n",
      "badge_local_product                2\n",
      "badge_product_quality              2\n",
      "badge_fast_shipping                2\n",
      "tags                            1230\n",
      "product_color                    101\n",
      "product_variation_size_id        106\n",
      "product_variation_inventory       48\n",
      "shipping_option_name              16\n",
      "shipping_option_price              8\n",
      "shipping_is_express                2\n",
      "countries_shipped_to              94\n",
      "inventory_total                   10\n",
      "has_urgency_banner                 1\n",
      "urgency_text                       2\n",
      "origin_country                     6\n",
      "merchant_title                   958\n",
      "merchant_name                    957\n",
      "merchant_info_subtitle          1058\n",
      "merchant_rating_count            917\n",
      "merchant_rating                 1137\n",
      "merchant_id                      958\n",
      "merchant_has_profile_picture       2\n",
      "merchant_profile_picture         125\n",
      "theme                              1\n",
      "crawl_month                        1\n",
      "id                              1573\n",
      "dtype: int64\n"
     ]
    }
   ],
   "source": [
    "print('\\n*****************check the values of each colomun are unique or not and how many number for each one*****************')\n",
    "print(df.nunique())  #check the values of each colomun are unique or not and how many number for each one\n"
   ]
  },
  {
   "cell_type": "markdown",
   "id": "3edc699d",
   "metadata": {},
   "source": [
    "# theme Column"
   ]
  },
  {
   "cell_type": "code",
   "execution_count": 712,
   "id": "05c01789",
   "metadata": {},
   "outputs": [
    {
     "data": {
      "text/plain": [
       "summer    1573\n",
       "Name: theme, dtype: int64"
      ]
     },
     "execution_count": 712,
     "metadata": {},
     "output_type": "execute_result"
    }
   ],
   "source": [
    "df.theme.value_counts() #show the valuse of the column and the number of repeats"
   ]
  },
  {
   "cell_type": "code",
   "execution_count": 713,
   "id": "471d3fdc",
   "metadata": {},
   "outputs": [],
   "source": [
    "df.drop('theme', axis=1, inplace=True) #in this line i dropped the theme column because it contain only one value "
   ]
  },
  {
   "cell_type": "markdown",
   "id": "792dd9c7",
   "metadata": {},
   "source": [
    "# Urgency Text and Urgency Banner\n",
    "Both columns have null values, and in very large number so i drop them."
   ]
  },
  {
   "cell_type": "code",
   "execution_count": 714,
   "id": "7ff31945",
   "metadata": {},
   "outputs": [],
   "source": [
    "#drop two columns urgency_text','has_urgency_banner\n",
    "\n",
    "df.drop(['urgency_text','has_urgency_banner'], inplace=True,axis=1) "
   ]
  },
  {
   "cell_type": "markdown",
   "id": "578865c3",
   "metadata": {},
   "source": [
    "# Badges Columns\n",
    "convert 'badge_local_product', 'badge_product_quality', 'badge_fast_shipping' into categorical values"
   ]
  },
  {
   "cell_type": "code",
   "execution_count": 715,
   "id": "43ee834a",
   "metadata": {},
   "outputs": [
    {
     "data": {
      "text/plain": [
       "Index(['badges_count', 'badge_local_product', 'badge_product_quality',\n",
       "       'badge_fast_shipping'],\n",
       "      dtype='object')"
      ]
     },
     "execution_count": 715,
     "metadata": {},
     "output_type": "execute_result"
    }
   ],
   "source": [
    "#this bring all columns that start with badge \n",
    "df.loc[:,df.columns.str.startswith('badge')].columns"
   ]
  },
  {
   "cell_type": "code",
   "execution_count": 716,
   "id": "f82e8911",
   "metadata": {},
   "outputs": [
    {
     "name": "stdout",
     "output_type": "stream",
     "text": [
      "<class 'pandas.core.frame.DataFrame'>\n",
      "RangeIndex: 1573 entries, 0 to 1572\n",
      "Data columns (total 31 columns):\n",
      " #   Column                        Non-Null Count  Dtype  \n",
      "---  ------                        --------------  -----  \n",
      " 0   price                         1573 non-null   float64\n",
      " 1   retail_price                  1573 non-null   int64  \n",
      " 2   currency_buyer                1573 non-null   object \n",
      " 3   units_sold                    1573 non-null   int64  \n",
      " 4   uses_ad_boosts                1573 non-null   int64  \n",
      " 5   rating                        1573 non-null   int64  \n",
      " 6   rating_count                  1573 non-null   int64  \n",
      " 7   badges_count                  1573 non-null   int64  \n",
      " 8   badge_local_product           1573 non-null   object \n",
      " 9   badge_product_quality         1573 non-null   object \n",
      " 10  badge_fast_shipping           1573 non-null   object \n",
      " 11  tags                          1573 non-null   object \n",
      " 12  product_color                 1532 non-null   object \n",
      " 13  product_variation_size_id     1559 non-null   object \n",
      " 14  product_variation_inventory   1573 non-null   int64  \n",
      " 15  shipping_option_name          1573 non-null   object \n",
      " 16  shipping_option_price         1573 non-null   int64  \n",
      " 17  shipping_is_express           1573 non-null   int64  \n",
      " 18  countries_shipped_to          1573 non-null   int64  \n",
      " 19  inventory_total               1573 non-null   int64  \n",
      " 20  origin_country                1556 non-null   object \n",
      " 21  merchant_title                1573 non-null   object \n",
      " 22  merchant_name                 1569 non-null   object \n",
      " 23  merchant_info_subtitle        1572 non-null   object \n",
      " 24  merchant_rating_count         1573 non-null   int64  \n",
      " 25  merchant_rating               1573 non-null   float64\n",
      " 26  merchant_id                   1573 non-null   object \n",
      " 27  merchant_has_profile_picture  1573 non-null   int64  \n",
      " 28  merchant_profile_picture      226 non-null    object \n",
      " 29  crawl_month                   1573 non-null   object \n",
      " 30  id                            1573 non-null   int64  \n",
      "dtypes: float64(2), int64(14), object(15)\n",
      "memory usage: 381.1+ KB\n"
     ]
    }
   ],
   "source": [
    "#in this cell i convert the valuse of this columns to \n",
    "#Categorical values to show to the model that it is categorical \n",
    "df[['badge_local_product', 'badge_product_quality',         \n",
    "    'badge_fast_shipping']] = df[['badge_local_product',                                             \n",
    "                                  'badge_product_quality','badge_fast_shipping']].astype(str)\n",
    "df.info()"
   ]
  },
  {
   "cell_type": "code",
   "execution_count": 717,
   "id": "955da887",
   "metadata": {},
   "outputs": [
    {
     "data": {
      "text/plain": [
       "0    1553\n",
       "1      20\n",
       "Name: badge_fast_shipping, dtype: int64"
      ]
     },
     "execution_count": 717,
     "metadata": {},
     "output_type": "execute_result"
    }
   ],
   "source": [
    "df.badge_fast_shipping.value_counts()"
   ]
  },
  {
   "cell_type": "code",
   "execution_count": 718,
   "id": "d42c118f",
   "metadata": {},
   "outputs": [],
   "source": [
    "# df.drop('badge_fast_shipping' , inplace=True , axis=1)"
   ]
  },
  {
   "cell_type": "markdown",
   "id": "fd896774",
   "metadata": {},
   "source": [
    "# Currency Column\n",
    "\n"
   ]
  },
  {
   "cell_type": "code",
   "execution_count": 719,
   "id": "84b59339",
   "metadata": {},
   "outputs": [
    {
     "data": {
      "text/plain": [
       "array(['EUR'], dtype=object)"
      ]
     },
     "execution_count": 719,
     "metadata": {},
     "output_type": "execute_result"
    }
   ],
   "source": [
    "#in this cell i show if this col has alot of values \n",
    "df.currency_buyer.unique()"
   ]
  },
  {
   "cell_type": "markdown",
   "id": "5e65e9ed",
   "metadata": {},
   "source": [
    "currency is only in euros. drop the column"
   ]
  },
  {
   "cell_type": "code",
   "execution_count": 720,
   "id": "86da54c6",
   "metadata": {},
   "outputs": [],
   "source": [
    "df.drop('currency_buyer', inplace=True, axis=1)    #drop the column"
   ]
  },
  {
   "cell_type": "markdown",
   "id": "fbae3fd4",
   "metadata": {},
   "source": [
    "# in this step we fill the null values by ffill method  "
   ]
  },
  {
   "cell_type": "code",
   "execution_count": 721,
   "id": "8b5c83c8",
   "metadata": {},
   "outputs": [],
   "source": [
    "#propagate last valid observation forward to next valid \n",
    "df['product_variation_size_id']=df['product_variation_size_id'].fillna(method = 'ffill' , axis=0) \n",
    "# df['merchant_info_subtitle']=df['merchant_info_subtitle'].fillna(method = 'ffill' , axis=0)\n",
    "# df['product_color'] = df['product_color'].fillna(method='bfill' , axis=0)"
   ]
  },
  {
   "cell_type": "markdown",
   "id": "1f71741b",
   "metadata": {},
   "source": [
    "# Crawl Month"
   ]
  },
  {
   "cell_type": "code",
   "execution_count": 722,
   "id": "ffb9f800",
   "metadata": {},
   "outputs": [
    {
     "data": {
      "text/plain": [
       "array(['2020-08'], dtype=object)"
      ]
     },
     "execution_count": 722,
     "metadata": {},
     "output_type": "execute_result"
    }
   ],
   "source": [
    "df.crawl_month.unique()     #check the values of crawl_month"
   ]
  },
  {
   "cell_type": "markdown",
   "id": "3a8af8ec",
   "metadata": {},
   "source": [
    "crawl month is only from August,drop this column."
   ]
  },
  {
   "cell_type": "code",
   "execution_count": 723,
   "id": "647cfa2c",
   "metadata": {},
   "outputs": [],
   "source": [
    "df.drop('crawl_month', inplace=True, axis=1) #drop column."
   ]
  },
  {
   "cell_type": "markdown",
   "id": "b1be92e4",
   "metadata": {},
   "source": [
    "# in this figure show the values of rating and the percentage of each one "
   ]
  },
  {
   "cell_type": "code",
   "execution_count": 724,
   "id": "e8808a5b",
   "metadata": {
    "scrolled": false
   },
   "outputs": [
    {
     "data": {
      "application/vnd.plotly.v1+json": {
       "config": {
        "plotlyServerURL": "https://plot.ly"
       },
       "data": [
        {
         "labels": [
          4,
          5,
          3,
          2,
          1,
          6
         ],
         "type": "pie",
         "values": [
          774,
          170,
          135,
          12,
          2,
          1
         ]
        }
       ],
       "layout": {
        "legend": {
         "title": {
          "text": "Target Classes"
         }
        },
        "template": {
         "data": {
          "bar": [
           {
            "error_x": {
             "color": "#f2f5fa"
            },
            "error_y": {
             "color": "#f2f5fa"
            },
            "marker": {
             "line": {
              "color": "rgb(17,17,17)",
              "width": 0.5
             },
             "pattern": {
              "fillmode": "overlay",
              "size": 10,
              "solidity": 0.2
             }
            },
            "type": "bar"
           }
          ],
          "barpolar": [
           {
            "marker": {
             "line": {
              "color": "rgb(17,17,17)",
              "width": 0.5
             },
             "pattern": {
              "fillmode": "overlay",
              "size": 10,
              "solidity": 0.2
             }
            },
            "type": "barpolar"
           }
          ],
          "carpet": [
           {
            "aaxis": {
             "endlinecolor": "#A2B1C6",
             "gridcolor": "#506784",
             "linecolor": "#506784",
             "minorgridcolor": "#506784",
             "startlinecolor": "#A2B1C6"
            },
            "baxis": {
             "endlinecolor": "#A2B1C6",
             "gridcolor": "#506784",
             "linecolor": "#506784",
             "minorgridcolor": "#506784",
             "startlinecolor": "#A2B1C6"
            },
            "type": "carpet"
           }
          ],
          "choropleth": [
           {
            "colorbar": {
             "outlinewidth": 0,
             "ticks": ""
            },
            "type": "choropleth"
           }
          ],
          "contour": [
           {
            "colorbar": {
             "outlinewidth": 0,
             "ticks": ""
            },
            "colorscale": [
             [
              0,
              "#0d0887"
             ],
             [
              0.1111111111111111,
              "#46039f"
             ],
             [
              0.2222222222222222,
              "#7201a8"
             ],
             [
              0.3333333333333333,
              "#9c179e"
             ],
             [
              0.4444444444444444,
              "#bd3786"
             ],
             [
              0.5555555555555556,
              "#d8576b"
             ],
             [
              0.6666666666666666,
              "#ed7953"
             ],
             [
              0.7777777777777778,
              "#fb9f3a"
             ],
             [
              0.8888888888888888,
              "#fdca26"
             ],
             [
              1,
              "#f0f921"
             ]
            ],
            "type": "contour"
           }
          ],
          "contourcarpet": [
           {
            "colorbar": {
             "outlinewidth": 0,
             "ticks": ""
            },
            "type": "contourcarpet"
           }
          ],
          "heatmap": [
           {
            "colorbar": {
             "outlinewidth": 0,
             "ticks": ""
            },
            "colorscale": [
             [
              0,
              "#0d0887"
             ],
             [
              0.1111111111111111,
              "#46039f"
             ],
             [
              0.2222222222222222,
              "#7201a8"
             ],
             [
              0.3333333333333333,
              "#9c179e"
             ],
             [
              0.4444444444444444,
              "#bd3786"
             ],
             [
              0.5555555555555556,
              "#d8576b"
             ],
             [
              0.6666666666666666,
              "#ed7953"
             ],
             [
              0.7777777777777778,
              "#fb9f3a"
             ],
             [
              0.8888888888888888,
              "#fdca26"
             ],
             [
              1,
              "#f0f921"
             ]
            ],
            "type": "heatmap"
           }
          ],
          "heatmapgl": [
           {
            "colorbar": {
             "outlinewidth": 0,
             "ticks": ""
            },
            "colorscale": [
             [
              0,
              "#0d0887"
             ],
             [
              0.1111111111111111,
              "#46039f"
             ],
             [
              0.2222222222222222,
              "#7201a8"
             ],
             [
              0.3333333333333333,
              "#9c179e"
             ],
             [
              0.4444444444444444,
              "#bd3786"
             ],
             [
              0.5555555555555556,
              "#d8576b"
             ],
             [
              0.6666666666666666,
              "#ed7953"
             ],
             [
              0.7777777777777778,
              "#fb9f3a"
             ],
             [
              0.8888888888888888,
              "#fdca26"
             ],
             [
              1,
              "#f0f921"
             ]
            ],
            "type": "heatmapgl"
           }
          ],
          "histogram": [
           {
            "marker": {
             "pattern": {
              "fillmode": "overlay",
              "size": 10,
              "solidity": 0.2
             }
            },
            "type": "histogram"
           }
          ],
          "histogram2d": [
           {
            "colorbar": {
             "outlinewidth": 0,
             "ticks": ""
            },
            "colorscale": [
             [
              0,
              "#0d0887"
             ],
             [
              0.1111111111111111,
              "#46039f"
             ],
             [
              0.2222222222222222,
              "#7201a8"
             ],
             [
              0.3333333333333333,
              "#9c179e"
             ],
             [
              0.4444444444444444,
              "#bd3786"
             ],
             [
              0.5555555555555556,
              "#d8576b"
             ],
             [
              0.6666666666666666,
              "#ed7953"
             ],
             [
              0.7777777777777778,
              "#fb9f3a"
             ],
             [
              0.8888888888888888,
              "#fdca26"
             ],
             [
              1,
              "#f0f921"
             ]
            ],
            "type": "histogram2d"
           }
          ],
          "histogram2dcontour": [
           {
            "colorbar": {
             "outlinewidth": 0,
             "ticks": ""
            },
            "colorscale": [
             [
              0,
              "#0d0887"
             ],
             [
              0.1111111111111111,
              "#46039f"
             ],
             [
              0.2222222222222222,
              "#7201a8"
             ],
             [
              0.3333333333333333,
              "#9c179e"
             ],
             [
              0.4444444444444444,
              "#bd3786"
             ],
             [
              0.5555555555555556,
              "#d8576b"
             ],
             [
              0.6666666666666666,
              "#ed7953"
             ],
             [
              0.7777777777777778,
              "#fb9f3a"
             ],
             [
              0.8888888888888888,
              "#fdca26"
             ],
             [
              1,
              "#f0f921"
             ]
            ],
            "type": "histogram2dcontour"
           }
          ],
          "mesh3d": [
           {
            "colorbar": {
             "outlinewidth": 0,
             "ticks": ""
            },
            "type": "mesh3d"
           }
          ],
          "parcoords": [
           {
            "line": {
             "colorbar": {
              "outlinewidth": 0,
              "ticks": ""
             }
            },
            "type": "parcoords"
           }
          ],
          "pie": [
           {
            "automargin": true,
            "type": "pie"
           }
          ],
          "scatter": [
           {
            "marker": {
             "line": {
              "color": "#283442"
             }
            },
            "type": "scatter"
           }
          ],
          "scatter3d": [
           {
            "line": {
             "colorbar": {
              "outlinewidth": 0,
              "ticks": ""
             }
            },
            "marker": {
             "colorbar": {
              "outlinewidth": 0,
              "ticks": ""
             }
            },
            "type": "scatter3d"
           }
          ],
          "scattercarpet": [
           {
            "marker": {
             "colorbar": {
              "outlinewidth": 0,
              "ticks": ""
             }
            },
            "type": "scattercarpet"
           }
          ],
          "scattergeo": [
           {
            "marker": {
             "colorbar": {
              "outlinewidth": 0,
              "ticks": ""
             }
            },
            "type": "scattergeo"
           }
          ],
          "scattergl": [
           {
            "marker": {
             "line": {
              "color": "#283442"
             }
            },
            "type": "scattergl"
           }
          ],
          "scattermapbox": [
           {
            "marker": {
             "colorbar": {
              "outlinewidth": 0,
              "ticks": ""
             }
            },
            "type": "scattermapbox"
           }
          ],
          "scatterpolar": [
           {
            "marker": {
             "colorbar": {
              "outlinewidth": 0,
              "ticks": ""
             }
            },
            "type": "scatterpolar"
           }
          ],
          "scatterpolargl": [
           {
            "marker": {
             "colorbar": {
              "outlinewidth": 0,
              "ticks": ""
             }
            },
            "type": "scatterpolargl"
           }
          ],
          "scatterternary": [
           {
            "marker": {
             "colorbar": {
              "outlinewidth": 0,
              "ticks": ""
             }
            },
            "type": "scatterternary"
           }
          ],
          "surface": [
           {
            "colorbar": {
             "outlinewidth": 0,
             "ticks": ""
            },
            "colorscale": [
             [
              0,
              "#0d0887"
             ],
             [
              0.1111111111111111,
              "#46039f"
             ],
             [
              0.2222222222222222,
              "#7201a8"
             ],
             [
              0.3333333333333333,
              "#9c179e"
             ],
             [
              0.4444444444444444,
              "#bd3786"
             ],
             [
              0.5555555555555556,
              "#d8576b"
             ],
             [
              0.6666666666666666,
              "#ed7953"
             ],
             [
              0.7777777777777778,
              "#fb9f3a"
             ],
             [
              0.8888888888888888,
              "#fdca26"
             ],
             [
              1,
              "#f0f921"
             ]
            ],
            "type": "surface"
           }
          ],
          "table": [
           {
            "cells": {
             "fill": {
              "color": "#506784"
             },
             "line": {
              "color": "rgb(17,17,17)"
             }
            },
            "header": {
             "fill": {
              "color": "#2a3f5f"
             },
             "line": {
              "color": "rgb(17,17,17)"
             }
            },
            "type": "table"
           }
          ]
         },
         "layout": {
          "annotationdefaults": {
           "arrowcolor": "#f2f5fa",
           "arrowhead": 0,
           "arrowwidth": 1
          },
          "autotypenumbers": "strict",
          "coloraxis": {
           "colorbar": {
            "outlinewidth": 0,
            "ticks": ""
           }
          },
          "colorscale": {
           "diverging": [
            [
             0,
             "#8e0152"
            ],
            [
             0.1,
             "#c51b7d"
            ],
            [
             0.2,
             "#de77ae"
            ],
            [
             0.3,
             "#f1b6da"
            ],
            [
             0.4,
             "#fde0ef"
            ],
            [
             0.5,
             "#f7f7f7"
            ],
            [
             0.6,
             "#e6f5d0"
            ],
            [
             0.7,
             "#b8e186"
            ],
            [
             0.8,
             "#7fbc41"
            ],
            [
             0.9,
             "#4d9221"
            ],
            [
             1,
             "#276419"
            ]
           ],
           "sequential": [
            [
             0,
             "#0d0887"
            ],
            [
             0.1111111111111111,
             "#46039f"
            ],
            [
             0.2222222222222222,
             "#7201a8"
            ],
            [
             0.3333333333333333,
             "#9c179e"
            ],
            [
             0.4444444444444444,
             "#bd3786"
            ],
            [
             0.5555555555555556,
             "#d8576b"
            ],
            [
             0.6666666666666666,
             "#ed7953"
            ],
            [
             0.7777777777777778,
             "#fb9f3a"
            ],
            [
             0.8888888888888888,
             "#fdca26"
            ],
            [
             1,
             "#f0f921"
            ]
           ],
           "sequentialminus": [
            [
             0,
             "#0d0887"
            ],
            [
             0.1111111111111111,
             "#46039f"
            ],
            [
             0.2222222222222222,
             "#7201a8"
            ],
            [
             0.3333333333333333,
             "#9c179e"
            ],
            [
             0.4444444444444444,
             "#bd3786"
            ],
            [
             0.5555555555555556,
             "#d8576b"
            ],
            [
             0.6666666666666666,
             "#ed7953"
            ],
            [
             0.7777777777777778,
             "#fb9f3a"
            ],
            [
             0.8888888888888888,
             "#fdca26"
            ],
            [
             1,
             "#f0f921"
            ]
           ]
          },
          "colorway": [
           "#636efa",
           "#EF553B",
           "#00cc96",
           "#ab63fa",
           "#FFA15A",
           "#19d3f3",
           "#FF6692",
           "#B6E880",
           "#FF97FF",
           "#FECB52"
          ],
          "font": {
           "color": "#f2f5fa"
          },
          "geo": {
           "bgcolor": "rgb(17,17,17)",
           "lakecolor": "rgb(17,17,17)",
           "landcolor": "rgb(17,17,17)",
           "showlakes": true,
           "showland": true,
           "subunitcolor": "#506784"
          },
          "hoverlabel": {
           "align": "left"
          },
          "hovermode": "closest",
          "mapbox": {
           "style": "dark"
          },
          "paper_bgcolor": "rgb(17,17,17)",
          "plot_bgcolor": "rgb(17,17,17)",
          "polar": {
           "angularaxis": {
            "gridcolor": "#506784",
            "linecolor": "#506784",
            "ticks": ""
           },
           "bgcolor": "rgb(17,17,17)",
           "radialaxis": {
            "gridcolor": "#506784",
            "linecolor": "#506784",
            "ticks": ""
           }
          },
          "scene": {
           "xaxis": {
            "backgroundcolor": "rgb(17,17,17)",
            "gridcolor": "#506784",
            "gridwidth": 2,
            "linecolor": "#506784",
            "showbackground": true,
            "ticks": "",
            "zerolinecolor": "#C8D4E3"
           },
           "yaxis": {
            "backgroundcolor": "rgb(17,17,17)",
            "gridcolor": "#506784",
            "gridwidth": 2,
            "linecolor": "#506784",
            "showbackground": true,
            "ticks": "",
            "zerolinecolor": "#C8D4E3"
           },
           "zaxis": {
            "backgroundcolor": "rgb(17,17,17)",
            "gridcolor": "#506784",
            "gridwidth": 2,
            "linecolor": "#506784",
            "showbackground": true,
            "ticks": "",
            "zerolinecolor": "#C8D4E3"
           }
          },
          "shapedefaults": {
           "line": {
            "color": "#f2f5fa"
           }
          },
          "sliderdefaults": {
           "bgcolor": "#C8D4E3",
           "bordercolor": "rgb(17,17,17)",
           "borderwidth": 1,
           "tickwidth": 0
          },
          "ternary": {
           "aaxis": {
            "gridcolor": "#506784",
            "linecolor": "#506784",
            "ticks": ""
           },
           "baxis": {
            "gridcolor": "#506784",
            "linecolor": "#506784",
            "ticks": ""
           },
           "bgcolor": "rgb(17,17,17)",
           "caxis": {
            "gridcolor": "#506784",
            "linecolor": "#506784",
            "ticks": ""
           }
          },
          "title": {
           "x": 0.05
          },
          "updatemenudefaults": {
           "bgcolor": "#506784",
           "borderwidth": 0
          },
          "xaxis": {
           "automargin": true,
           "gridcolor": "#283442",
           "linecolor": "#506784",
           "ticks": "",
           "title": {
            "standoff": 15
           },
           "zerolinecolor": "#283442",
           "zerolinewidth": 2
          },
          "yaxis": {
           "automargin": true,
           "gridcolor": "#283442",
           "linecolor": "#506784",
           "ticks": "",
           "title": {
            "standoff": 15
           },
           "zerolinecolor": "#283442",
           "zerolinewidth": 2
          }
         }
        },
        "title": {
         "text": "Imbalances in Dependent Classes"
        }
       }
      },
      "text/html": [
       "<div>                            <div id=\"c9dc66c1-5679-43fb-8d0f-e51f97dba947\" class=\"plotly-graph-div\" style=\"height:525px; width:100%;\"></div>            <script type=\"text/javascript\">                require([\"plotly\"], function(Plotly) {                    window.PLOTLYENV=window.PLOTLYENV || {};                                    if (document.getElementById(\"c9dc66c1-5679-43fb-8d0f-e51f97dba947\")) {                    Plotly.newPlot(                        \"c9dc66c1-5679-43fb-8d0f-e51f97dba947\",                        [{\"labels\":[4,5,3,2,1,6],\"values\":[774,170,135,12,2,1],\"type\":\"pie\"}],                        {\"template\":{\"data\":{\"barpolar\":[{\"marker\":{\"line\":{\"color\":\"rgb(17,17,17)\",\"width\":0.5},\"pattern\":{\"fillmode\":\"overlay\",\"size\":10,\"solidity\":0.2}},\"type\":\"barpolar\"}],\"bar\":[{\"error_x\":{\"color\":\"#f2f5fa\"},\"error_y\":{\"color\":\"#f2f5fa\"},\"marker\":{\"line\":{\"color\":\"rgb(17,17,17)\",\"width\":0.5},\"pattern\":{\"fillmode\":\"overlay\",\"size\":10,\"solidity\":0.2}},\"type\":\"bar\"}],\"carpet\":[{\"aaxis\":{\"endlinecolor\":\"#A2B1C6\",\"gridcolor\":\"#506784\",\"linecolor\":\"#506784\",\"minorgridcolor\":\"#506784\",\"startlinecolor\":\"#A2B1C6\"},\"baxis\":{\"endlinecolor\":\"#A2B1C6\",\"gridcolor\":\"#506784\",\"linecolor\":\"#506784\",\"minorgridcolor\":\"#506784\",\"startlinecolor\":\"#A2B1C6\"},\"type\":\"carpet\"}],\"choropleth\":[{\"colorbar\":{\"outlinewidth\":0,\"ticks\":\"\"},\"type\":\"choropleth\"}],\"contourcarpet\":[{\"colorbar\":{\"outlinewidth\":0,\"ticks\":\"\"},\"type\":\"contourcarpet\"}],\"contour\":[{\"colorbar\":{\"outlinewidth\":0,\"ticks\":\"\"},\"colorscale\":[[0.0,\"#0d0887\"],[0.1111111111111111,\"#46039f\"],[0.2222222222222222,\"#7201a8\"],[0.3333333333333333,\"#9c179e\"],[0.4444444444444444,\"#bd3786\"],[0.5555555555555556,\"#d8576b\"],[0.6666666666666666,\"#ed7953\"],[0.7777777777777778,\"#fb9f3a\"],[0.8888888888888888,\"#fdca26\"],[1.0,\"#f0f921\"]],\"type\":\"contour\"}],\"heatmapgl\":[{\"colorbar\":{\"outlinewidth\":0,\"ticks\":\"\"},\"colorscale\":[[0.0,\"#0d0887\"],[0.1111111111111111,\"#46039f\"],[0.2222222222222222,\"#7201a8\"],[0.3333333333333333,\"#9c179e\"],[0.4444444444444444,\"#bd3786\"],[0.5555555555555556,\"#d8576b\"],[0.6666666666666666,\"#ed7953\"],[0.7777777777777778,\"#fb9f3a\"],[0.8888888888888888,\"#fdca26\"],[1.0,\"#f0f921\"]],\"type\":\"heatmapgl\"}],\"heatmap\":[{\"colorbar\":{\"outlinewidth\":0,\"ticks\":\"\"},\"colorscale\":[[0.0,\"#0d0887\"],[0.1111111111111111,\"#46039f\"],[0.2222222222222222,\"#7201a8\"],[0.3333333333333333,\"#9c179e\"],[0.4444444444444444,\"#bd3786\"],[0.5555555555555556,\"#d8576b\"],[0.6666666666666666,\"#ed7953\"],[0.7777777777777778,\"#fb9f3a\"],[0.8888888888888888,\"#fdca26\"],[1.0,\"#f0f921\"]],\"type\":\"heatmap\"}],\"histogram2dcontour\":[{\"colorbar\":{\"outlinewidth\":0,\"ticks\":\"\"},\"colorscale\":[[0.0,\"#0d0887\"],[0.1111111111111111,\"#46039f\"],[0.2222222222222222,\"#7201a8\"],[0.3333333333333333,\"#9c179e\"],[0.4444444444444444,\"#bd3786\"],[0.5555555555555556,\"#d8576b\"],[0.6666666666666666,\"#ed7953\"],[0.7777777777777778,\"#fb9f3a\"],[0.8888888888888888,\"#fdca26\"],[1.0,\"#f0f921\"]],\"type\":\"histogram2dcontour\"}],\"histogram2d\":[{\"colorbar\":{\"outlinewidth\":0,\"ticks\":\"\"},\"colorscale\":[[0.0,\"#0d0887\"],[0.1111111111111111,\"#46039f\"],[0.2222222222222222,\"#7201a8\"],[0.3333333333333333,\"#9c179e\"],[0.4444444444444444,\"#bd3786\"],[0.5555555555555556,\"#d8576b\"],[0.6666666666666666,\"#ed7953\"],[0.7777777777777778,\"#fb9f3a\"],[0.8888888888888888,\"#fdca26\"],[1.0,\"#f0f921\"]],\"type\":\"histogram2d\"}],\"histogram\":[{\"marker\":{\"pattern\":{\"fillmode\":\"overlay\",\"size\":10,\"solidity\":0.2}},\"type\":\"histogram\"}],\"mesh3d\":[{\"colorbar\":{\"outlinewidth\":0,\"ticks\":\"\"},\"type\":\"mesh3d\"}],\"parcoords\":[{\"line\":{\"colorbar\":{\"outlinewidth\":0,\"ticks\":\"\"}},\"type\":\"parcoords\"}],\"pie\":[{\"automargin\":true,\"type\":\"pie\"}],\"scatter3d\":[{\"line\":{\"colorbar\":{\"outlinewidth\":0,\"ticks\":\"\"}},\"marker\":{\"colorbar\":{\"outlinewidth\":0,\"ticks\":\"\"}},\"type\":\"scatter3d\"}],\"scattercarpet\":[{\"marker\":{\"colorbar\":{\"outlinewidth\":0,\"ticks\":\"\"}},\"type\":\"scattercarpet\"}],\"scattergeo\":[{\"marker\":{\"colorbar\":{\"outlinewidth\":0,\"ticks\":\"\"}},\"type\":\"scattergeo\"}],\"scattergl\":[{\"marker\":{\"line\":{\"color\":\"#283442\"}},\"type\":\"scattergl\"}],\"scattermapbox\":[{\"marker\":{\"colorbar\":{\"outlinewidth\":0,\"ticks\":\"\"}},\"type\":\"scattermapbox\"}],\"scatterpolargl\":[{\"marker\":{\"colorbar\":{\"outlinewidth\":0,\"ticks\":\"\"}},\"type\":\"scatterpolargl\"}],\"scatterpolar\":[{\"marker\":{\"colorbar\":{\"outlinewidth\":0,\"ticks\":\"\"}},\"type\":\"scatterpolar\"}],\"scatter\":[{\"marker\":{\"line\":{\"color\":\"#283442\"}},\"type\":\"scatter\"}],\"scatterternary\":[{\"marker\":{\"colorbar\":{\"outlinewidth\":0,\"ticks\":\"\"}},\"type\":\"scatterternary\"}],\"surface\":[{\"colorbar\":{\"outlinewidth\":0,\"ticks\":\"\"},\"colorscale\":[[0.0,\"#0d0887\"],[0.1111111111111111,\"#46039f\"],[0.2222222222222222,\"#7201a8\"],[0.3333333333333333,\"#9c179e\"],[0.4444444444444444,\"#bd3786\"],[0.5555555555555556,\"#d8576b\"],[0.6666666666666666,\"#ed7953\"],[0.7777777777777778,\"#fb9f3a\"],[0.8888888888888888,\"#fdca26\"],[1.0,\"#f0f921\"]],\"type\":\"surface\"}],\"table\":[{\"cells\":{\"fill\":{\"color\":\"#506784\"},\"line\":{\"color\":\"rgb(17,17,17)\"}},\"header\":{\"fill\":{\"color\":\"#2a3f5f\"},\"line\":{\"color\":\"rgb(17,17,17)\"}},\"type\":\"table\"}]},\"layout\":{\"annotationdefaults\":{\"arrowcolor\":\"#f2f5fa\",\"arrowhead\":0,\"arrowwidth\":1},\"autotypenumbers\":\"strict\",\"coloraxis\":{\"colorbar\":{\"outlinewidth\":0,\"ticks\":\"\"}},\"colorscale\":{\"diverging\":[[0,\"#8e0152\"],[0.1,\"#c51b7d\"],[0.2,\"#de77ae\"],[0.3,\"#f1b6da\"],[0.4,\"#fde0ef\"],[0.5,\"#f7f7f7\"],[0.6,\"#e6f5d0\"],[0.7,\"#b8e186\"],[0.8,\"#7fbc41\"],[0.9,\"#4d9221\"],[1,\"#276419\"]],\"sequential\":[[0.0,\"#0d0887\"],[0.1111111111111111,\"#46039f\"],[0.2222222222222222,\"#7201a8\"],[0.3333333333333333,\"#9c179e\"],[0.4444444444444444,\"#bd3786\"],[0.5555555555555556,\"#d8576b\"],[0.6666666666666666,\"#ed7953\"],[0.7777777777777778,\"#fb9f3a\"],[0.8888888888888888,\"#fdca26\"],[1.0,\"#f0f921\"]],\"sequentialminus\":[[0.0,\"#0d0887\"],[0.1111111111111111,\"#46039f\"],[0.2222222222222222,\"#7201a8\"],[0.3333333333333333,\"#9c179e\"],[0.4444444444444444,\"#bd3786\"],[0.5555555555555556,\"#d8576b\"],[0.6666666666666666,\"#ed7953\"],[0.7777777777777778,\"#fb9f3a\"],[0.8888888888888888,\"#fdca26\"],[1.0,\"#f0f921\"]]},\"colorway\":[\"#636efa\",\"#EF553B\",\"#00cc96\",\"#ab63fa\",\"#FFA15A\",\"#19d3f3\",\"#FF6692\",\"#B6E880\",\"#FF97FF\",\"#FECB52\"],\"font\":{\"color\":\"#f2f5fa\"},\"geo\":{\"bgcolor\":\"rgb(17,17,17)\",\"lakecolor\":\"rgb(17,17,17)\",\"landcolor\":\"rgb(17,17,17)\",\"showlakes\":true,\"showland\":true,\"subunitcolor\":\"#506784\"},\"hoverlabel\":{\"align\":\"left\"},\"hovermode\":\"closest\",\"mapbox\":{\"style\":\"dark\"},\"paper_bgcolor\":\"rgb(17,17,17)\",\"plot_bgcolor\":\"rgb(17,17,17)\",\"polar\":{\"angularaxis\":{\"gridcolor\":\"#506784\",\"linecolor\":\"#506784\",\"ticks\":\"\"},\"bgcolor\":\"rgb(17,17,17)\",\"radialaxis\":{\"gridcolor\":\"#506784\",\"linecolor\":\"#506784\",\"ticks\":\"\"}},\"scene\":{\"xaxis\":{\"backgroundcolor\":\"rgb(17,17,17)\",\"gridcolor\":\"#506784\",\"gridwidth\":2,\"linecolor\":\"#506784\",\"showbackground\":true,\"ticks\":\"\",\"zerolinecolor\":\"#C8D4E3\"},\"yaxis\":{\"backgroundcolor\":\"rgb(17,17,17)\",\"gridcolor\":\"#506784\",\"gridwidth\":2,\"linecolor\":\"#506784\",\"showbackground\":true,\"ticks\":\"\",\"zerolinecolor\":\"#C8D4E3\"},\"zaxis\":{\"backgroundcolor\":\"rgb(17,17,17)\",\"gridcolor\":\"#506784\",\"gridwidth\":2,\"linecolor\":\"#506784\",\"showbackground\":true,\"ticks\":\"\",\"zerolinecolor\":\"#C8D4E3\"}},\"shapedefaults\":{\"line\":{\"color\":\"#f2f5fa\"}},\"sliderdefaults\":{\"bgcolor\":\"#C8D4E3\",\"bordercolor\":\"rgb(17,17,17)\",\"borderwidth\":1,\"tickwidth\":0},\"ternary\":{\"aaxis\":{\"gridcolor\":\"#506784\",\"linecolor\":\"#506784\",\"ticks\":\"\"},\"baxis\":{\"gridcolor\":\"#506784\",\"linecolor\":\"#506784\",\"ticks\":\"\"},\"bgcolor\":\"rgb(17,17,17)\",\"caxis\":{\"gridcolor\":\"#506784\",\"linecolor\":\"#506784\",\"ticks\":\"\"}},\"title\":{\"x\":0.05},\"updatemenudefaults\":{\"bgcolor\":\"#506784\",\"borderwidth\":0},\"xaxis\":{\"automargin\":true,\"gridcolor\":\"#283442\",\"linecolor\":\"#506784\",\"ticks\":\"\",\"title\":{\"standoff\":15},\"zerolinecolor\":\"#283442\",\"zerolinewidth\":2},\"yaxis\":{\"automargin\":true,\"gridcolor\":\"#283442\",\"linecolor\":\"#506784\",\"ticks\":\"\",\"title\":{\"standoff\":15},\"zerolinecolor\":\"#283442\",\"zerolinewidth\":2}}},\"title\":{\"text\":\"Imbalances in Dependent Classes\"},\"legend\":{\"title\":{\"text\":\"Target Classes\"}}},                        {\"responsive\": true}                    ).then(function(){\n",
       "                            \n",
       "var gd = document.getElementById('c9dc66c1-5679-43fb-8d0f-e51f97dba947');\n",
       "var x = new MutationObserver(function (mutations, observer) {{\n",
       "        var display = window.getComputedStyle(gd).display;\n",
       "        if (!display || display === 'none') {{\n",
       "            console.log([gd, 'removed!']);\n",
       "            Plotly.purge(gd);\n",
       "            observer.disconnect();\n",
       "        }}\n",
       "}});\n",
       "\n",
       "// Listen for the removal of the full notebook cells\n",
       "var notebookContainer = gd.closest('#notebook-container');\n",
       "if (notebookContainer) {{\n",
       "    x.observe(notebookContainer, {childList: true});\n",
       "}}\n",
       "\n",
       "// Listen for the clearing of the current output cell\n",
       "var outputEl = gd.closest('.output');\n",
       "if (outputEl) {{\n",
       "    x.observe(outputEl, {childList: true});\n",
       "}}\n",
       "\n",
       "                        })                };                });            </script>        </div>"
      ]
     },
     "metadata": {},
     "output_type": "display_data"
    }
   ],
   "source": [
    "#this show the rating of train dataset so it stell has value equal 6 \"this file without any  update\"\n",
    "dependent_classes_labels= train_data.rating.value_counts().index.values  \n",
    "dependent_classes_values = train_data.rating.value_counts().values\n",
    "fig = go.Figure()\n",
    "fig.add_trace(go.Pie(labels=dependent_classes_labels, values=dependent_classes_values))\n",
    "fig.update_layout(title=\"Imbalances in Dependent Classes\", legend_title=\"Target Classes\", template=\"plotly_dark\")"
   ]
  },
  {
   "cell_type": "markdown",
   "id": "39d1c043",
   "metadata": {},
   "source": [
    "# check the values of rating column "
   ]
  },
  {
   "cell_type": "code",
   "execution_count": 725,
   "id": "2376d3d7",
   "metadata": {},
   "outputs": [
    {
     "data": {
      "text/plain": [
       "4    774\n",
       "0    479\n",
       "5    170\n",
       "3    135\n",
       "2     12\n",
       "1      2\n",
       "6      1\n",
       "Name: rating, dtype: int64"
      ]
     },
     "execution_count": 725,
     "metadata": {},
     "output_type": "execute_result"
    }
   ],
   "source": [
    "df.rating.value_counts()  #check the values of rating should be from 1 to 5 only "
   ]
  },
  {
   "cell_type": "code",
   "execution_count": 726,
   "id": "f3d2a6cb",
   "metadata": {},
   "outputs": [
    {
     "data": {
      "text/html": [
       "<div>\n",
       "<style scoped>\n",
       "    .dataframe tbody tr th:only-of-type {\n",
       "        vertical-align: middle;\n",
       "    }\n",
       "\n",
       "    .dataframe tbody tr th {\n",
       "        vertical-align: top;\n",
       "    }\n",
       "\n",
       "    .dataframe thead th {\n",
       "        text-align: right;\n",
       "    }\n",
       "</style>\n",
       "<table border=\"1\" class=\"dataframe\">\n",
       "  <thead>\n",
       "    <tr style=\"text-align: right;\">\n",
       "      <th></th>\n",
       "      <th>price</th>\n",
       "      <th>retail_price</th>\n",
       "      <th>units_sold</th>\n",
       "      <th>uses_ad_boosts</th>\n",
       "      <th>rating</th>\n",
       "      <th>rating_count</th>\n",
       "      <th>badges_count</th>\n",
       "      <th>badge_local_product</th>\n",
       "      <th>badge_product_quality</th>\n",
       "      <th>badge_fast_shipping</th>\n",
       "      <th>...</th>\n",
       "      <th>origin_country</th>\n",
       "      <th>merchant_title</th>\n",
       "      <th>merchant_name</th>\n",
       "      <th>merchant_info_subtitle</th>\n",
       "      <th>merchant_rating_count</th>\n",
       "      <th>merchant_rating</th>\n",
       "      <th>merchant_id</th>\n",
       "      <th>merchant_has_profile_picture</th>\n",
       "      <th>merchant_profile_picture</th>\n",
       "      <th>id</th>\n",
       "    </tr>\n",
       "  </thead>\n",
       "  <tbody>\n",
       "    <tr>\n",
       "      <th>971</th>\n",
       "      <td>49.0</td>\n",
       "      <td>42</td>\n",
       "      <td>100</td>\n",
       "      <td>0</td>\n",
       "      <td>6</td>\n",
       "      <td>6</td>\n",
       "      <td>1</td>\n",
       "      <td>0</td>\n",
       "      <td>0</td>\n",
       "      <td>1</td>\n",
       "      <td>...</td>\n",
       "      <td>CN</td>\n",
       "      <td>Yanfeng Living museum</td>\n",
       "      <td>yanfenglivingmuseum</td>\n",
       "      <td>90 % avis positifs (29,977 notes)</td>\n",
       "      <td>29977</td>\n",
       "      <td>4.223138</td>\n",
       "      <td>5925555b2cd9447854443c41</td>\n",
       "      <td>0</td>\n",
       "      <td>NaN</td>\n",
       "      <td>118</td>\n",
       "    </tr>\n",
       "  </tbody>\n",
       "</table>\n",
       "<p>1 rows × 29 columns</p>\n",
       "</div>"
      ],
      "text/plain": [
       "     price  retail_price  units_sold  uses_ad_boosts  rating  rating_count  \\\n",
       "971   49.0            42         100               0       6             6   \n",
       "\n",
       "     badges_count badge_local_product badge_product_quality  \\\n",
       "971             1                   0                     0   \n",
       "\n",
       "    badge_fast_shipping  ... origin_country         merchant_title  \\\n",
       "971                   1  ...             CN  Yanfeng Living museum   \n",
       "\n",
       "           merchant_name             merchant_info_subtitle  \\\n",
       "971  yanfenglivingmuseum  90 % avis positifs (29,977 notes)   \n",
       "\n",
       "    merchant_rating_count  merchant_rating               merchant_id  \\\n",
       "971                 29977         4.223138  5925555b2cd9447854443c41   \n",
       "\n",
       "     merchant_has_profile_picture  merchant_profile_picture   id  \n",
       "971                             0                       NaN  118  \n",
       "\n",
       "[1 rows x 29 columns]"
      ]
     },
     "execution_count": 726,
     "metadata": {},
     "output_type": "execute_result"
    }
   ],
   "source": [
    "#check if we have any rating more than 5  and detrmine the index of it \n",
    "df.loc[df['rating'] > 5]"
   ]
  },
  {
   "cell_type": "code",
   "execution_count": 727,
   "id": "d965095a",
   "metadata": {},
   "outputs": [],
   "source": [
    "#after i check if any rating more than 5 i found that only \n",
    "#one row has rating equal to 6 and the index is 971\n",
    "#and i used at[] to update the value of the column rating at this index by 5 \n",
    "df.at[971,'rating']=5"
   ]
  },
  {
   "cell_type": "code",
   "execution_count": 728,
   "id": "685f76c3",
   "metadata": {},
   "outputs": [
    {
     "name": "stdout",
     "output_type": "stream",
     "text": [
      "price                                                                        49.0\n",
      "retail_price                                                                   42\n",
      "units_sold                                                                    100\n",
      "uses_ad_boosts                                                                  0\n",
      "rating                                                                          5\n",
      "rating_count                                                                    6\n",
      "badges_count                                                                    1\n",
      "badge_local_product                                                             0\n",
      "badge_product_quality                                                           0\n",
      "badge_fast_shipping                                                             1\n",
      "tags                            party,Goth,Plus Size,Summer,Dress,V-neck,bodyc...\n",
      "product_color                                                            Rose red\n",
      "product_variation_size_id                                                  XXXXXL\n",
      "product_variation_inventory                                                     2\n",
      "shipping_option_name                                            Livraison Express\n",
      "shipping_option_price                                                          12\n",
      "shipping_is_express                                                             1\n",
      "countries_shipped_to                                                           41\n",
      "inventory_total                                                                 2\n",
      "origin_country                                                                 CN\n",
      "merchant_title                                              Yanfeng Living museum\n",
      "merchant_name                                                 yanfenglivingmuseum\n",
      "merchant_info_subtitle                          90 % avis positifs (29,977 notes)\n",
      "merchant_rating_count                                                       29977\n",
      "merchant_rating                                                          4.223138\n",
      "merchant_id                                              5925555b2cd9447854443c41\n",
      "merchant_has_profile_picture                                                    0\n",
      "merchant_profile_picture                                                      NaN\n",
      "id                                                                            118\n",
      "Name: 971, dtype: object\n"
     ]
    }
   ],
   "source": [
    "# this for print row index 971 to check if the value updated or not \n",
    "print(df.loc[971])  "
   ]
  },
  {
   "cell_type": "code",
   "execution_count": 729,
   "id": "2c9dc358",
   "metadata": {},
   "outputs": [
    {
     "data": {
      "text/plain": [
       "4    774\n",
       "0    479\n",
       "5    171\n",
       "3    135\n",
       "2     12\n",
       "1      2\n",
       "Name: rating, dtype: int64"
      ]
     },
     "execution_count": 729,
     "metadata": {},
     "output_type": "execute_result"
    }
   ],
   "source": [
    "#this for more checking if the value updated or not\n",
    "#and i know that rating has values 0 this from test_new dataset\n",
    "df.rating.value_counts()"
   ]
  },
  {
   "cell_type": "markdown",
   "id": "bc11b357",
   "metadata": {},
   "source": [
    "# Origin Country column\n",
    "visualizations"
   ]
  },
  {
   "cell_type": "code",
   "execution_count": 730,
   "id": "f672f039",
   "metadata": {},
   "outputs": [
    {
     "data": {
      "application/vnd.plotly.v1+json": {
       "config": {
        "plotlyServerURL": "https://plot.ly"
       },
       "data": [
        {
         "labels": [
          "CN",
          "US",
          "VE",
          "SG",
          "GB",
          "AT"
         ],
         "type": "pie",
         "values": [
          1516,
          31,
          5,
          2,
          1,
          1
         ]
        }
       ],
       "layout": {
        "legend": {
         "title": {
          "text": "Countries"
         }
        },
        "template": {
         "data": {
          "bar": [
           {
            "error_x": {
             "color": "#f2f5fa"
            },
            "error_y": {
             "color": "#f2f5fa"
            },
            "marker": {
             "line": {
              "color": "rgb(17,17,17)",
              "width": 0.5
             },
             "pattern": {
              "fillmode": "overlay",
              "size": 10,
              "solidity": 0.2
             }
            },
            "type": "bar"
           }
          ],
          "barpolar": [
           {
            "marker": {
             "line": {
              "color": "rgb(17,17,17)",
              "width": 0.5
             },
             "pattern": {
              "fillmode": "overlay",
              "size": 10,
              "solidity": 0.2
             }
            },
            "type": "barpolar"
           }
          ],
          "carpet": [
           {
            "aaxis": {
             "endlinecolor": "#A2B1C6",
             "gridcolor": "#506784",
             "linecolor": "#506784",
             "minorgridcolor": "#506784",
             "startlinecolor": "#A2B1C6"
            },
            "baxis": {
             "endlinecolor": "#A2B1C6",
             "gridcolor": "#506784",
             "linecolor": "#506784",
             "minorgridcolor": "#506784",
             "startlinecolor": "#A2B1C6"
            },
            "type": "carpet"
           }
          ],
          "choropleth": [
           {
            "colorbar": {
             "outlinewidth": 0,
             "ticks": ""
            },
            "type": "choropleth"
           }
          ],
          "contour": [
           {
            "colorbar": {
             "outlinewidth": 0,
             "ticks": ""
            },
            "colorscale": [
             [
              0,
              "#0d0887"
             ],
             [
              0.1111111111111111,
              "#46039f"
             ],
             [
              0.2222222222222222,
              "#7201a8"
             ],
             [
              0.3333333333333333,
              "#9c179e"
             ],
             [
              0.4444444444444444,
              "#bd3786"
             ],
             [
              0.5555555555555556,
              "#d8576b"
             ],
             [
              0.6666666666666666,
              "#ed7953"
             ],
             [
              0.7777777777777778,
              "#fb9f3a"
             ],
             [
              0.8888888888888888,
              "#fdca26"
             ],
             [
              1,
              "#f0f921"
             ]
            ],
            "type": "contour"
           }
          ],
          "contourcarpet": [
           {
            "colorbar": {
             "outlinewidth": 0,
             "ticks": ""
            },
            "type": "contourcarpet"
           }
          ],
          "heatmap": [
           {
            "colorbar": {
             "outlinewidth": 0,
             "ticks": ""
            },
            "colorscale": [
             [
              0,
              "#0d0887"
             ],
             [
              0.1111111111111111,
              "#46039f"
             ],
             [
              0.2222222222222222,
              "#7201a8"
             ],
             [
              0.3333333333333333,
              "#9c179e"
             ],
             [
              0.4444444444444444,
              "#bd3786"
             ],
             [
              0.5555555555555556,
              "#d8576b"
             ],
             [
              0.6666666666666666,
              "#ed7953"
             ],
             [
              0.7777777777777778,
              "#fb9f3a"
             ],
             [
              0.8888888888888888,
              "#fdca26"
             ],
             [
              1,
              "#f0f921"
             ]
            ],
            "type": "heatmap"
           }
          ],
          "heatmapgl": [
           {
            "colorbar": {
             "outlinewidth": 0,
             "ticks": ""
            },
            "colorscale": [
             [
              0,
              "#0d0887"
             ],
             [
              0.1111111111111111,
              "#46039f"
             ],
             [
              0.2222222222222222,
              "#7201a8"
             ],
             [
              0.3333333333333333,
              "#9c179e"
             ],
             [
              0.4444444444444444,
              "#bd3786"
             ],
             [
              0.5555555555555556,
              "#d8576b"
             ],
             [
              0.6666666666666666,
              "#ed7953"
             ],
             [
              0.7777777777777778,
              "#fb9f3a"
             ],
             [
              0.8888888888888888,
              "#fdca26"
             ],
             [
              1,
              "#f0f921"
             ]
            ],
            "type": "heatmapgl"
           }
          ],
          "histogram": [
           {
            "marker": {
             "pattern": {
              "fillmode": "overlay",
              "size": 10,
              "solidity": 0.2
             }
            },
            "type": "histogram"
           }
          ],
          "histogram2d": [
           {
            "colorbar": {
             "outlinewidth": 0,
             "ticks": ""
            },
            "colorscale": [
             [
              0,
              "#0d0887"
             ],
             [
              0.1111111111111111,
              "#46039f"
             ],
             [
              0.2222222222222222,
              "#7201a8"
             ],
             [
              0.3333333333333333,
              "#9c179e"
             ],
             [
              0.4444444444444444,
              "#bd3786"
             ],
             [
              0.5555555555555556,
              "#d8576b"
             ],
             [
              0.6666666666666666,
              "#ed7953"
             ],
             [
              0.7777777777777778,
              "#fb9f3a"
             ],
             [
              0.8888888888888888,
              "#fdca26"
             ],
             [
              1,
              "#f0f921"
             ]
            ],
            "type": "histogram2d"
           }
          ],
          "histogram2dcontour": [
           {
            "colorbar": {
             "outlinewidth": 0,
             "ticks": ""
            },
            "colorscale": [
             [
              0,
              "#0d0887"
             ],
             [
              0.1111111111111111,
              "#46039f"
             ],
             [
              0.2222222222222222,
              "#7201a8"
             ],
             [
              0.3333333333333333,
              "#9c179e"
             ],
             [
              0.4444444444444444,
              "#bd3786"
             ],
             [
              0.5555555555555556,
              "#d8576b"
             ],
             [
              0.6666666666666666,
              "#ed7953"
             ],
             [
              0.7777777777777778,
              "#fb9f3a"
             ],
             [
              0.8888888888888888,
              "#fdca26"
             ],
             [
              1,
              "#f0f921"
             ]
            ],
            "type": "histogram2dcontour"
           }
          ],
          "mesh3d": [
           {
            "colorbar": {
             "outlinewidth": 0,
             "ticks": ""
            },
            "type": "mesh3d"
           }
          ],
          "parcoords": [
           {
            "line": {
             "colorbar": {
              "outlinewidth": 0,
              "ticks": ""
             }
            },
            "type": "parcoords"
           }
          ],
          "pie": [
           {
            "automargin": true,
            "type": "pie"
           }
          ],
          "scatter": [
           {
            "marker": {
             "line": {
              "color": "#283442"
             }
            },
            "type": "scatter"
           }
          ],
          "scatter3d": [
           {
            "line": {
             "colorbar": {
              "outlinewidth": 0,
              "ticks": ""
             }
            },
            "marker": {
             "colorbar": {
              "outlinewidth": 0,
              "ticks": ""
             }
            },
            "type": "scatter3d"
           }
          ],
          "scattercarpet": [
           {
            "marker": {
             "colorbar": {
              "outlinewidth": 0,
              "ticks": ""
             }
            },
            "type": "scattercarpet"
           }
          ],
          "scattergeo": [
           {
            "marker": {
             "colorbar": {
              "outlinewidth": 0,
              "ticks": ""
             }
            },
            "type": "scattergeo"
           }
          ],
          "scattergl": [
           {
            "marker": {
             "line": {
              "color": "#283442"
             }
            },
            "type": "scattergl"
           }
          ],
          "scattermapbox": [
           {
            "marker": {
             "colorbar": {
              "outlinewidth": 0,
              "ticks": ""
             }
            },
            "type": "scattermapbox"
           }
          ],
          "scatterpolar": [
           {
            "marker": {
             "colorbar": {
              "outlinewidth": 0,
              "ticks": ""
             }
            },
            "type": "scatterpolar"
           }
          ],
          "scatterpolargl": [
           {
            "marker": {
             "colorbar": {
              "outlinewidth": 0,
              "ticks": ""
             }
            },
            "type": "scatterpolargl"
           }
          ],
          "scatterternary": [
           {
            "marker": {
             "colorbar": {
              "outlinewidth": 0,
              "ticks": ""
             }
            },
            "type": "scatterternary"
           }
          ],
          "surface": [
           {
            "colorbar": {
             "outlinewidth": 0,
             "ticks": ""
            },
            "colorscale": [
             [
              0,
              "#0d0887"
             ],
             [
              0.1111111111111111,
              "#46039f"
             ],
             [
              0.2222222222222222,
              "#7201a8"
             ],
             [
              0.3333333333333333,
              "#9c179e"
             ],
             [
              0.4444444444444444,
              "#bd3786"
             ],
             [
              0.5555555555555556,
              "#d8576b"
             ],
             [
              0.6666666666666666,
              "#ed7953"
             ],
             [
              0.7777777777777778,
              "#fb9f3a"
             ],
             [
              0.8888888888888888,
              "#fdca26"
             ],
             [
              1,
              "#f0f921"
             ]
            ],
            "type": "surface"
           }
          ],
          "table": [
           {
            "cells": {
             "fill": {
              "color": "#506784"
             },
             "line": {
              "color": "rgb(17,17,17)"
             }
            },
            "header": {
             "fill": {
              "color": "#2a3f5f"
             },
             "line": {
              "color": "rgb(17,17,17)"
             }
            },
            "type": "table"
           }
          ]
         },
         "layout": {
          "annotationdefaults": {
           "arrowcolor": "#f2f5fa",
           "arrowhead": 0,
           "arrowwidth": 1
          },
          "autotypenumbers": "strict",
          "coloraxis": {
           "colorbar": {
            "outlinewidth": 0,
            "ticks": ""
           }
          },
          "colorscale": {
           "diverging": [
            [
             0,
             "#8e0152"
            ],
            [
             0.1,
             "#c51b7d"
            ],
            [
             0.2,
             "#de77ae"
            ],
            [
             0.3,
             "#f1b6da"
            ],
            [
             0.4,
             "#fde0ef"
            ],
            [
             0.5,
             "#f7f7f7"
            ],
            [
             0.6,
             "#e6f5d0"
            ],
            [
             0.7,
             "#b8e186"
            ],
            [
             0.8,
             "#7fbc41"
            ],
            [
             0.9,
             "#4d9221"
            ],
            [
             1,
             "#276419"
            ]
           ],
           "sequential": [
            [
             0,
             "#0d0887"
            ],
            [
             0.1111111111111111,
             "#46039f"
            ],
            [
             0.2222222222222222,
             "#7201a8"
            ],
            [
             0.3333333333333333,
             "#9c179e"
            ],
            [
             0.4444444444444444,
             "#bd3786"
            ],
            [
             0.5555555555555556,
             "#d8576b"
            ],
            [
             0.6666666666666666,
             "#ed7953"
            ],
            [
             0.7777777777777778,
             "#fb9f3a"
            ],
            [
             0.8888888888888888,
             "#fdca26"
            ],
            [
             1,
             "#f0f921"
            ]
           ],
           "sequentialminus": [
            [
             0,
             "#0d0887"
            ],
            [
             0.1111111111111111,
             "#46039f"
            ],
            [
             0.2222222222222222,
             "#7201a8"
            ],
            [
             0.3333333333333333,
             "#9c179e"
            ],
            [
             0.4444444444444444,
             "#bd3786"
            ],
            [
             0.5555555555555556,
             "#d8576b"
            ],
            [
             0.6666666666666666,
             "#ed7953"
            ],
            [
             0.7777777777777778,
             "#fb9f3a"
            ],
            [
             0.8888888888888888,
             "#fdca26"
            ],
            [
             1,
             "#f0f921"
            ]
           ]
          },
          "colorway": [
           "#636efa",
           "#EF553B",
           "#00cc96",
           "#ab63fa",
           "#FFA15A",
           "#19d3f3",
           "#FF6692",
           "#B6E880",
           "#FF97FF",
           "#FECB52"
          ],
          "font": {
           "color": "#f2f5fa"
          },
          "geo": {
           "bgcolor": "rgb(17,17,17)",
           "lakecolor": "rgb(17,17,17)",
           "landcolor": "rgb(17,17,17)",
           "showlakes": true,
           "showland": true,
           "subunitcolor": "#506784"
          },
          "hoverlabel": {
           "align": "left"
          },
          "hovermode": "closest",
          "mapbox": {
           "style": "dark"
          },
          "paper_bgcolor": "rgb(17,17,17)",
          "plot_bgcolor": "rgb(17,17,17)",
          "polar": {
           "angularaxis": {
            "gridcolor": "#506784",
            "linecolor": "#506784",
            "ticks": ""
           },
           "bgcolor": "rgb(17,17,17)",
           "radialaxis": {
            "gridcolor": "#506784",
            "linecolor": "#506784",
            "ticks": ""
           }
          },
          "scene": {
           "xaxis": {
            "backgroundcolor": "rgb(17,17,17)",
            "gridcolor": "#506784",
            "gridwidth": 2,
            "linecolor": "#506784",
            "showbackground": true,
            "ticks": "",
            "zerolinecolor": "#C8D4E3"
           },
           "yaxis": {
            "backgroundcolor": "rgb(17,17,17)",
            "gridcolor": "#506784",
            "gridwidth": 2,
            "linecolor": "#506784",
            "showbackground": true,
            "ticks": "",
            "zerolinecolor": "#C8D4E3"
           },
           "zaxis": {
            "backgroundcolor": "rgb(17,17,17)",
            "gridcolor": "#506784",
            "gridwidth": 2,
            "linecolor": "#506784",
            "showbackground": true,
            "ticks": "",
            "zerolinecolor": "#C8D4E3"
           }
          },
          "shapedefaults": {
           "line": {
            "color": "#f2f5fa"
           }
          },
          "sliderdefaults": {
           "bgcolor": "#C8D4E3",
           "bordercolor": "rgb(17,17,17)",
           "borderwidth": 1,
           "tickwidth": 0
          },
          "ternary": {
           "aaxis": {
            "gridcolor": "#506784",
            "linecolor": "#506784",
            "ticks": ""
           },
           "baxis": {
            "gridcolor": "#506784",
            "linecolor": "#506784",
            "ticks": ""
           },
           "bgcolor": "rgb(17,17,17)",
           "caxis": {
            "gridcolor": "#506784",
            "linecolor": "#506784",
            "ticks": ""
           }
          },
          "title": {
           "x": 0.05
          },
          "updatemenudefaults": {
           "bgcolor": "#506784",
           "borderwidth": 0
          },
          "xaxis": {
           "automargin": true,
           "gridcolor": "#283442",
           "linecolor": "#506784",
           "ticks": "",
           "title": {
            "standoff": 15
           },
           "zerolinecolor": "#283442",
           "zerolinewidth": 2
          },
          "yaxis": {
           "automargin": true,
           "gridcolor": "#283442",
           "linecolor": "#506784",
           "ticks": "",
           "title": {
            "standoff": 15
           },
           "zerolinecolor": "#283442",
           "zerolinewidth": 2
          }
         }
        },
        "title": {
         "text": "Country of Origin of Product in Wish"
        }
       }
      },
      "text/html": [
       "<div>                            <div id=\"1a43e93d-bd35-403b-b23e-2a3ea8a05188\" class=\"plotly-graph-div\" style=\"height:525px; width:100%;\"></div>            <script type=\"text/javascript\">                require([\"plotly\"], function(Plotly) {                    window.PLOTLYENV=window.PLOTLYENV || {};                                    if (document.getElementById(\"1a43e93d-bd35-403b-b23e-2a3ea8a05188\")) {                    Plotly.newPlot(                        \"1a43e93d-bd35-403b-b23e-2a3ea8a05188\",                        [{\"labels\":[\"CN\",\"US\",\"VE\",\"SG\",\"GB\",\"AT\"],\"values\":[1516,31,5,2,1,1],\"type\":\"pie\"}],                        {\"template\":{\"data\":{\"barpolar\":[{\"marker\":{\"line\":{\"color\":\"rgb(17,17,17)\",\"width\":0.5},\"pattern\":{\"fillmode\":\"overlay\",\"size\":10,\"solidity\":0.2}},\"type\":\"barpolar\"}],\"bar\":[{\"error_x\":{\"color\":\"#f2f5fa\"},\"error_y\":{\"color\":\"#f2f5fa\"},\"marker\":{\"line\":{\"color\":\"rgb(17,17,17)\",\"width\":0.5},\"pattern\":{\"fillmode\":\"overlay\",\"size\":10,\"solidity\":0.2}},\"type\":\"bar\"}],\"carpet\":[{\"aaxis\":{\"endlinecolor\":\"#A2B1C6\",\"gridcolor\":\"#506784\",\"linecolor\":\"#506784\",\"minorgridcolor\":\"#506784\",\"startlinecolor\":\"#A2B1C6\"},\"baxis\":{\"endlinecolor\":\"#A2B1C6\",\"gridcolor\":\"#506784\",\"linecolor\":\"#506784\",\"minorgridcolor\":\"#506784\",\"startlinecolor\":\"#A2B1C6\"},\"type\":\"carpet\"}],\"choropleth\":[{\"colorbar\":{\"outlinewidth\":0,\"ticks\":\"\"},\"type\":\"choropleth\"}],\"contourcarpet\":[{\"colorbar\":{\"outlinewidth\":0,\"ticks\":\"\"},\"type\":\"contourcarpet\"}],\"contour\":[{\"colorbar\":{\"outlinewidth\":0,\"ticks\":\"\"},\"colorscale\":[[0.0,\"#0d0887\"],[0.1111111111111111,\"#46039f\"],[0.2222222222222222,\"#7201a8\"],[0.3333333333333333,\"#9c179e\"],[0.4444444444444444,\"#bd3786\"],[0.5555555555555556,\"#d8576b\"],[0.6666666666666666,\"#ed7953\"],[0.7777777777777778,\"#fb9f3a\"],[0.8888888888888888,\"#fdca26\"],[1.0,\"#f0f921\"]],\"type\":\"contour\"}],\"heatmapgl\":[{\"colorbar\":{\"outlinewidth\":0,\"ticks\":\"\"},\"colorscale\":[[0.0,\"#0d0887\"],[0.1111111111111111,\"#46039f\"],[0.2222222222222222,\"#7201a8\"],[0.3333333333333333,\"#9c179e\"],[0.4444444444444444,\"#bd3786\"],[0.5555555555555556,\"#d8576b\"],[0.6666666666666666,\"#ed7953\"],[0.7777777777777778,\"#fb9f3a\"],[0.8888888888888888,\"#fdca26\"],[1.0,\"#f0f921\"]],\"type\":\"heatmapgl\"}],\"heatmap\":[{\"colorbar\":{\"outlinewidth\":0,\"ticks\":\"\"},\"colorscale\":[[0.0,\"#0d0887\"],[0.1111111111111111,\"#46039f\"],[0.2222222222222222,\"#7201a8\"],[0.3333333333333333,\"#9c179e\"],[0.4444444444444444,\"#bd3786\"],[0.5555555555555556,\"#d8576b\"],[0.6666666666666666,\"#ed7953\"],[0.7777777777777778,\"#fb9f3a\"],[0.8888888888888888,\"#fdca26\"],[1.0,\"#f0f921\"]],\"type\":\"heatmap\"}],\"histogram2dcontour\":[{\"colorbar\":{\"outlinewidth\":0,\"ticks\":\"\"},\"colorscale\":[[0.0,\"#0d0887\"],[0.1111111111111111,\"#46039f\"],[0.2222222222222222,\"#7201a8\"],[0.3333333333333333,\"#9c179e\"],[0.4444444444444444,\"#bd3786\"],[0.5555555555555556,\"#d8576b\"],[0.6666666666666666,\"#ed7953\"],[0.7777777777777778,\"#fb9f3a\"],[0.8888888888888888,\"#fdca26\"],[1.0,\"#f0f921\"]],\"type\":\"histogram2dcontour\"}],\"histogram2d\":[{\"colorbar\":{\"outlinewidth\":0,\"ticks\":\"\"},\"colorscale\":[[0.0,\"#0d0887\"],[0.1111111111111111,\"#46039f\"],[0.2222222222222222,\"#7201a8\"],[0.3333333333333333,\"#9c179e\"],[0.4444444444444444,\"#bd3786\"],[0.5555555555555556,\"#d8576b\"],[0.6666666666666666,\"#ed7953\"],[0.7777777777777778,\"#fb9f3a\"],[0.8888888888888888,\"#fdca26\"],[1.0,\"#f0f921\"]],\"type\":\"histogram2d\"}],\"histogram\":[{\"marker\":{\"pattern\":{\"fillmode\":\"overlay\",\"size\":10,\"solidity\":0.2}},\"type\":\"histogram\"}],\"mesh3d\":[{\"colorbar\":{\"outlinewidth\":0,\"ticks\":\"\"},\"type\":\"mesh3d\"}],\"parcoords\":[{\"line\":{\"colorbar\":{\"outlinewidth\":0,\"ticks\":\"\"}},\"type\":\"parcoords\"}],\"pie\":[{\"automargin\":true,\"type\":\"pie\"}],\"scatter3d\":[{\"line\":{\"colorbar\":{\"outlinewidth\":0,\"ticks\":\"\"}},\"marker\":{\"colorbar\":{\"outlinewidth\":0,\"ticks\":\"\"}},\"type\":\"scatter3d\"}],\"scattercarpet\":[{\"marker\":{\"colorbar\":{\"outlinewidth\":0,\"ticks\":\"\"}},\"type\":\"scattercarpet\"}],\"scattergeo\":[{\"marker\":{\"colorbar\":{\"outlinewidth\":0,\"ticks\":\"\"}},\"type\":\"scattergeo\"}],\"scattergl\":[{\"marker\":{\"line\":{\"color\":\"#283442\"}},\"type\":\"scattergl\"}],\"scattermapbox\":[{\"marker\":{\"colorbar\":{\"outlinewidth\":0,\"ticks\":\"\"}},\"type\":\"scattermapbox\"}],\"scatterpolargl\":[{\"marker\":{\"colorbar\":{\"outlinewidth\":0,\"ticks\":\"\"}},\"type\":\"scatterpolargl\"}],\"scatterpolar\":[{\"marker\":{\"colorbar\":{\"outlinewidth\":0,\"ticks\":\"\"}},\"type\":\"scatterpolar\"}],\"scatter\":[{\"marker\":{\"line\":{\"color\":\"#283442\"}},\"type\":\"scatter\"}],\"scatterternary\":[{\"marker\":{\"colorbar\":{\"outlinewidth\":0,\"ticks\":\"\"}},\"type\":\"scatterternary\"}],\"surface\":[{\"colorbar\":{\"outlinewidth\":0,\"ticks\":\"\"},\"colorscale\":[[0.0,\"#0d0887\"],[0.1111111111111111,\"#46039f\"],[0.2222222222222222,\"#7201a8\"],[0.3333333333333333,\"#9c179e\"],[0.4444444444444444,\"#bd3786\"],[0.5555555555555556,\"#d8576b\"],[0.6666666666666666,\"#ed7953\"],[0.7777777777777778,\"#fb9f3a\"],[0.8888888888888888,\"#fdca26\"],[1.0,\"#f0f921\"]],\"type\":\"surface\"}],\"table\":[{\"cells\":{\"fill\":{\"color\":\"#506784\"},\"line\":{\"color\":\"rgb(17,17,17)\"}},\"header\":{\"fill\":{\"color\":\"#2a3f5f\"},\"line\":{\"color\":\"rgb(17,17,17)\"}},\"type\":\"table\"}]},\"layout\":{\"annotationdefaults\":{\"arrowcolor\":\"#f2f5fa\",\"arrowhead\":0,\"arrowwidth\":1},\"autotypenumbers\":\"strict\",\"coloraxis\":{\"colorbar\":{\"outlinewidth\":0,\"ticks\":\"\"}},\"colorscale\":{\"diverging\":[[0,\"#8e0152\"],[0.1,\"#c51b7d\"],[0.2,\"#de77ae\"],[0.3,\"#f1b6da\"],[0.4,\"#fde0ef\"],[0.5,\"#f7f7f7\"],[0.6,\"#e6f5d0\"],[0.7,\"#b8e186\"],[0.8,\"#7fbc41\"],[0.9,\"#4d9221\"],[1,\"#276419\"]],\"sequential\":[[0.0,\"#0d0887\"],[0.1111111111111111,\"#46039f\"],[0.2222222222222222,\"#7201a8\"],[0.3333333333333333,\"#9c179e\"],[0.4444444444444444,\"#bd3786\"],[0.5555555555555556,\"#d8576b\"],[0.6666666666666666,\"#ed7953\"],[0.7777777777777778,\"#fb9f3a\"],[0.8888888888888888,\"#fdca26\"],[1.0,\"#f0f921\"]],\"sequentialminus\":[[0.0,\"#0d0887\"],[0.1111111111111111,\"#46039f\"],[0.2222222222222222,\"#7201a8\"],[0.3333333333333333,\"#9c179e\"],[0.4444444444444444,\"#bd3786\"],[0.5555555555555556,\"#d8576b\"],[0.6666666666666666,\"#ed7953\"],[0.7777777777777778,\"#fb9f3a\"],[0.8888888888888888,\"#fdca26\"],[1.0,\"#f0f921\"]]},\"colorway\":[\"#636efa\",\"#EF553B\",\"#00cc96\",\"#ab63fa\",\"#FFA15A\",\"#19d3f3\",\"#FF6692\",\"#B6E880\",\"#FF97FF\",\"#FECB52\"],\"font\":{\"color\":\"#f2f5fa\"},\"geo\":{\"bgcolor\":\"rgb(17,17,17)\",\"lakecolor\":\"rgb(17,17,17)\",\"landcolor\":\"rgb(17,17,17)\",\"showlakes\":true,\"showland\":true,\"subunitcolor\":\"#506784\"},\"hoverlabel\":{\"align\":\"left\"},\"hovermode\":\"closest\",\"mapbox\":{\"style\":\"dark\"},\"paper_bgcolor\":\"rgb(17,17,17)\",\"plot_bgcolor\":\"rgb(17,17,17)\",\"polar\":{\"angularaxis\":{\"gridcolor\":\"#506784\",\"linecolor\":\"#506784\",\"ticks\":\"\"},\"bgcolor\":\"rgb(17,17,17)\",\"radialaxis\":{\"gridcolor\":\"#506784\",\"linecolor\":\"#506784\",\"ticks\":\"\"}},\"scene\":{\"xaxis\":{\"backgroundcolor\":\"rgb(17,17,17)\",\"gridcolor\":\"#506784\",\"gridwidth\":2,\"linecolor\":\"#506784\",\"showbackground\":true,\"ticks\":\"\",\"zerolinecolor\":\"#C8D4E3\"},\"yaxis\":{\"backgroundcolor\":\"rgb(17,17,17)\",\"gridcolor\":\"#506784\",\"gridwidth\":2,\"linecolor\":\"#506784\",\"showbackground\":true,\"ticks\":\"\",\"zerolinecolor\":\"#C8D4E3\"},\"zaxis\":{\"backgroundcolor\":\"rgb(17,17,17)\",\"gridcolor\":\"#506784\",\"gridwidth\":2,\"linecolor\":\"#506784\",\"showbackground\":true,\"ticks\":\"\",\"zerolinecolor\":\"#C8D4E3\"}},\"shapedefaults\":{\"line\":{\"color\":\"#f2f5fa\"}},\"sliderdefaults\":{\"bgcolor\":\"#C8D4E3\",\"bordercolor\":\"rgb(17,17,17)\",\"borderwidth\":1,\"tickwidth\":0},\"ternary\":{\"aaxis\":{\"gridcolor\":\"#506784\",\"linecolor\":\"#506784\",\"ticks\":\"\"},\"baxis\":{\"gridcolor\":\"#506784\",\"linecolor\":\"#506784\",\"ticks\":\"\"},\"bgcolor\":\"rgb(17,17,17)\",\"caxis\":{\"gridcolor\":\"#506784\",\"linecolor\":\"#506784\",\"ticks\":\"\"}},\"title\":{\"x\":0.05},\"updatemenudefaults\":{\"bgcolor\":\"#506784\",\"borderwidth\":0},\"xaxis\":{\"automargin\":true,\"gridcolor\":\"#283442\",\"linecolor\":\"#506784\",\"ticks\":\"\",\"title\":{\"standoff\":15},\"zerolinecolor\":\"#283442\",\"zerolinewidth\":2},\"yaxis\":{\"automargin\":true,\"gridcolor\":\"#283442\",\"linecolor\":\"#506784\",\"ticks\":\"\",\"title\":{\"standoff\":15},\"zerolinecolor\":\"#283442\",\"zerolinewidth\":2}}},\"title\":{\"text\":\"Country of Origin of Product in Wish\"},\"legend\":{\"title\":{\"text\":\"Countries\"}}},                        {\"responsive\": true}                    ).then(function(){\n",
       "                            \n",
       "var gd = document.getElementById('1a43e93d-bd35-403b-b23e-2a3ea8a05188');\n",
       "var x = new MutationObserver(function (mutations, observer) {{\n",
       "        var display = window.getComputedStyle(gd).display;\n",
       "        if (!display || display === 'none') {{\n",
       "            console.log([gd, 'removed!']);\n",
       "            Plotly.purge(gd);\n",
       "            observer.disconnect();\n",
       "        }}\n",
       "}});\n",
       "\n",
       "// Listen for the removal of the full notebook cells\n",
       "var notebookContainer = gd.closest('#notebook-container');\n",
       "if (notebookContainer) {{\n",
       "    x.observe(notebookContainer, {childList: true});\n",
       "}}\n",
       "\n",
       "// Listen for the clearing of the current output cell\n",
       "var outputEl = gd.closest('.output');\n",
       "if (outputEl) {{\n",
       "    x.observe(outputEl, {childList: true});\n",
       "}}\n",
       "\n",
       "                        })                };                });            </script>        </div>"
      ]
     },
     "metadata": {},
     "output_type": "display_data"
    }
   ],
   "source": [
    "#this cell show country of origin of Product in Wish \"this visualization on train and test dataset\"\n",
    "labels = df.origin_country.value_counts(normalize=True).index.values \n",
    "values  = df.origin_country.value_counts().values\n",
    "# Create Pie Chart\n",
    "fig = go.Figure()\n",
    "fig.add_trace(go.Pie(labels=labels, values=values))\n",
    "fig.update_layout(title=\"Country of Origin of Product in Wish\", legend_title=\"Countries\", template=\"plotly_dark\")"
   ]
  },
  {
   "cell_type": "markdown",
   "id": "b01a997d",
   "metadata": {},
   "source": [
    "the products mostly originate from China"
   ]
  },
  {
   "cell_type": "code",
   "execution_count": 731,
   "id": "f7fe35e2",
   "metadata": {},
   "outputs": [],
   "source": [
    "#create so called discounts column by subtracting the price from retail_price to make this as new feature to use it \n",
    "df['discounted_price'] = df['retail_price'] - df['price']\n",
    "#this code only to group the \"price','discounted_price','retail_price','origin_country\" by \"origin_country\"\n",
    "#to show this relation between the country and discounted_price for each of them \n",
    "prices_by_country = df[['price','discounted_price','retail_price','origin_country']].groupby('origin_country').mean()"
   ]
  },
  {
   "cell_type": "code",
   "execution_count": 732,
   "id": "a0f00fe7",
   "metadata": {},
   "outputs": [
    {
     "data": {
      "application/vnd.plotly.v1+json": {
       "config": {
        "plotlyServerURL": "https://plot.ly"
       },
       "data": [
        {
         "name": "Price",
         "type": "bar",
         "x": [
          "AT",
          "CN",
          "GB",
          "SG",
          "US",
          "VE"
         ],
         "y": [
          7,
          8.341629287598945,
          9,
          3.38,
          9.397096774193548,
          8.298
         ]
        },
        {
         "name": "Discounted Price",
         "type": "scatter",
         "x": [
          "AT",
          "CN",
          "GB",
          "SG",
          "US",
          "VE"
         ],
         "y": [
          -1,
          14.952565963060685,
          -1,
          0.11999999999999988,
          20.215806451612906,
          27.101999999999997
         ]
        },
        {
         "name": "Retail Price",
         "type": "bar",
         "x": [
          "AT",
          "CN",
          "GB",
          "SG",
          "US",
          "VE"
         ],
         "y": [
          6,
          23.29419525065963,
          8,
          3.5,
          29.612903225806452,
          35.4
         ]
        }
       ],
       "layout": {
        "legend": {
         "title": {
          "text": "Legend"
         }
        },
        "template": {
         "data": {
          "bar": [
           {
            "error_x": {
             "color": "#f2f5fa"
            },
            "error_y": {
             "color": "#f2f5fa"
            },
            "marker": {
             "line": {
              "color": "rgb(17,17,17)",
              "width": 0.5
             },
             "pattern": {
              "fillmode": "overlay",
              "size": 10,
              "solidity": 0.2
             }
            },
            "type": "bar"
           }
          ],
          "barpolar": [
           {
            "marker": {
             "line": {
              "color": "rgb(17,17,17)",
              "width": 0.5
             },
             "pattern": {
              "fillmode": "overlay",
              "size": 10,
              "solidity": 0.2
             }
            },
            "type": "barpolar"
           }
          ],
          "carpet": [
           {
            "aaxis": {
             "endlinecolor": "#A2B1C6",
             "gridcolor": "#506784",
             "linecolor": "#506784",
             "minorgridcolor": "#506784",
             "startlinecolor": "#A2B1C6"
            },
            "baxis": {
             "endlinecolor": "#A2B1C6",
             "gridcolor": "#506784",
             "linecolor": "#506784",
             "minorgridcolor": "#506784",
             "startlinecolor": "#A2B1C6"
            },
            "type": "carpet"
           }
          ],
          "choropleth": [
           {
            "colorbar": {
             "outlinewidth": 0,
             "ticks": ""
            },
            "type": "choropleth"
           }
          ],
          "contour": [
           {
            "colorbar": {
             "outlinewidth": 0,
             "ticks": ""
            },
            "colorscale": [
             [
              0,
              "#0d0887"
             ],
             [
              0.1111111111111111,
              "#46039f"
             ],
             [
              0.2222222222222222,
              "#7201a8"
             ],
             [
              0.3333333333333333,
              "#9c179e"
             ],
             [
              0.4444444444444444,
              "#bd3786"
             ],
             [
              0.5555555555555556,
              "#d8576b"
             ],
             [
              0.6666666666666666,
              "#ed7953"
             ],
             [
              0.7777777777777778,
              "#fb9f3a"
             ],
             [
              0.8888888888888888,
              "#fdca26"
             ],
             [
              1,
              "#f0f921"
             ]
            ],
            "type": "contour"
           }
          ],
          "contourcarpet": [
           {
            "colorbar": {
             "outlinewidth": 0,
             "ticks": ""
            },
            "type": "contourcarpet"
           }
          ],
          "heatmap": [
           {
            "colorbar": {
             "outlinewidth": 0,
             "ticks": ""
            },
            "colorscale": [
             [
              0,
              "#0d0887"
             ],
             [
              0.1111111111111111,
              "#46039f"
             ],
             [
              0.2222222222222222,
              "#7201a8"
             ],
             [
              0.3333333333333333,
              "#9c179e"
             ],
             [
              0.4444444444444444,
              "#bd3786"
             ],
             [
              0.5555555555555556,
              "#d8576b"
             ],
             [
              0.6666666666666666,
              "#ed7953"
             ],
             [
              0.7777777777777778,
              "#fb9f3a"
             ],
             [
              0.8888888888888888,
              "#fdca26"
             ],
             [
              1,
              "#f0f921"
             ]
            ],
            "type": "heatmap"
           }
          ],
          "heatmapgl": [
           {
            "colorbar": {
             "outlinewidth": 0,
             "ticks": ""
            },
            "colorscale": [
             [
              0,
              "#0d0887"
             ],
             [
              0.1111111111111111,
              "#46039f"
             ],
             [
              0.2222222222222222,
              "#7201a8"
             ],
             [
              0.3333333333333333,
              "#9c179e"
             ],
             [
              0.4444444444444444,
              "#bd3786"
             ],
             [
              0.5555555555555556,
              "#d8576b"
             ],
             [
              0.6666666666666666,
              "#ed7953"
             ],
             [
              0.7777777777777778,
              "#fb9f3a"
             ],
             [
              0.8888888888888888,
              "#fdca26"
             ],
             [
              1,
              "#f0f921"
             ]
            ],
            "type": "heatmapgl"
           }
          ],
          "histogram": [
           {
            "marker": {
             "pattern": {
              "fillmode": "overlay",
              "size": 10,
              "solidity": 0.2
             }
            },
            "type": "histogram"
           }
          ],
          "histogram2d": [
           {
            "colorbar": {
             "outlinewidth": 0,
             "ticks": ""
            },
            "colorscale": [
             [
              0,
              "#0d0887"
             ],
             [
              0.1111111111111111,
              "#46039f"
             ],
             [
              0.2222222222222222,
              "#7201a8"
             ],
             [
              0.3333333333333333,
              "#9c179e"
             ],
             [
              0.4444444444444444,
              "#bd3786"
             ],
             [
              0.5555555555555556,
              "#d8576b"
             ],
             [
              0.6666666666666666,
              "#ed7953"
             ],
             [
              0.7777777777777778,
              "#fb9f3a"
             ],
             [
              0.8888888888888888,
              "#fdca26"
             ],
             [
              1,
              "#f0f921"
             ]
            ],
            "type": "histogram2d"
           }
          ],
          "histogram2dcontour": [
           {
            "colorbar": {
             "outlinewidth": 0,
             "ticks": ""
            },
            "colorscale": [
             [
              0,
              "#0d0887"
             ],
             [
              0.1111111111111111,
              "#46039f"
             ],
             [
              0.2222222222222222,
              "#7201a8"
             ],
             [
              0.3333333333333333,
              "#9c179e"
             ],
             [
              0.4444444444444444,
              "#bd3786"
             ],
             [
              0.5555555555555556,
              "#d8576b"
             ],
             [
              0.6666666666666666,
              "#ed7953"
             ],
             [
              0.7777777777777778,
              "#fb9f3a"
             ],
             [
              0.8888888888888888,
              "#fdca26"
             ],
             [
              1,
              "#f0f921"
             ]
            ],
            "type": "histogram2dcontour"
           }
          ],
          "mesh3d": [
           {
            "colorbar": {
             "outlinewidth": 0,
             "ticks": ""
            },
            "type": "mesh3d"
           }
          ],
          "parcoords": [
           {
            "line": {
             "colorbar": {
              "outlinewidth": 0,
              "ticks": ""
             }
            },
            "type": "parcoords"
           }
          ],
          "pie": [
           {
            "automargin": true,
            "type": "pie"
           }
          ],
          "scatter": [
           {
            "marker": {
             "line": {
              "color": "#283442"
             }
            },
            "type": "scatter"
           }
          ],
          "scatter3d": [
           {
            "line": {
             "colorbar": {
              "outlinewidth": 0,
              "ticks": ""
             }
            },
            "marker": {
             "colorbar": {
              "outlinewidth": 0,
              "ticks": ""
             }
            },
            "type": "scatter3d"
           }
          ],
          "scattercarpet": [
           {
            "marker": {
             "colorbar": {
              "outlinewidth": 0,
              "ticks": ""
             }
            },
            "type": "scattercarpet"
           }
          ],
          "scattergeo": [
           {
            "marker": {
             "colorbar": {
              "outlinewidth": 0,
              "ticks": ""
             }
            },
            "type": "scattergeo"
           }
          ],
          "scattergl": [
           {
            "marker": {
             "line": {
              "color": "#283442"
             }
            },
            "type": "scattergl"
           }
          ],
          "scattermapbox": [
           {
            "marker": {
             "colorbar": {
              "outlinewidth": 0,
              "ticks": ""
             }
            },
            "type": "scattermapbox"
           }
          ],
          "scatterpolar": [
           {
            "marker": {
             "colorbar": {
              "outlinewidth": 0,
              "ticks": ""
             }
            },
            "type": "scatterpolar"
           }
          ],
          "scatterpolargl": [
           {
            "marker": {
             "colorbar": {
              "outlinewidth": 0,
              "ticks": ""
             }
            },
            "type": "scatterpolargl"
           }
          ],
          "scatterternary": [
           {
            "marker": {
             "colorbar": {
              "outlinewidth": 0,
              "ticks": ""
             }
            },
            "type": "scatterternary"
           }
          ],
          "surface": [
           {
            "colorbar": {
             "outlinewidth": 0,
             "ticks": ""
            },
            "colorscale": [
             [
              0,
              "#0d0887"
             ],
             [
              0.1111111111111111,
              "#46039f"
             ],
             [
              0.2222222222222222,
              "#7201a8"
             ],
             [
              0.3333333333333333,
              "#9c179e"
             ],
             [
              0.4444444444444444,
              "#bd3786"
             ],
             [
              0.5555555555555556,
              "#d8576b"
             ],
             [
              0.6666666666666666,
              "#ed7953"
             ],
             [
              0.7777777777777778,
              "#fb9f3a"
             ],
             [
              0.8888888888888888,
              "#fdca26"
             ],
             [
              1,
              "#f0f921"
             ]
            ],
            "type": "surface"
           }
          ],
          "table": [
           {
            "cells": {
             "fill": {
              "color": "#506784"
             },
             "line": {
              "color": "rgb(17,17,17)"
             }
            },
            "header": {
             "fill": {
              "color": "#2a3f5f"
             },
             "line": {
              "color": "rgb(17,17,17)"
             }
            },
            "type": "table"
           }
          ]
         },
         "layout": {
          "annotationdefaults": {
           "arrowcolor": "#f2f5fa",
           "arrowhead": 0,
           "arrowwidth": 1
          },
          "autotypenumbers": "strict",
          "coloraxis": {
           "colorbar": {
            "outlinewidth": 0,
            "ticks": ""
           }
          },
          "colorscale": {
           "diverging": [
            [
             0,
             "#8e0152"
            ],
            [
             0.1,
             "#c51b7d"
            ],
            [
             0.2,
             "#de77ae"
            ],
            [
             0.3,
             "#f1b6da"
            ],
            [
             0.4,
             "#fde0ef"
            ],
            [
             0.5,
             "#f7f7f7"
            ],
            [
             0.6,
             "#e6f5d0"
            ],
            [
             0.7,
             "#b8e186"
            ],
            [
             0.8,
             "#7fbc41"
            ],
            [
             0.9,
             "#4d9221"
            ],
            [
             1,
             "#276419"
            ]
           ],
           "sequential": [
            [
             0,
             "#0d0887"
            ],
            [
             0.1111111111111111,
             "#46039f"
            ],
            [
             0.2222222222222222,
             "#7201a8"
            ],
            [
             0.3333333333333333,
             "#9c179e"
            ],
            [
             0.4444444444444444,
             "#bd3786"
            ],
            [
             0.5555555555555556,
             "#d8576b"
            ],
            [
             0.6666666666666666,
             "#ed7953"
            ],
            [
             0.7777777777777778,
             "#fb9f3a"
            ],
            [
             0.8888888888888888,
             "#fdca26"
            ],
            [
             1,
             "#f0f921"
            ]
           ],
           "sequentialminus": [
            [
             0,
             "#0d0887"
            ],
            [
             0.1111111111111111,
             "#46039f"
            ],
            [
             0.2222222222222222,
             "#7201a8"
            ],
            [
             0.3333333333333333,
             "#9c179e"
            ],
            [
             0.4444444444444444,
             "#bd3786"
            ],
            [
             0.5555555555555556,
             "#d8576b"
            ],
            [
             0.6666666666666666,
             "#ed7953"
            ],
            [
             0.7777777777777778,
             "#fb9f3a"
            ],
            [
             0.8888888888888888,
             "#fdca26"
            ],
            [
             1,
             "#f0f921"
            ]
           ]
          },
          "colorway": [
           "#636efa",
           "#EF553B",
           "#00cc96",
           "#ab63fa",
           "#FFA15A",
           "#19d3f3",
           "#FF6692",
           "#B6E880",
           "#FF97FF",
           "#FECB52"
          ],
          "font": {
           "color": "#f2f5fa"
          },
          "geo": {
           "bgcolor": "rgb(17,17,17)",
           "lakecolor": "rgb(17,17,17)",
           "landcolor": "rgb(17,17,17)",
           "showlakes": true,
           "showland": true,
           "subunitcolor": "#506784"
          },
          "hoverlabel": {
           "align": "left"
          },
          "hovermode": "closest",
          "mapbox": {
           "style": "dark"
          },
          "paper_bgcolor": "rgb(17,17,17)",
          "plot_bgcolor": "rgb(17,17,17)",
          "polar": {
           "angularaxis": {
            "gridcolor": "#506784",
            "linecolor": "#506784",
            "ticks": ""
           },
           "bgcolor": "rgb(17,17,17)",
           "radialaxis": {
            "gridcolor": "#506784",
            "linecolor": "#506784",
            "ticks": ""
           }
          },
          "scene": {
           "xaxis": {
            "backgroundcolor": "rgb(17,17,17)",
            "gridcolor": "#506784",
            "gridwidth": 2,
            "linecolor": "#506784",
            "showbackground": true,
            "ticks": "",
            "zerolinecolor": "#C8D4E3"
           },
           "yaxis": {
            "backgroundcolor": "rgb(17,17,17)",
            "gridcolor": "#506784",
            "gridwidth": 2,
            "linecolor": "#506784",
            "showbackground": true,
            "ticks": "",
            "zerolinecolor": "#C8D4E3"
           },
           "zaxis": {
            "backgroundcolor": "rgb(17,17,17)",
            "gridcolor": "#506784",
            "gridwidth": 2,
            "linecolor": "#506784",
            "showbackground": true,
            "ticks": "",
            "zerolinecolor": "#C8D4E3"
           }
          },
          "shapedefaults": {
           "line": {
            "color": "#f2f5fa"
           }
          },
          "sliderdefaults": {
           "bgcolor": "#C8D4E3",
           "bordercolor": "rgb(17,17,17)",
           "borderwidth": 1,
           "tickwidth": 0
          },
          "ternary": {
           "aaxis": {
            "gridcolor": "#506784",
            "linecolor": "#506784",
            "ticks": ""
           },
           "baxis": {
            "gridcolor": "#506784",
            "linecolor": "#506784",
            "ticks": ""
           },
           "bgcolor": "rgb(17,17,17)",
           "caxis": {
            "gridcolor": "#506784",
            "linecolor": "#506784",
            "ticks": ""
           }
          },
          "title": {
           "x": 0.05
          },
          "updatemenudefaults": {
           "bgcolor": "#506784",
           "borderwidth": 0
          },
          "xaxis": {
           "automargin": true,
           "gridcolor": "#283442",
           "linecolor": "#506784",
           "ticks": "",
           "title": {
            "standoff": 15
           },
           "zerolinecolor": "#283442",
           "zerolinewidth": 2
          },
          "yaxis": {
           "automargin": true,
           "gridcolor": "#283442",
           "linecolor": "#506784",
           "ticks": "",
           "title": {
            "standoff": 15
           },
           "zerolinecolor": "#283442",
           "zerolinewidth": 2
          }
         }
        },
        "title": {
         "text": "Prices Categories By Country"
        },
        "xaxis": {
         "title": {
          "text": "Countries"
         }
        },
        "yaxis": {
         "title": {
          "text": "Avg Discount Prices"
         }
        }
       }
      },
      "text/html": [
       "<div>                            <div id=\"9319ebb8-6265-4b39-97a0-cffd21988c88\" class=\"plotly-graph-div\" style=\"height:525px; width:100%;\"></div>            <script type=\"text/javascript\">                require([\"plotly\"], function(Plotly) {                    window.PLOTLYENV=window.PLOTLYENV || {};                                    if (document.getElementById(\"9319ebb8-6265-4b39-97a0-cffd21988c88\")) {                    Plotly.newPlot(                        \"9319ebb8-6265-4b39-97a0-cffd21988c88\",                        [{\"name\":\"Price\",\"x\":[\"AT\",\"CN\",\"GB\",\"SG\",\"US\",\"VE\"],\"y\":[7.0,8.341629287598945,9.0,3.38,9.397096774193548,8.298],\"type\":\"bar\"},{\"name\":\"Discounted Price\",\"x\":[\"AT\",\"CN\",\"GB\",\"SG\",\"US\",\"VE\"],\"y\":[-1.0,14.952565963060685,-1.0,0.11999999999999988,20.215806451612906,27.101999999999997],\"type\":\"scatter\"},{\"name\":\"Retail Price\",\"x\":[\"AT\",\"CN\",\"GB\",\"SG\",\"US\",\"VE\"],\"y\":[6.0,23.29419525065963,8.0,3.5,29.612903225806452,35.4],\"type\":\"bar\"}],                        {\"template\":{\"data\":{\"barpolar\":[{\"marker\":{\"line\":{\"color\":\"rgb(17,17,17)\",\"width\":0.5},\"pattern\":{\"fillmode\":\"overlay\",\"size\":10,\"solidity\":0.2}},\"type\":\"barpolar\"}],\"bar\":[{\"error_x\":{\"color\":\"#f2f5fa\"},\"error_y\":{\"color\":\"#f2f5fa\"},\"marker\":{\"line\":{\"color\":\"rgb(17,17,17)\",\"width\":0.5},\"pattern\":{\"fillmode\":\"overlay\",\"size\":10,\"solidity\":0.2}},\"type\":\"bar\"}],\"carpet\":[{\"aaxis\":{\"endlinecolor\":\"#A2B1C6\",\"gridcolor\":\"#506784\",\"linecolor\":\"#506784\",\"minorgridcolor\":\"#506784\",\"startlinecolor\":\"#A2B1C6\"},\"baxis\":{\"endlinecolor\":\"#A2B1C6\",\"gridcolor\":\"#506784\",\"linecolor\":\"#506784\",\"minorgridcolor\":\"#506784\",\"startlinecolor\":\"#A2B1C6\"},\"type\":\"carpet\"}],\"choropleth\":[{\"colorbar\":{\"outlinewidth\":0,\"ticks\":\"\"},\"type\":\"choropleth\"}],\"contourcarpet\":[{\"colorbar\":{\"outlinewidth\":0,\"ticks\":\"\"},\"type\":\"contourcarpet\"}],\"contour\":[{\"colorbar\":{\"outlinewidth\":0,\"ticks\":\"\"},\"colorscale\":[[0.0,\"#0d0887\"],[0.1111111111111111,\"#46039f\"],[0.2222222222222222,\"#7201a8\"],[0.3333333333333333,\"#9c179e\"],[0.4444444444444444,\"#bd3786\"],[0.5555555555555556,\"#d8576b\"],[0.6666666666666666,\"#ed7953\"],[0.7777777777777778,\"#fb9f3a\"],[0.8888888888888888,\"#fdca26\"],[1.0,\"#f0f921\"]],\"type\":\"contour\"}],\"heatmapgl\":[{\"colorbar\":{\"outlinewidth\":0,\"ticks\":\"\"},\"colorscale\":[[0.0,\"#0d0887\"],[0.1111111111111111,\"#46039f\"],[0.2222222222222222,\"#7201a8\"],[0.3333333333333333,\"#9c179e\"],[0.4444444444444444,\"#bd3786\"],[0.5555555555555556,\"#d8576b\"],[0.6666666666666666,\"#ed7953\"],[0.7777777777777778,\"#fb9f3a\"],[0.8888888888888888,\"#fdca26\"],[1.0,\"#f0f921\"]],\"type\":\"heatmapgl\"}],\"heatmap\":[{\"colorbar\":{\"outlinewidth\":0,\"ticks\":\"\"},\"colorscale\":[[0.0,\"#0d0887\"],[0.1111111111111111,\"#46039f\"],[0.2222222222222222,\"#7201a8\"],[0.3333333333333333,\"#9c179e\"],[0.4444444444444444,\"#bd3786\"],[0.5555555555555556,\"#d8576b\"],[0.6666666666666666,\"#ed7953\"],[0.7777777777777778,\"#fb9f3a\"],[0.8888888888888888,\"#fdca26\"],[1.0,\"#f0f921\"]],\"type\":\"heatmap\"}],\"histogram2dcontour\":[{\"colorbar\":{\"outlinewidth\":0,\"ticks\":\"\"},\"colorscale\":[[0.0,\"#0d0887\"],[0.1111111111111111,\"#46039f\"],[0.2222222222222222,\"#7201a8\"],[0.3333333333333333,\"#9c179e\"],[0.4444444444444444,\"#bd3786\"],[0.5555555555555556,\"#d8576b\"],[0.6666666666666666,\"#ed7953\"],[0.7777777777777778,\"#fb9f3a\"],[0.8888888888888888,\"#fdca26\"],[1.0,\"#f0f921\"]],\"type\":\"histogram2dcontour\"}],\"histogram2d\":[{\"colorbar\":{\"outlinewidth\":0,\"ticks\":\"\"},\"colorscale\":[[0.0,\"#0d0887\"],[0.1111111111111111,\"#46039f\"],[0.2222222222222222,\"#7201a8\"],[0.3333333333333333,\"#9c179e\"],[0.4444444444444444,\"#bd3786\"],[0.5555555555555556,\"#d8576b\"],[0.6666666666666666,\"#ed7953\"],[0.7777777777777778,\"#fb9f3a\"],[0.8888888888888888,\"#fdca26\"],[1.0,\"#f0f921\"]],\"type\":\"histogram2d\"}],\"histogram\":[{\"marker\":{\"pattern\":{\"fillmode\":\"overlay\",\"size\":10,\"solidity\":0.2}},\"type\":\"histogram\"}],\"mesh3d\":[{\"colorbar\":{\"outlinewidth\":0,\"ticks\":\"\"},\"type\":\"mesh3d\"}],\"parcoords\":[{\"line\":{\"colorbar\":{\"outlinewidth\":0,\"ticks\":\"\"}},\"type\":\"parcoords\"}],\"pie\":[{\"automargin\":true,\"type\":\"pie\"}],\"scatter3d\":[{\"line\":{\"colorbar\":{\"outlinewidth\":0,\"ticks\":\"\"}},\"marker\":{\"colorbar\":{\"outlinewidth\":0,\"ticks\":\"\"}},\"type\":\"scatter3d\"}],\"scattercarpet\":[{\"marker\":{\"colorbar\":{\"outlinewidth\":0,\"ticks\":\"\"}},\"type\":\"scattercarpet\"}],\"scattergeo\":[{\"marker\":{\"colorbar\":{\"outlinewidth\":0,\"ticks\":\"\"}},\"type\":\"scattergeo\"}],\"scattergl\":[{\"marker\":{\"line\":{\"color\":\"#283442\"}},\"type\":\"scattergl\"}],\"scattermapbox\":[{\"marker\":{\"colorbar\":{\"outlinewidth\":0,\"ticks\":\"\"}},\"type\":\"scattermapbox\"}],\"scatterpolargl\":[{\"marker\":{\"colorbar\":{\"outlinewidth\":0,\"ticks\":\"\"}},\"type\":\"scatterpolargl\"}],\"scatterpolar\":[{\"marker\":{\"colorbar\":{\"outlinewidth\":0,\"ticks\":\"\"}},\"type\":\"scatterpolar\"}],\"scatter\":[{\"marker\":{\"line\":{\"color\":\"#283442\"}},\"type\":\"scatter\"}],\"scatterternary\":[{\"marker\":{\"colorbar\":{\"outlinewidth\":0,\"ticks\":\"\"}},\"type\":\"scatterternary\"}],\"surface\":[{\"colorbar\":{\"outlinewidth\":0,\"ticks\":\"\"},\"colorscale\":[[0.0,\"#0d0887\"],[0.1111111111111111,\"#46039f\"],[0.2222222222222222,\"#7201a8\"],[0.3333333333333333,\"#9c179e\"],[0.4444444444444444,\"#bd3786\"],[0.5555555555555556,\"#d8576b\"],[0.6666666666666666,\"#ed7953\"],[0.7777777777777778,\"#fb9f3a\"],[0.8888888888888888,\"#fdca26\"],[1.0,\"#f0f921\"]],\"type\":\"surface\"}],\"table\":[{\"cells\":{\"fill\":{\"color\":\"#506784\"},\"line\":{\"color\":\"rgb(17,17,17)\"}},\"header\":{\"fill\":{\"color\":\"#2a3f5f\"},\"line\":{\"color\":\"rgb(17,17,17)\"}},\"type\":\"table\"}]},\"layout\":{\"annotationdefaults\":{\"arrowcolor\":\"#f2f5fa\",\"arrowhead\":0,\"arrowwidth\":1},\"autotypenumbers\":\"strict\",\"coloraxis\":{\"colorbar\":{\"outlinewidth\":0,\"ticks\":\"\"}},\"colorscale\":{\"diverging\":[[0,\"#8e0152\"],[0.1,\"#c51b7d\"],[0.2,\"#de77ae\"],[0.3,\"#f1b6da\"],[0.4,\"#fde0ef\"],[0.5,\"#f7f7f7\"],[0.6,\"#e6f5d0\"],[0.7,\"#b8e186\"],[0.8,\"#7fbc41\"],[0.9,\"#4d9221\"],[1,\"#276419\"]],\"sequential\":[[0.0,\"#0d0887\"],[0.1111111111111111,\"#46039f\"],[0.2222222222222222,\"#7201a8\"],[0.3333333333333333,\"#9c179e\"],[0.4444444444444444,\"#bd3786\"],[0.5555555555555556,\"#d8576b\"],[0.6666666666666666,\"#ed7953\"],[0.7777777777777778,\"#fb9f3a\"],[0.8888888888888888,\"#fdca26\"],[1.0,\"#f0f921\"]],\"sequentialminus\":[[0.0,\"#0d0887\"],[0.1111111111111111,\"#46039f\"],[0.2222222222222222,\"#7201a8\"],[0.3333333333333333,\"#9c179e\"],[0.4444444444444444,\"#bd3786\"],[0.5555555555555556,\"#d8576b\"],[0.6666666666666666,\"#ed7953\"],[0.7777777777777778,\"#fb9f3a\"],[0.8888888888888888,\"#fdca26\"],[1.0,\"#f0f921\"]]},\"colorway\":[\"#636efa\",\"#EF553B\",\"#00cc96\",\"#ab63fa\",\"#FFA15A\",\"#19d3f3\",\"#FF6692\",\"#B6E880\",\"#FF97FF\",\"#FECB52\"],\"font\":{\"color\":\"#f2f5fa\"},\"geo\":{\"bgcolor\":\"rgb(17,17,17)\",\"lakecolor\":\"rgb(17,17,17)\",\"landcolor\":\"rgb(17,17,17)\",\"showlakes\":true,\"showland\":true,\"subunitcolor\":\"#506784\"},\"hoverlabel\":{\"align\":\"left\"},\"hovermode\":\"closest\",\"mapbox\":{\"style\":\"dark\"},\"paper_bgcolor\":\"rgb(17,17,17)\",\"plot_bgcolor\":\"rgb(17,17,17)\",\"polar\":{\"angularaxis\":{\"gridcolor\":\"#506784\",\"linecolor\":\"#506784\",\"ticks\":\"\"},\"bgcolor\":\"rgb(17,17,17)\",\"radialaxis\":{\"gridcolor\":\"#506784\",\"linecolor\":\"#506784\",\"ticks\":\"\"}},\"scene\":{\"xaxis\":{\"backgroundcolor\":\"rgb(17,17,17)\",\"gridcolor\":\"#506784\",\"gridwidth\":2,\"linecolor\":\"#506784\",\"showbackground\":true,\"ticks\":\"\",\"zerolinecolor\":\"#C8D4E3\"},\"yaxis\":{\"backgroundcolor\":\"rgb(17,17,17)\",\"gridcolor\":\"#506784\",\"gridwidth\":2,\"linecolor\":\"#506784\",\"showbackground\":true,\"ticks\":\"\",\"zerolinecolor\":\"#C8D4E3\"},\"zaxis\":{\"backgroundcolor\":\"rgb(17,17,17)\",\"gridcolor\":\"#506784\",\"gridwidth\":2,\"linecolor\":\"#506784\",\"showbackground\":true,\"ticks\":\"\",\"zerolinecolor\":\"#C8D4E3\"}},\"shapedefaults\":{\"line\":{\"color\":\"#f2f5fa\"}},\"sliderdefaults\":{\"bgcolor\":\"#C8D4E3\",\"bordercolor\":\"rgb(17,17,17)\",\"borderwidth\":1,\"tickwidth\":0},\"ternary\":{\"aaxis\":{\"gridcolor\":\"#506784\",\"linecolor\":\"#506784\",\"ticks\":\"\"},\"baxis\":{\"gridcolor\":\"#506784\",\"linecolor\":\"#506784\",\"ticks\":\"\"},\"bgcolor\":\"rgb(17,17,17)\",\"caxis\":{\"gridcolor\":\"#506784\",\"linecolor\":\"#506784\",\"ticks\":\"\"}},\"title\":{\"x\":0.05},\"updatemenudefaults\":{\"bgcolor\":\"#506784\",\"borderwidth\":0},\"xaxis\":{\"automargin\":true,\"gridcolor\":\"#283442\",\"linecolor\":\"#506784\",\"ticks\":\"\",\"title\":{\"standoff\":15},\"zerolinecolor\":\"#283442\",\"zerolinewidth\":2},\"yaxis\":{\"automargin\":true,\"gridcolor\":\"#283442\",\"linecolor\":\"#506784\",\"ticks\":\"\",\"title\":{\"standoff\":15},\"zerolinecolor\":\"#283442\",\"zerolinewidth\":2}}},\"title\":{\"text\":\"Prices Categories By Country\"},\"xaxis\":{\"title\":{\"text\":\"Countries\"}},\"yaxis\":{\"title\":{\"text\":\"Avg Discount Prices\"}},\"legend\":{\"title\":{\"text\":\"Legend\"}}},                        {\"responsive\": true}                    ).then(function(){\n",
       "                            \n",
       "var gd = document.getElementById('9319ebb8-6265-4b39-97a0-cffd21988c88');\n",
       "var x = new MutationObserver(function (mutations, observer) {{\n",
       "        var display = window.getComputedStyle(gd).display;\n",
       "        if (!display || display === 'none') {{\n",
       "            console.log([gd, 'removed!']);\n",
       "            Plotly.purge(gd);\n",
       "            observer.disconnect();\n",
       "        }}\n",
       "}});\n",
       "\n",
       "// Listen for the removal of the full notebook cells\n",
       "var notebookContainer = gd.closest('#notebook-container');\n",
       "if (notebookContainer) {{\n",
       "    x.observe(notebookContainer, {childList: true});\n",
       "}}\n",
       "\n",
       "// Listen for the clearing of the current output cell\n",
       "var outputEl = gd.closest('.output');\n",
       "if (outputEl) {{\n",
       "    x.observe(outputEl, {childList: true});\n",
       "}}\n",
       "\n",
       "                        })                };                });            </script>        </div>"
      ]
     },
     "metadata": {},
     "output_type": "display_data"
    }
   ],
   "source": [
    "fig = go.Figure()\n",
    "fig.add_trace(go.Bar(x=prices_by_country.index.values, y=prices_by_country.price, name=\"Price\"))\n",
    "fig.add_trace(go.Scatter(x=prices_by_country.index.values, y=prices_by_country.discounted_price, name=\"Discounted Price\"))\n",
    "fig.add_trace(go.Bar(x=prices_by_country.index.values, y=prices_by_country.retail_price, name=\"Retail Price\"))\n",
    "fig.update_layout(title=\"Prices Categories By Country\", xaxis_title=\"Countries\", yaxis_title=\"Avg Discount Prices\", \n",
    "                  template=\"plotly_dark\", legend_title=\"Legend\")"
   ]
  },
  {
   "cell_type": "markdown",
   "id": "429364fb",
   "metadata": {},
   "source": [
    "The graph, displpays that theres a heavy discounts on prodcuts from Venezuela as displayed by red line by avg of around 26 euros"
   ]
  },
  {
   "cell_type": "markdown",
   "id": "2e1e6b7d",
   "metadata": {},
   "source": [
    "# Shipping Options and Prices"
   ]
  },
  {
   "cell_type": "code",
   "execution_count": 733,
   "id": "e92976ae",
   "metadata": {},
   "outputs": [
    {
     "data": {
      "text/plain": [
       "Index(['shipping_option_name', 'shipping_option_price', 'shipping_is_express'], dtype='object')"
      ]
     },
     "execution_count": 733,
     "metadata": {},
     "output_type": "execute_result"
    }
   ],
   "source": [
    "#this return each columns that contain word 'shipping'\n",
    "df.loc[:,df.columns.str.startswith(\"shipping\")].columns "
   ]
  },
  {
   "cell_type": "code",
   "execution_count": 734,
   "id": "52c1c527",
   "metadata": {},
   "outputs": [
    {
     "data": {
      "text/plain": [
       "Livraison standard                           1508\n",
       "Standard Shipping                              20\n",
       "Envio Padrão                                    9\n",
       "Expediere Standard                              6\n",
       "Envío normal                                    5\n",
       "الشحن القياسي                                   4\n",
       "Standardowa wysyłka                             3\n",
       "Standardversand                                 3\n",
       "Livraison Express                               3\n",
       "Стандартная доставка                            3\n",
       "Spedizione standard                             2\n",
       "Standart Gönderi                                2\n",
       "การส่งสินค้ามาตรฐาน                             2\n",
       "currency_buyer' , 'theme' , 'crawl_month'       1\n",
       "ការដឹកជញ្ជូនតាមស្តង់ដារ                         1\n",
       "Ekspresowa wysyłka                              1\n",
       "Name: shipping_option_name, dtype: int64"
      ]
     },
     "execution_count": 734,
     "metadata": {},
     "output_type": "execute_result"
    }
   ],
   "source": [
    "#this retur the short ddescription about shipping_option_name vlues\n",
    "df['shipping_option_name'].value_counts() "
   ]
  },
  {
   "cell_type": "markdown",
   "id": "5d62ddee",
   "metadata": {},
   "source": [
    "Livraison standard is quite populuar option for shipping. i check the prices"
   ]
  },
  {
   "cell_type": "code",
   "execution_count": 735,
   "id": "3e6f6511",
   "metadata": {},
   "outputs": [
    {
     "data": {
      "application/vnd.plotly.v1+json": {
       "config": {
        "plotlyServerURL": "https://plot.ly"
       },
       "data": [
        {
         "labels": [
          2,
          3,
          1,
          4,
          5,
          6,
          7
         ],
         "type": "pie",
         "values": [
          604,
          492,
          296,
          72,
          31,
          11,
          2
         ]
        }
       ],
       "layout": {
        "legend": {
         "title": {
          "text": "Prices In Euros"
         }
        },
        "template": {
         "data": {
          "bar": [
           {
            "error_x": {
             "color": "#f2f5fa"
            },
            "error_y": {
             "color": "#f2f5fa"
            },
            "marker": {
             "line": {
              "color": "rgb(17,17,17)",
              "width": 0.5
             },
             "pattern": {
              "fillmode": "overlay",
              "size": 10,
              "solidity": 0.2
             }
            },
            "type": "bar"
           }
          ],
          "barpolar": [
           {
            "marker": {
             "line": {
              "color": "rgb(17,17,17)",
              "width": 0.5
             },
             "pattern": {
              "fillmode": "overlay",
              "size": 10,
              "solidity": 0.2
             }
            },
            "type": "barpolar"
           }
          ],
          "carpet": [
           {
            "aaxis": {
             "endlinecolor": "#A2B1C6",
             "gridcolor": "#506784",
             "linecolor": "#506784",
             "minorgridcolor": "#506784",
             "startlinecolor": "#A2B1C6"
            },
            "baxis": {
             "endlinecolor": "#A2B1C6",
             "gridcolor": "#506784",
             "linecolor": "#506784",
             "minorgridcolor": "#506784",
             "startlinecolor": "#A2B1C6"
            },
            "type": "carpet"
           }
          ],
          "choropleth": [
           {
            "colorbar": {
             "outlinewidth": 0,
             "ticks": ""
            },
            "type": "choropleth"
           }
          ],
          "contour": [
           {
            "colorbar": {
             "outlinewidth": 0,
             "ticks": ""
            },
            "colorscale": [
             [
              0,
              "#0d0887"
             ],
             [
              0.1111111111111111,
              "#46039f"
             ],
             [
              0.2222222222222222,
              "#7201a8"
             ],
             [
              0.3333333333333333,
              "#9c179e"
             ],
             [
              0.4444444444444444,
              "#bd3786"
             ],
             [
              0.5555555555555556,
              "#d8576b"
             ],
             [
              0.6666666666666666,
              "#ed7953"
             ],
             [
              0.7777777777777778,
              "#fb9f3a"
             ],
             [
              0.8888888888888888,
              "#fdca26"
             ],
             [
              1,
              "#f0f921"
             ]
            ],
            "type": "contour"
           }
          ],
          "contourcarpet": [
           {
            "colorbar": {
             "outlinewidth": 0,
             "ticks": ""
            },
            "type": "contourcarpet"
           }
          ],
          "heatmap": [
           {
            "colorbar": {
             "outlinewidth": 0,
             "ticks": ""
            },
            "colorscale": [
             [
              0,
              "#0d0887"
             ],
             [
              0.1111111111111111,
              "#46039f"
             ],
             [
              0.2222222222222222,
              "#7201a8"
             ],
             [
              0.3333333333333333,
              "#9c179e"
             ],
             [
              0.4444444444444444,
              "#bd3786"
             ],
             [
              0.5555555555555556,
              "#d8576b"
             ],
             [
              0.6666666666666666,
              "#ed7953"
             ],
             [
              0.7777777777777778,
              "#fb9f3a"
             ],
             [
              0.8888888888888888,
              "#fdca26"
             ],
             [
              1,
              "#f0f921"
             ]
            ],
            "type": "heatmap"
           }
          ],
          "heatmapgl": [
           {
            "colorbar": {
             "outlinewidth": 0,
             "ticks": ""
            },
            "colorscale": [
             [
              0,
              "#0d0887"
             ],
             [
              0.1111111111111111,
              "#46039f"
             ],
             [
              0.2222222222222222,
              "#7201a8"
             ],
             [
              0.3333333333333333,
              "#9c179e"
             ],
             [
              0.4444444444444444,
              "#bd3786"
             ],
             [
              0.5555555555555556,
              "#d8576b"
             ],
             [
              0.6666666666666666,
              "#ed7953"
             ],
             [
              0.7777777777777778,
              "#fb9f3a"
             ],
             [
              0.8888888888888888,
              "#fdca26"
             ],
             [
              1,
              "#f0f921"
             ]
            ],
            "type": "heatmapgl"
           }
          ],
          "histogram": [
           {
            "marker": {
             "pattern": {
              "fillmode": "overlay",
              "size": 10,
              "solidity": 0.2
             }
            },
            "type": "histogram"
           }
          ],
          "histogram2d": [
           {
            "colorbar": {
             "outlinewidth": 0,
             "ticks": ""
            },
            "colorscale": [
             [
              0,
              "#0d0887"
             ],
             [
              0.1111111111111111,
              "#46039f"
             ],
             [
              0.2222222222222222,
              "#7201a8"
             ],
             [
              0.3333333333333333,
              "#9c179e"
             ],
             [
              0.4444444444444444,
              "#bd3786"
             ],
             [
              0.5555555555555556,
              "#d8576b"
             ],
             [
              0.6666666666666666,
              "#ed7953"
             ],
             [
              0.7777777777777778,
              "#fb9f3a"
             ],
             [
              0.8888888888888888,
              "#fdca26"
             ],
             [
              1,
              "#f0f921"
             ]
            ],
            "type": "histogram2d"
           }
          ],
          "histogram2dcontour": [
           {
            "colorbar": {
             "outlinewidth": 0,
             "ticks": ""
            },
            "colorscale": [
             [
              0,
              "#0d0887"
             ],
             [
              0.1111111111111111,
              "#46039f"
             ],
             [
              0.2222222222222222,
              "#7201a8"
             ],
             [
              0.3333333333333333,
              "#9c179e"
             ],
             [
              0.4444444444444444,
              "#bd3786"
             ],
             [
              0.5555555555555556,
              "#d8576b"
             ],
             [
              0.6666666666666666,
              "#ed7953"
             ],
             [
              0.7777777777777778,
              "#fb9f3a"
             ],
             [
              0.8888888888888888,
              "#fdca26"
             ],
             [
              1,
              "#f0f921"
             ]
            ],
            "type": "histogram2dcontour"
           }
          ],
          "mesh3d": [
           {
            "colorbar": {
             "outlinewidth": 0,
             "ticks": ""
            },
            "type": "mesh3d"
           }
          ],
          "parcoords": [
           {
            "line": {
             "colorbar": {
              "outlinewidth": 0,
              "ticks": ""
             }
            },
            "type": "parcoords"
           }
          ],
          "pie": [
           {
            "automargin": true,
            "type": "pie"
           }
          ],
          "scatter": [
           {
            "marker": {
             "line": {
              "color": "#283442"
             }
            },
            "type": "scatter"
           }
          ],
          "scatter3d": [
           {
            "line": {
             "colorbar": {
              "outlinewidth": 0,
              "ticks": ""
             }
            },
            "marker": {
             "colorbar": {
              "outlinewidth": 0,
              "ticks": ""
             }
            },
            "type": "scatter3d"
           }
          ],
          "scattercarpet": [
           {
            "marker": {
             "colorbar": {
              "outlinewidth": 0,
              "ticks": ""
             }
            },
            "type": "scattercarpet"
           }
          ],
          "scattergeo": [
           {
            "marker": {
             "colorbar": {
              "outlinewidth": 0,
              "ticks": ""
             }
            },
            "type": "scattergeo"
           }
          ],
          "scattergl": [
           {
            "marker": {
             "line": {
              "color": "#283442"
             }
            },
            "type": "scattergl"
           }
          ],
          "scattermapbox": [
           {
            "marker": {
             "colorbar": {
              "outlinewidth": 0,
              "ticks": ""
             }
            },
            "type": "scattermapbox"
           }
          ],
          "scatterpolar": [
           {
            "marker": {
             "colorbar": {
              "outlinewidth": 0,
              "ticks": ""
             }
            },
            "type": "scatterpolar"
           }
          ],
          "scatterpolargl": [
           {
            "marker": {
             "colorbar": {
              "outlinewidth": 0,
              "ticks": ""
             }
            },
            "type": "scatterpolargl"
           }
          ],
          "scatterternary": [
           {
            "marker": {
             "colorbar": {
              "outlinewidth": 0,
              "ticks": ""
             }
            },
            "type": "scatterternary"
           }
          ],
          "surface": [
           {
            "colorbar": {
             "outlinewidth": 0,
             "ticks": ""
            },
            "colorscale": [
             [
              0,
              "#0d0887"
             ],
             [
              0.1111111111111111,
              "#46039f"
             ],
             [
              0.2222222222222222,
              "#7201a8"
             ],
             [
              0.3333333333333333,
              "#9c179e"
             ],
             [
              0.4444444444444444,
              "#bd3786"
             ],
             [
              0.5555555555555556,
              "#d8576b"
             ],
             [
              0.6666666666666666,
              "#ed7953"
             ],
             [
              0.7777777777777778,
              "#fb9f3a"
             ],
             [
              0.8888888888888888,
              "#fdca26"
             ],
             [
              1,
              "#f0f921"
             ]
            ],
            "type": "surface"
           }
          ],
          "table": [
           {
            "cells": {
             "fill": {
              "color": "#506784"
             },
             "line": {
              "color": "rgb(17,17,17)"
             }
            },
            "header": {
             "fill": {
              "color": "#2a3f5f"
             },
             "line": {
              "color": "rgb(17,17,17)"
             }
            },
            "type": "table"
           }
          ]
         },
         "layout": {
          "annotationdefaults": {
           "arrowcolor": "#f2f5fa",
           "arrowhead": 0,
           "arrowwidth": 1
          },
          "autotypenumbers": "strict",
          "coloraxis": {
           "colorbar": {
            "outlinewidth": 0,
            "ticks": ""
           }
          },
          "colorscale": {
           "diverging": [
            [
             0,
             "#8e0152"
            ],
            [
             0.1,
             "#c51b7d"
            ],
            [
             0.2,
             "#de77ae"
            ],
            [
             0.3,
             "#f1b6da"
            ],
            [
             0.4,
             "#fde0ef"
            ],
            [
             0.5,
             "#f7f7f7"
            ],
            [
             0.6,
             "#e6f5d0"
            ],
            [
             0.7,
             "#b8e186"
            ],
            [
             0.8,
             "#7fbc41"
            ],
            [
             0.9,
             "#4d9221"
            ],
            [
             1,
             "#276419"
            ]
           ],
           "sequential": [
            [
             0,
             "#0d0887"
            ],
            [
             0.1111111111111111,
             "#46039f"
            ],
            [
             0.2222222222222222,
             "#7201a8"
            ],
            [
             0.3333333333333333,
             "#9c179e"
            ],
            [
             0.4444444444444444,
             "#bd3786"
            ],
            [
             0.5555555555555556,
             "#d8576b"
            ],
            [
             0.6666666666666666,
             "#ed7953"
            ],
            [
             0.7777777777777778,
             "#fb9f3a"
            ],
            [
             0.8888888888888888,
             "#fdca26"
            ],
            [
             1,
             "#f0f921"
            ]
           ],
           "sequentialminus": [
            [
             0,
             "#0d0887"
            ],
            [
             0.1111111111111111,
             "#46039f"
            ],
            [
             0.2222222222222222,
             "#7201a8"
            ],
            [
             0.3333333333333333,
             "#9c179e"
            ],
            [
             0.4444444444444444,
             "#bd3786"
            ],
            [
             0.5555555555555556,
             "#d8576b"
            ],
            [
             0.6666666666666666,
             "#ed7953"
            ],
            [
             0.7777777777777778,
             "#fb9f3a"
            ],
            [
             0.8888888888888888,
             "#fdca26"
            ],
            [
             1,
             "#f0f921"
            ]
           ]
          },
          "colorway": [
           "#636efa",
           "#EF553B",
           "#00cc96",
           "#ab63fa",
           "#FFA15A",
           "#19d3f3",
           "#FF6692",
           "#B6E880",
           "#FF97FF",
           "#FECB52"
          ],
          "font": {
           "color": "#f2f5fa"
          },
          "geo": {
           "bgcolor": "rgb(17,17,17)",
           "lakecolor": "rgb(17,17,17)",
           "landcolor": "rgb(17,17,17)",
           "showlakes": true,
           "showland": true,
           "subunitcolor": "#506784"
          },
          "hoverlabel": {
           "align": "left"
          },
          "hovermode": "closest",
          "mapbox": {
           "style": "dark"
          },
          "paper_bgcolor": "rgb(17,17,17)",
          "plot_bgcolor": "rgb(17,17,17)",
          "polar": {
           "angularaxis": {
            "gridcolor": "#506784",
            "linecolor": "#506784",
            "ticks": ""
           },
           "bgcolor": "rgb(17,17,17)",
           "radialaxis": {
            "gridcolor": "#506784",
            "linecolor": "#506784",
            "ticks": ""
           }
          },
          "scene": {
           "xaxis": {
            "backgroundcolor": "rgb(17,17,17)",
            "gridcolor": "#506784",
            "gridwidth": 2,
            "linecolor": "#506784",
            "showbackground": true,
            "ticks": "",
            "zerolinecolor": "#C8D4E3"
           },
           "yaxis": {
            "backgroundcolor": "rgb(17,17,17)",
            "gridcolor": "#506784",
            "gridwidth": 2,
            "linecolor": "#506784",
            "showbackground": true,
            "ticks": "",
            "zerolinecolor": "#C8D4E3"
           },
           "zaxis": {
            "backgroundcolor": "rgb(17,17,17)",
            "gridcolor": "#506784",
            "gridwidth": 2,
            "linecolor": "#506784",
            "showbackground": true,
            "ticks": "",
            "zerolinecolor": "#C8D4E3"
           }
          },
          "shapedefaults": {
           "line": {
            "color": "#f2f5fa"
           }
          },
          "sliderdefaults": {
           "bgcolor": "#C8D4E3",
           "bordercolor": "rgb(17,17,17)",
           "borderwidth": 1,
           "tickwidth": 0
          },
          "ternary": {
           "aaxis": {
            "gridcolor": "#506784",
            "linecolor": "#506784",
            "ticks": ""
           },
           "baxis": {
            "gridcolor": "#506784",
            "linecolor": "#506784",
            "ticks": ""
           },
           "bgcolor": "rgb(17,17,17)",
           "caxis": {
            "gridcolor": "#506784",
            "linecolor": "#506784",
            "ticks": ""
           }
          },
          "title": {
           "x": 0.05
          },
          "updatemenudefaults": {
           "bgcolor": "#506784",
           "borderwidth": 0
          },
          "xaxis": {
           "automargin": true,
           "gridcolor": "#283442",
           "linecolor": "#506784",
           "ticks": "",
           "title": {
            "standoff": 15
           },
           "zerolinecolor": "#283442",
           "zerolinewidth": 2
          },
          "yaxis": {
           "automargin": true,
           "gridcolor": "#283442",
           "linecolor": "#506784",
           "ticks": "",
           "title": {
            "standoff": 15
           },
           "zerolinecolor": "#283442",
           "zerolinewidth": 2
          }
         }
        },
        "title": {
         "text": "Livrasion Standard Prices"
        }
       }
      },
      "text/html": [
       "<div>                            <div id=\"80478e2f-b9d9-4d4a-8654-3d43d0b5d85b\" class=\"plotly-graph-div\" style=\"height:525px; width:100%;\"></div>            <script type=\"text/javascript\">                require([\"plotly\"], function(Plotly) {                    window.PLOTLYENV=window.PLOTLYENV || {};                                    if (document.getElementById(\"80478e2f-b9d9-4d4a-8654-3d43d0b5d85b\")) {                    Plotly.newPlot(                        \"80478e2f-b9d9-4d4a-8654-3d43d0b5d85b\",                        [{\"labels\":[2,3,1,4,5,6,7],\"values\":[604,492,296,72,31,11,2],\"type\":\"pie\"}],                        {\"template\":{\"data\":{\"barpolar\":[{\"marker\":{\"line\":{\"color\":\"rgb(17,17,17)\",\"width\":0.5},\"pattern\":{\"fillmode\":\"overlay\",\"size\":10,\"solidity\":0.2}},\"type\":\"barpolar\"}],\"bar\":[{\"error_x\":{\"color\":\"#f2f5fa\"},\"error_y\":{\"color\":\"#f2f5fa\"},\"marker\":{\"line\":{\"color\":\"rgb(17,17,17)\",\"width\":0.5},\"pattern\":{\"fillmode\":\"overlay\",\"size\":10,\"solidity\":0.2}},\"type\":\"bar\"}],\"carpet\":[{\"aaxis\":{\"endlinecolor\":\"#A2B1C6\",\"gridcolor\":\"#506784\",\"linecolor\":\"#506784\",\"minorgridcolor\":\"#506784\",\"startlinecolor\":\"#A2B1C6\"},\"baxis\":{\"endlinecolor\":\"#A2B1C6\",\"gridcolor\":\"#506784\",\"linecolor\":\"#506784\",\"minorgridcolor\":\"#506784\",\"startlinecolor\":\"#A2B1C6\"},\"type\":\"carpet\"}],\"choropleth\":[{\"colorbar\":{\"outlinewidth\":0,\"ticks\":\"\"},\"type\":\"choropleth\"}],\"contourcarpet\":[{\"colorbar\":{\"outlinewidth\":0,\"ticks\":\"\"},\"type\":\"contourcarpet\"}],\"contour\":[{\"colorbar\":{\"outlinewidth\":0,\"ticks\":\"\"},\"colorscale\":[[0.0,\"#0d0887\"],[0.1111111111111111,\"#46039f\"],[0.2222222222222222,\"#7201a8\"],[0.3333333333333333,\"#9c179e\"],[0.4444444444444444,\"#bd3786\"],[0.5555555555555556,\"#d8576b\"],[0.6666666666666666,\"#ed7953\"],[0.7777777777777778,\"#fb9f3a\"],[0.8888888888888888,\"#fdca26\"],[1.0,\"#f0f921\"]],\"type\":\"contour\"}],\"heatmapgl\":[{\"colorbar\":{\"outlinewidth\":0,\"ticks\":\"\"},\"colorscale\":[[0.0,\"#0d0887\"],[0.1111111111111111,\"#46039f\"],[0.2222222222222222,\"#7201a8\"],[0.3333333333333333,\"#9c179e\"],[0.4444444444444444,\"#bd3786\"],[0.5555555555555556,\"#d8576b\"],[0.6666666666666666,\"#ed7953\"],[0.7777777777777778,\"#fb9f3a\"],[0.8888888888888888,\"#fdca26\"],[1.0,\"#f0f921\"]],\"type\":\"heatmapgl\"}],\"heatmap\":[{\"colorbar\":{\"outlinewidth\":0,\"ticks\":\"\"},\"colorscale\":[[0.0,\"#0d0887\"],[0.1111111111111111,\"#46039f\"],[0.2222222222222222,\"#7201a8\"],[0.3333333333333333,\"#9c179e\"],[0.4444444444444444,\"#bd3786\"],[0.5555555555555556,\"#d8576b\"],[0.6666666666666666,\"#ed7953\"],[0.7777777777777778,\"#fb9f3a\"],[0.8888888888888888,\"#fdca26\"],[1.0,\"#f0f921\"]],\"type\":\"heatmap\"}],\"histogram2dcontour\":[{\"colorbar\":{\"outlinewidth\":0,\"ticks\":\"\"},\"colorscale\":[[0.0,\"#0d0887\"],[0.1111111111111111,\"#46039f\"],[0.2222222222222222,\"#7201a8\"],[0.3333333333333333,\"#9c179e\"],[0.4444444444444444,\"#bd3786\"],[0.5555555555555556,\"#d8576b\"],[0.6666666666666666,\"#ed7953\"],[0.7777777777777778,\"#fb9f3a\"],[0.8888888888888888,\"#fdca26\"],[1.0,\"#f0f921\"]],\"type\":\"histogram2dcontour\"}],\"histogram2d\":[{\"colorbar\":{\"outlinewidth\":0,\"ticks\":\"\"},\"colorscale\":[[0.0,\"#0d0887\"],[0.1111111111111111,\"#46039f\"],[0.2222222222222222,\"#7201a8\"],[0.3333333333333333,\"#9c179e\"],[0.4444444444444444,\"#bd3786\"],[0.5555555555555556,\"#d8576b\"],[0.6666666666666666,\"#ed7953\"],[0.7777777777777778,\"#fb9f3a\"],[0.8888888888888888,\"#fdca26\"],[1.0,\"#f0f921\"]],\"type\":\"histogram2d\"}],\"histogram\":[{\"marker\":{\"pattern\":{\"fillmode\":\"overlay\",\"size\":10,\"solidity\":0.2}},\"type\":\"histogram\"}],\"mesh3d\":[{\"colorbar\":{\"outlinewidth\":0,\"ticks\":\"\"},\"type\":\"mesh3d\"}],\"parcoords\":[{\"line\":{\"colorbar\":{\"outlinewidth\":0,\"ticks\":\"\"}},\"type\":\"parcoords\"}],\"pie\":[{\"automargin\":true,\"type\":\"pie\"}],\"scatter3d\":[{\"line\":{\"colorbar\":{\"outlinewidth\":0,\"ticks\":\"\"}},\"marker\":{\"colorbar\":{\"outlinewidth\":0,\"ticks\":\"\"}},\"type\":\"scatter3d\"}],\"scattercarpet\":[{\"marker\":{\"colorbar\":{\"outlinewidth\":0,\"ticks\":\"\"}},\"type\":\"scattercarpet\"}],\"scattergeo\":[{\"marker\":{\"colorbar\":{\"outlinewidth\":0,\"ticks\":\"\"}},\"type\":\"scattergeo\"}],\"scattergl\":[{\"marker\":{\"line\":{\"color\":\"#283442\"}},\"type\":\"scattergl\"}],\"scattermapbox\":[{\"marker\":{\"colorbar\":{\"outlinewidth\":0,\"ticks\":\"\"}},\"type\":\"scattermapbox\"}],\"scatterpolargl\":[{\"marker\":{\"colorbar\":{\"outlinewidth\":0,\"ticks\":\"\"}},\"type\":\"scatterpolargl\"}],\"scatterpolar\":[{\"marker\":{\"colorbar\":{\"outlinewidth\":0,\"ticks\":\"\"}},\"type\":\"scatterpolar\"}],\"scatter\":[{\"marker\":{\"line\":{\"color\":\"#283442\"}},\"type\":\"scatter\"}],\"scatterternary\":[{\"marker\":{\"colorbar\":{\"outlinewidth\":0,\"ticks\":\"\"}},\"type\":\"scatterternary\"}],\"surface\":[{\"colorbar\":{\"outlinewidth\":0,\"ticks\":\"\"},\"colorscale\":[[0.0,\"#0d0887\"],[0.1111111111111111,\"#46039f\"],[0.2222222222222222,\"#7201a8\"],[0.3333333333333333,\"#9c179e\"],[0.4444444444444444,\"#bd3786\"],[0.5555555555555556,\"#d8576b\"],[0.6666666666666666,\"#ed7953\"],[0.7777777777777778,\"#fb9f3a\"],[0.8888888888888888,\"#fdca26\"],[1.0,\"#f0f921\"]],\"type\":\"surface\"}],\"table\":[{\"cells\":{\"fill\":{\"color\":\"#506784\"},\"line\":{\"color\":\"rgb(17,17,17)\"}},\"header\":{\"fill\":{\"color\":\"#2a3f5f\"},\"line\":{\"color\":\"rgb(17,17,17)\"}},\"type\":\"table\"}]},\"layout\":{\"annotationdefaults\":{\"arrowcolor\":\"#f2f5fa\",\"arrowhead\":0,\"arrowwidth\":1},\"autotypenumbers\":\"strict\",\"coloraxis\":{\"colorbar\":{\"outlinewidth\":0,\"ticks\":\"\"}},\"colorscale\":{\"diverging\":[[0,\"#8e0152\"],[0.1,\"#c51b7d\"],[0.2,\"#de77ae\"],[0.3,\"#f1b6da\"],[0.4,\"#fde0ef\"],[0.5,\"#f7f7f7\"],[0.6,\"#e6f5d0\"],[0.7,\"#b8e186\"],[0.8,\"#7fbc41\"],[0.9,\"#4d9221\"],[1,\"#276419\"]],\"sequential\":[[0.0,\"#0d0887\"],[0.1111111111111111,\"#46039f\"],[0.2222222222222222,\"#7201a8\"],[0.3333333333333333,\"#9c179e\"],[0.4444444444444444,\"#bd3786\"],[0.5555555555555556,\"#d8576b\"],[0.6666666666666666,\"#ed7953\"],[0.7777777777777778,\"#fb9f3a\"],[0.8888888888888888,\"#fdca26\"],[1.0,\"#f0f921\"]],\"sequentialminus\":[[0.0,\"#0d0887\"],[0.1111111111111111,\"#46039f\"],[0.2222222222222222,\"#7201a8\"],[0.3333333333333333,\"#9c179e\"],[0.4444444444444444,\"#bd3786\"],[0.5555555555555556,\"#d8576b\"],[0.6666666666666666,\"#ed7953\"],[0.7777777777777778,\"#fb9f3a\"],[0.8888888888888888,\"#fdca26\"],[1.0,\"#f0f921\"]]},\"colorway\":[\"#636efa\",\"#EF553B\",\"#00cc96\",\"#ab63fa\",\"#FFA15A\",\"#19d3f3\",\"#FF6692\",\"#B6E880\",\"#FF97FF\",\"#FECB52\"],\"font\":{\"color\":\"#f2f5fa\"},\"geo\":{\"bgcolor\":\"rgb(17,17,17)\",\"lakecolor\":\"rgb(17,17,17)\",\"landcolor\":\"rgb(17,17,17)\",\"showlakes\":true,\"showland\":true,\"subunitcolor\":\"#506784\"},\"hoverlabel\":{\"align\":\"left\"},\"hovermode\":\"closest\",\"mapbox\":{\"style\":\"dark\"},\"paper_bgcolor\":\"rgb(17,17,17)\",\"plot_bgcolor\":\"rgb(17,17,17)\",\"polar\":{\"angularaxis\":{\"gridcolor\":\"#506784\",\"linecolor\":\"#506784\",\"ticks\":\"\"},\"bgcolor\":\"rgb(17,17,17)\",\"radialaxis\":{\"gridcolor\":\"#506784\",\"linecolor\":\"#506784\",\"ticks\":\"\"}},\"scene\":{\"xaxis\":{\"backgroundcolor\":\"rgb(17,17,17)\",\"gridcolor\":\"#506784\",\"gridwidth\":2,\"linecolor\":\"#506784\",\"showbackground\":true,\"ticks\":\"\",\"zerolinecolor\":\"#C8D4E3\"},\"yaxis\":{\"backgroundcolor\":\"rgb(17,17,17)\",\"gridcolor\":\"#506784\",\"gridwidth\":2,\"linecolor\":\"#506784\",\"showbackground\":true,\"ticks\":\"\",\"zerolinecolor\":\"#C8D4E3\"},\"zaxis\":{\"backgroundcolor\":\"rgb(17,17,17)\",\"gridcolor\":\"#506784\",\"gridwidth\":2,\"linecolor\":\"#506784\",\"showbackground\":true,\"ticks\":\"\",\"zerolinecolor\":\"#C8D4E3\"}},\"shapedefaults\":{\"line\":{\"color\":\"#f2f5fa\"}},\"sliderdefaults\":{\"bgcolor\":\"#C8D4E3\",\"bordercolor\":\"rgb(17,17,17)\",\"borderwidth\":1,\"tickwidth\":0},\"ternary\":{\"aaxis\":{\"gridcolor\":\"#506784\",\"linecolor\":\"#506784\",\"ticks\":\"\"},\"baxis\":{\"gridcolor\":\"#506784\",\"linecolor\":\"#506784\",\"ticks\":\"\"},\"bgcolor\":\"rgb(17,17,17)\",\"caxis\":{\"gridcolor\":\"#506784\",\"linecolor\":\"#506784\",\"ticks\":\"\"}},\"title\":{\"x\":0.05},\"updatemenudefaults\":{\"bgcolor\":\"#506784\",\"borderwidth\":0},\"xaxis\":{\"automargin\":true,\"gridcolor\":\"#283442\",\"linecolor\":\"#506784\",\"ticks\":\"\",\"title\":{\"standoff\":15},\"zerolinecolor\":\"#283442\",\"zerolinewidth\":2},\"yaxis\":{\"automargin\":true,\"gridcolor\":\"#283442\",\"linecolor\":\"#506784\",\"ticks\":\"\",\"title\":{\"standoff\":15},\"zerolinecolor\":\"#283442\",\"zerolinewidth\":2}}},\"title\":{\"text\":\"Livrasion Standard Prices\"},\"legend\":{\"title\":{\"text\":\"Prices In Euros\"}}},                        {\"responsive\": true}                    ).then(function(){\n",
       "                            \n",
       "var gd = document.getElementById('80478e2f-b9d9-4d4a-8654-3d43d0b5d85b');\n",
       "var x = new MutationObserver(function (mutations, observer) {{\n",
       "        var display = window.getComputedStyle(gd).display;\n",
       "        if (!display || display === 'none') {{\n",
       "            console.log([gd, 'removed!']);\n",
       "            Plotly.purge(gd);\n",
       "            observer.disconnect();\n",
       "        }}\n",
       "}});\n",
       "\n",
       "// Listen for the removal of the full notebook cells\n",
       "var notebookContainer = gd.closest('#notebook-container');\n",
       "if (notebookContainer) {{\n",
       "    x.observe(notebookContainer, {childList: true});\n",
       "}}\n",
       "\n",
       "// Listen for the clearing of the current output cell\n",
       "var outputEl = gd.closest('.output');\n",
       "if (outputEl) {{\n",
       "    x.observe(outputEl, {childList: true});\n",
       "}}\n",
       "\n",
       "                        })                };                });            </script>        </div>"
      ]
     },
     "metadata": {},
     "output_type": "display_data"
    }
   ],
   "source": [
    "livrasion_prices = df[df.shipping_option_name =='Livraison standard']['shipping_option_price'].value_counts().index.values\n",
    "livrasion_prices_frquency = df[df.shipping_option_name =='Livraison standard']['shipping_option_price'].value_counts().values\n",
    "fig = go.Figure()\n",
    "fig.add_trace(go.Pie(labels=livrasion_prices, values=livrasion_prices_frquency))\n",
    "fig.update_layout(title=\"Livrasion Standard Prices\", legend_title=\"Prices In Euros\", template=\"plotly_dark\")"
   ]
  },
  {
   "cell_type": "markdown",
   "id": "826bb5f5",
   "metadata": {},
   "source": [
    "Most customers choose shipping options from 1-3 euros."
   ]
  },
  {
   "cell_type": "code",
   "execution_count": 736,
   "id": "aca963a5",
   "metadata": {
    "scrolled": true
   },
   "outputs": [
    {
     "data": {
      "text/plain": [
       "0    1569\n",
       "1       4\n",
       "Name: shipping_is_express, dtype: int64"
      ]
     },
     "execution_count": 736,
     "metadata": {},
     "output_type": "execute_result"
    }
   ],
   "source": [
    "df['shipping_is_express'].value_counts()   #shipping_is_express valuses count "
   ]
  },
  {
   "cell_type": "markdown",
   "id": "eb944158",
   "metadata": {},
   "source": [
    "Almost all the shipping is not express so we can drop it "
   ]
  },
  {
   "cell_type": "code",
   "execution_count": 737,
   "id": "888bd0c1",
   "metadata": {},
   "outputs": [],
   "source": [
    "df.drop('shipping_is_express' , inplace=True, axis=1)    #drop the column"
   ]
  },
  {
   "cell_type": "code",
   "execution_count": 738,
   "id": "9afad62f",
   "metadata": {},
   "outputs": [],
   "source": [
    "df.drop('inventory_total' , inplace=True , axis = 1)"
   ]
  },
  {
   "cell_type": "code",
   "execution_count": 739,
   "id": "783796e7",
   "metadata": {},
   "outputs": [
    {
     "name": "stdout",
     "output_type": "stream",
     "text": [
      "<class 'pandas.core.frame.DataFrame'>\n",
      "RangeIndex: 1573 entries, 0 to 1572\n",
      "Data columns (total 28 columns):\n",
      " #   Column                        Non-Null Count  Dtype  \n",
      "---  ------                        --------------  -----  \n",
      " 0   price                         1573 non-null   float64\n",
      " 1   retail_price                  1573 non-null   int64  \n",
      " 2   units_sold                    1573 non-null   int64  \n",
      " 3   uses_ad_boosts                1573 non-null   int64  \n",
      " 4   rating                        1573 non-null   int64  \n",
      " 5   rating_count                  1573 non-null   int64  \n",
      " 6   badges_count                  1573 non-null   int64  \n",
      " 7   badge_local_product           1573 non-null   object \n",
      " 8   badge_product_quality         1573 non-null   object \n",
      " 9   badge_fast_shipping           1573 non-null   object \n",
      " 10  tags                          1573 non-null   object \n",
      " 11  product_color                 1532 non-null   object \n",
      " 12  product_variation_size_id     1573 non-null   object \n",
      " 13  product_variation_inventory   1573 non-null   int64  \n",
      " 14  shipping_option_name          1573 non-null   object \n",
      " 15  shipping_option_price         1573 non-null   int64  \n",
      " 16  countries_shipped_to          1573 non-null   int64  \n",
      " 17  origin_country                1556 non-null   object \n",
      " 18  merchant_title                1573 non-null   object \n",
      " 19  merchant_name                 1569 non-null   object \n",
      " 20  merchant_info_subtitle        1572 non-null   object \n",
      " 21  merchant_rating_count         1573 non-null   int64  \n",
      " 22  merchant_rating               1573 non-null   float64\n",
      " 23  merchant_id                   1573 non-null   object \n",
      " 24  merchant_has_profile_picture  1573 non-null   int64  \n",
      " 25  merchant_profile_picture      226 non-null    object \n",
      " 26  id                            1573 non-null   int64  \n",
      " 27  discounted_price              1573 non-null   float64\n",
      "dtypes: float64(3), int64(12), object(13)\n",
      "memory usage: 344.2+ KB\n"
     ]
    }
   ],
   "source": [
    "df.info()"
   ]
  },
  {
   "cell_type": "code",
   "execution_count": 740,
   "id": "5ba0aa2d",
   "metadata": {},
   "outputs": [
    {
     "data": {
      "text/plain": [
       "0    1347\n",
       "1     226\n",
       "Name: merchant_has_profile_picture, dtype: int64"
      ]
     },
     "execution_count": 740,
     "metadata": {},
     "output_type": "execute_result"
    }
   ],
   "source": [
    "df.merchant_has_profile_picture.value_counts() "
   ]
  },
  {
   "cell_type": "code",
   "execution_count": 741,
   "id": "c700c174",
   "metadata": {},
   "outputs": [],
   "source": [
    "df.drop('merchant_profile_picture' ,  inplace=True, axis=1) #drop the column"
   ]
  },
  {
   "cell_type": "markdown",
   "id": "7c70dff7",
   "metadata": {},
   "source": [
    "# IDs\n",
    "Columns with ids will mislead our algorithms so lets drop them"
   ]
  },
  {
   "cell_type": "code",
   "execution_count": 742,
   "id": "e198f8f3",
   "metadata": {},
   "outputs": [],
   "source": [
    "df.drop(['merchant_id' , 'id'],axis=1, inplace=True)     #drop the columns"
   ]
  },
  {
   "cell_type": "code",
   "execution_count": 743,
   "id": "e229de89",
   "metadata": {},
   "outputs": [
    {
     "data": {
      "text/plain": [
       "price                           0.044306\n",
       "retail_price                    0.039483\n",
       "units_sold                      0.030855\n",
       "uses_ad_boosts                 -0.011510\n",
       "rating                          1.000000\n",
       "rating_count                    0.024768\n",
       "badges_count                    0.087689\n",
       "product_variation_inventory    -0.007898\n",
       "shipping_option_price           0.040162\n",
       "countries_shipped_to            0.007227\n",
       "merchant_rating_count           0.017713\n",
       "merchant_rating                 0.072350\n",
       "merchant_has_profile_picture    0.054588\n",
       "discounted_price                0.034845\n",
       "Name: rating, dtype: float64"
      ]
     },
     "execution_count": 743,
     "metadata": {},
     "output_type": "execute_result"
    }
   ],
   "source": [
    "corr_df =df.corr().loc['rating']                         #this show corrollation of each column  to rating column\n",
    "corr_df"
   ]
  },
  {
   "cell_type": "code",
   "execution_count": 744,
   "id": "16b9a6a0",
   "metadata": {},
   "outputs": [],
   "source": [
    "# df.drop(['product_ariation_inventory' ,'uses_ad_boosts' , 'inventory_total' ] , inplace=True , axis=1)"
   ]
  },
  {
   "cell_type": "code",
   "execution_count": 745,
   "id": "6c88b8ae",
   "metadata": {
    "scrolled": false
   },
   "outputs": [
    {
     "data": {
      "text/plain": [
       "Index(['price', 'retail_price', 'units_sold', 'uses_ad_boosts', 'rating',\n",
       "       'rating_count', 'badges_count', 'badge_local_product',\n",
       "       'badge_product_quality', 'badge_fast_shipping', 'tags', 'product_color',\n",
       "       'product_variation_size_id', 'product_variation_inventory',\n",
       "       'shipping_option_name', 'shipping_option_price', 'countries_shipped_to',\n",
       "       'origin_country', 'merchant_title', 'merchant_name',\n",
       "       'merchant_info_subtitle', 'merchant_rating_count', 'merchant_rating',\n",
       "       'merchant_has_profile_picture', 'discounted_price'],\n",
       "      dtype='object')"
      ]
     },
     "execution_count": 745,
     "metadata": {},
     "output_type": "execute_result"
    }
   ],
   "source": [
    "df.columns                                                 #this cell show the dataset     "
   ]
  },
  {
   "cell_type": "markdown",
   "id": "517e14bb",
   "metadata": {},
   "source": [
    "# Origin Country, Shipping Names"
   ]
  },
  {
   "cell_type": "code",
   "execution_count": 746,
   "id": "8c00292b",
   "metadata": {},
   "outputs": [],
   "source": [
    "#in this cell i drop some columns \n",
    "#not important in make rating\n",
    "df.drop(['origin_country', 'shipping_option_name'  ,'merchant_name',  \n",
    "           'merchant_title' ,],axis=1, inplace=True) "
   ]
  },
  {
   "cell_type": "code",
   "execution_count": 747,
   "id": "a269f48b",
   "metadata": {},
   "outputs": [
    {
     "data": {
      "text/html": [
       "<div>\n",
       "<style scoped>\n",
       "    .dataframe tbody tr th:only-of-type {\n",
       "        vertical-align: middle;\n",
       "    }\n",
       "\n",
       "    .dataframe tbody tr th {\n",
       "        vertical-align: top;\n",
       "    }\n",
       "\n",
       "    .dataframe thead th {\n",
       "        text-align: right;\n",
       "    }\n",
       "</style>\n",
       "<table border=\"1\" class=\"dataframe\">\n",
       "  <thead>\n",
       "    <tr style=\"text-align: right;\">\n",
       "      <th></th>\n",
       "      <th>price</th>\n",
       "      <th>retail_price</th>\n",
       "      <th>units_sold</th>\n",
       "      <th>uses_ad_boosts</th>\n",
       "      <th>rating</th>\n",
       "      <th>rating_count</th>\n",
       "      <th>badges_count</th>\n",
       "      <th>badge_local_product</th>\n",
       "      <th>badge_product_quality</th>\n",
       "      <th>badge_fast_shipping</th>\n",
       "      <th>...</th>\n",
       "      <th>product_color</th>\n",
       "      <th>product_variation_size_id</th>\n",
       "      <th>product_variation_inventory</th>\n",
       "      <th>shipping_option_price</th>\n",
       "      <th>countries_shipped_to</th>\n",
       "      <th>merchant_info_subtitle</th>\n",
       "      <th>merchant_rating_count</th>\n",
       "      <th>merchant_rating</th>\n",
       "      <th>merchant_has_profile_picture</th>\n",
       "      <th>discounted_price</th>\n",
       "    </tr>\n",
       "  </thead>\n",
       "  <tbody>\n",
       "    <tr>\n",
       "      <th>0</th>\n",
       "      <td>8.00</td>\n",
       "      <td>7</td>\n",
       "      <td>10000</td>\n",
       "      <td>1</td>\n",
       "      <td>4</td>\n",
       "      <td>1670</td>\n",
       "      <td>0</td>\n",
       "      <td>0</td>\n",
       "      <td>0</td>\n",
       "      <td>0</td>\n",
       "      <td>...</td>\n",
       "      <td>yellow</td>\n",
       "      <td>M</td>\n",
       "      <td>50</td>\n",
       "      <td>3</td>\n",
       "      <td>30</td>\n",
       "      <td>88 % avis positifs (66,644 notes)</td>\n",
       "      <td>66644</td>\n",
       "      <td>4.137582</td>\n",
       "      <td>1</td>\n",
       "      <td>-1.00</td>\n",
       "    </tr>\n",
       "    <tr>\n",
       "      <th>1</th>\n",
       "      <td>8.00</td>\n",
       "      <td>7</td>\n",
       "      <td>1000</td>\n",
       "      <td>0</td>\n",
       "      <td>4</td>\n",
       "      <td>843</td>\n",
       "      <td>1</td>\n",
       "      <td>1</td>\n",
       "      <td>0</td>\n",
       "      <td>0</td>\n",
       "      <td>...</td>\n",
       "      <td>black</td>\n",
       "      <td>L</td>\n",
       "      <td>50</td>\n",
       "      <td>3</td>\n",
       "      <td>37</td>\n",
       "      <td>91 % avis positifs (25,752 notes)</td>\n",
       "      <td>25752</td>\n",
       "      <td>4.256873</td>\n",
       "      <td>0</td>\n",
       "      <td>-1.00</td>\n",
       "    </tr>\n",
       "    <tr>\n",
       "      <th>2</th>\n",
       "      <td>6.00</td>\n",
       "      <td>34</td>\n",
       "      <td>100</td>\n",
       "      <td>0</td>\n",
       "      <td>4</td>\n",
       "      <td>10</td>\n",
       "      <td>0</td>\n",
       "      <td>0</td>\n",
       "      <td>0</td>\n",
       "      <td>0</td>\n",
       "      <td>...</td>\n",
       "      <td>white</td>\n",
       "      <td>L</td>\n",
       "      <td>50</td>\n",
       "      <td>2</td>\n",
       "      <td>41</td>\n",
       "      <td>83 % avis positifs (3,897 notes)</td>\n",
       "      <td>3897</td>\n",
       "      <td>3.928920</td>\n",
       "      <td>0</td>\n",
       "      <td>28.00</td>\n",
       "    </tr>\n",
       "    <tr>\n",
       "      <th>3</th>\n",
       "      <td>4.67</td>\n",
       "      <td>4</td>\n",
       "      <td>100</td>\n",
       "      <td>1</td>\n",
       "      <td>3</td>\n",
       "      <td>82</td>\n",
       "      <td>0</td>\n",
       "      <td>0</td>\n",
       "      <td>0</td>\n",
       "      <td>0</td>\n",
       "      <td>...</td>\n",
       "      <td>lakeblue</td>\n",
       "      <td>XS</td>\n",
       "      <td>5</td>\n",
       "      <td>1</td>\n",
       "      <td>25</td>\n",
       "      <td>87 % avis positifs (7,497 notes)</td>\n",
       "      <td>7497</td>\n",
       "      <td>4.079365</td>\n",
       "      <td>0</td>\n",
       "      <td>-0.67</td>\n",
       "    </tr>\n",
       "    <tr>\n",
       "      <th>4</th>\n",
       "      <td>8.00</td>\n",
       "      <td>11</td>\n",
       "      <td>1000</td>\n",
       "      <td>0</td>\n",
       "      <td>4</td>\n",
       "      <td>127</td>\n",
       "      <td>0</td>\n",
       "      <td>0</td>\n",
       "      <td>0</td>\n",
       "      <td>0</td>\n",
       "      <td>...</td>\n",
       "      <td>apricot</td>\n",
       "      <td>S</td>\n",
       "      <td>50</td>\n",
       "      <td>3</td>\n",
       "      <td>15</td>\n",
       "      <td>91 % avis positifs (173 notes)</td>\n",
       "      <td>173</td>\n",
       "      <td>4.306358</td>\n",
       "      <td>0</td>\n",
       "      <td>3.00</td>\n",
       "    </tr>\n",
       "    <tr>\n",
       "      <th>...</th>\n",
       "      <td>...</td>\n",
       "      <td>...</td>\n",
       "      <td>...</td>\n",
       "      <td>...</td>\n",
       "      <td>...</td>\n",
       "      <td>...</td>\n",
       "      <td>...</td>\n",
       "      <td>...</td>\n",
       "      <td>...</td>\n",
       "      <td>...</td>\n",
       "      <td>...</td>\n",
       "      <td>...</td>\n",
       "      <td>...</td>\n",
       "      <td>...</td>\n",
       "      <td>...</td>\n",
       "      <td>...</td>\n",
       "      <td>...</td>\n",
       "      <td>...</td>\n",
       "      <td>...</td>\n",
       "      <td>...</td>\n",
       "      <td>...</td>\n",
       "    </tr>\n",
       "    <tr>\n",
       "      <th>1568</th>\n",
       "      <td>16.00</td>\n",
       "      <td>14</td>\n",
       "      <td>100</td>\n",
       "      <td>1</td>\n",
       "      <td>0</td>\n",
       "      <td>27</td>\n",
       "      <td>0</td>\n",
       "      <td>0</td>\n",
       "      <td>0</td>\n",
       "      <td>0</td>\n",
       "      <td>...</td>\n",
       "      <td>black</td>\n",
       "      <td>M</td>\n",
       "      <td>50</td>\n",
       "      <td>4</td>\n",
       "      <td>35</td>\n",
       "      <td>70 % avis positifs (572 notes)</td>\n",
       "      <td>572</td>\n",
       "      <td>3.367133</td>\n",
       "      <td>0</td>\n",
       "      <td>-2.00</td>\n",
       "    </tr>\n",
       "    <tr>\n",
       "      <th>1569</th>\n",
       "      <td>6.00</td>\n",
       "      <td>17</td>\n",
       "      <td>5000</td>\n",
       "      <td>1</td>\n",
       "      <td>0</td>\n",
       "      <td>817</td>\n",
       "      <td>0</td>\n",
       "      <td>0</td>\n",
       "      <td>0</td>\n",
       "      <td>0</td>\n",
       "      <td>...</td>\n",
       "      <td>blue</td>\n",
       "      <td>XXS</td>\n",
       "      <td>1</td>\n",
       "      <td>2</td>\n",
       "      <td>41</td>\n",
       "      <td>87 % avis positifs (50,864 notes)</td>\n",
       "      <td>50864</td>\n",
       "      <td>4.079644</td>\n",
       "      <td>1</td>\n",
       "      <td>11.00</td>\n",
       "    </tr>\n",
       "    <tr>\n",
       "      <th>1570</th>\n",
       "      <td>4.83</td>\n",
       "      <td>51</td>\n",
       "      <td>50</td>\n",
       "      <td>1</td>\n",
       "      <td>0</td>\n",
       "      <td>1</td>\n",
       "      <td>0</td>\n",
       "      <td>0</td>\n",
       "      <td>0</td>\n",
       "      <td>0</td>\n",
       "      <td>...</td>\n",
       "      <td>white</td>\n",
       "      <td>XS</td>\n",
       "      <td>3</td>\n",
       "      <td>1</td>\n",
       "      <td>39</td>\n",
       "      <td>85 % avis positifs (57 notes)</td>\n",
       "      <td>57</td>\n",
       "      <td>3.824561</td>\n",
       "      <td>0</td>\n",
       "      <td>46.17</td>\n",
       "    </tr>\n",
       "    <tr>\n",
       "      <th>1571</th>\n",
       "      <td>3.00</td>\n",
       "      <td>3</td>\n",
       "      <td>100</td>\n",
       "      <td>1</td>\n",
       "      <td>0</td>\n",
       "      <td>8</td>\n",
       "      <td>0</td>\n",
       "      <td>0</td>\n",
       "      <td>0</td>\n",
       "      <td>0</td>\n",
       "      <td>...</td>\n",
       "      <td>black</td>\n",
       "      <td>34</td>\n",
       "      <td>3</td>\n",
       "      <td>1</td>\n",
       "      <td>26</td>\n",
       "      <td>87 % avis positifs (1,086 notes)</td>\n",
       "      <td>1086</td>\n",
       "      <td>4.056169</td>\n",
       "      <td>0</td>\n",
       "      <td>0.00</td>\n",
       "    </tr>\n",
       "    <tr>\n",
       "      <th>1572</th>\n",
       "      <td>13.00</td>\n",
       "      <td>11</td>\n",
       "      <td>100</td>\n",
       "      <td>1</td>\n",
       "      <td>0</td>\n",
       "      <td>4</td>\n",
       "      <td>0</td>\n",
       "      <td>0</td>\n",
       "      <td>0</td>\n",
       "      <td>0</td>\n",
       "      <td>...</td>\n",
       "      <td>yellow</td>\n",
       "      <td>S</td>\n",
       "      <td>29</td>\n",
       "      <td>3</td>\n",
       "      <td>42</td>\n",
       "      <td>86% Feedback pozitiv (45,151 rating)</td>\n",
       "      <td>45151</td>\n",
       "      <td>4.032956</td>\n",
       "      <td>0</td>\n",
       "      <td>-2.00</td>\n",
       "    </tr>\n",
       "  </tbody>\n",
       "</table>\n",
       "<p>1573 rows × 21 columns</p>\n",
       "</div>"
      ],
      "text/plain": [
       "      price  retail_price  units_sold  uses_ad_boosts  rating  rating_count  \\\n",
       "0      8.00             7       10000               1       4          1670   \n",
       "1      8.00             7        1000               0       4           843   \n",
       "2      6.00            34         100               0       4            10   \n",
       "3      4.67             4         100               1       3            82   \n",
       "4      8.00            11        1000               0       4           127   \n",
       "...     ...           ...         ...             ...     ...           ...   \n",
       "1568  16.00            14         100               1       0            27   \n",
       "1569   6.00            17        5000               1       0           817   \n",
       "1570   4.83            51          50               1       0             1   \n",
       "1571   3.00             3         100               1       0             8   \n",
       "1572  13.00            11         100               1       0             4   \n",
       "\n",
       "      badges_count badge_local_product badge_product_quality  \\\n",
       "0                0                   0                     0   \n",
       "1                1                   1                     0   \n",
       "2                0                   0                     0   \n",
       "3                0                   0                     0   \n",
       "4                0                   0                     0   \n",
       "...            ...                 ...                   ...   \n",
       "1568             0                   0                     0   \n",
       "1569             0                   0                     0   \n",
       "1570             0                   0                     0   \n",
       "1571             0                   0                     0   \n",
       "1572             0                   0                     0   \n",
       "\n",
       "     badge_fast_shipping  ... product_color product_variation_size_id  \\\n",
       "0                      0  ...        yellow                         M   \n",
       "1                      0  ...         black                         L   \n",
       "2                      0  ...         white                         L   \n",
       "3                      0  ...      lakeblue                        XS   \n",
       "4                      0  ...       apricot                         S   \n",
       "...                  ...  ...           ...                       ...   \n",
       "1568                   0  ...         black                         M   \n",
       "1569                   0  ...          blue                       XXS   \n",
       "1570                   0  ...         white                        XS   \n",
       "1571                   0  ...         black                        34   \n",
       "1572                   0  ...        yellow                         S   \n",
       "\n",
       "     product_variation_inventory  shipping_option_price  countries_shipped_to  \\\n",
       "0                             50                      3                    30   \n",
       "1                             50                      3                    37   \n",
       "2                             50                      2                    41   \n",
       "3                              5                      1                    25   \n",
       "4                             50                      3                    15   \n",
       "...                          ...                    ...                   ...   \n",
       "1568                          50                      4                    35   \n",
       "1569                           1                      2                    41   \n",
       "1570                           3                      1                    39   \n",
       "1571                           3                      1                    26   \n",
       "1572                          29                      3                    42   \n",
       "\n",
       "                    merchant_info_subtitle merchant_rating_count  \\\n",
       "0        88 % avis positifs (66,644 notes)                 66644   \n",
       "1        91 % avis positifs (25,752 notes)                 25752   \n",
       "2         83 % avis positifs (3,897 notes)                  3897   \n",
       "3         87 % avis positifs (7,497 notes)                  7497   \n",
       "4           91 % avis positifs (173 notes)                   173   \n",
       "...                                    ...                   ...   \n",
       "1568        70 % avis positifs (572 notes)                   572   \n",
       "1569     87 % avis positifs (50,864 notes)                 50864   \n",
       "1570         85 % avis positifs (57 notes)                    57   \n",
       "1571      87 % avis positifs (1,086 notes)                  1086   \n",
       "1572  86% Feedback pozitiv (45,151 rating)                 45151   \n",
       "\n",
       "      merchant_rating  merchant_has_profile_picture  discounted_price  \n",
       "0            4.137582                             1             -1.00  \n",
       "1            4.256873                             0             -1.00  \n",
       "2            3.928920                             0             28.00  \n",
       "3            4.079365                             0             -0.67  \n",
       "4            4.306358                             0              3.00  \n",
       "...               ...                           ...               ...  \n",
       "1568         3.367133                             0             -2.00  \n",
       "1569         4.079644                             1             11.00  \n",
       "1570         3.824561                             0             46.17  \n",
       "1571         4.056169                             0              0.00  \n",
       "1572         4.032956                             0             -2.00  \n",
       "\n",
       "[1573 rows x 21 columns]"
      ]
     },
     "execution_count": 747,
     "metadata": {},
     "output_type": "execute_result"
    }
   ],
   "source": [
    "df"
   ]
  },
  {
   "cell_type": "markdown",
   "id": "28d5502f",
   "metadata": {},
   "source": [
    "# Tags\n",
    "  refine tags column    \n",
    "  tags set by the seller where customer can do search using it "
   ]
  },
  {
   "cell_type": "code",
   "execution_count": 748,
   "id": "5b1d28de",
   "metadata": {},
   "outputs": [
    {
     "data": {
      "text/plain": [
       "0    Summer,soildcolor,Plus Size,Tank,camisole,Tops...\n",
       "1    bathing suit,Plus Size,bikini set,sexy swimsui...\n",
       "2    Summer,Vest,momshirt,Get,summer t-shirts,funny...\n",
       "3    Summer,Shorts,pants,Beach,Plus Size,beachpant,...\n",
       "4    Summer,Floral print,women dresses,fashion dres...\n",
       "Name: tags, dtype: object"
      ]
     },
     "execution_count": 748,
     "metadata": {},
     "output_type": "execute_result"
    }
   ],
   "source": [
    "df['tags'].head()"
   ]
  },
  {
   "cell_type": "code",
   "execution_count": 749,
   "id": "bbd71566",
   "metadata": {},
   "outputs": [
    {
     "name": "stdout",
     "output_type": "stream",
     "text": [
      "0    summer,soildcolor,plus size,tank,camisole,tops...\n",
      "1    bathing suit,plus size,bikini set,sexy swimsui...\n",
      "2    summer,vest,momshirt,get,summer t-shirts,funny...\n",
      "3    summer,shorts,pants,beach,plus size,beachpant,...\n",
      "4    summer,floral print,women dresses,fashion dres...\n",
      "Name: tags, dtype: object\n"
     ]
    }
   ],
   "source": [
    "df['tags']=df['tags'].str.lower()                              #convert all values of this column to lowercase\n",
    "df['n_tags'] = df['tags'].apply(lambda x: len(x.split(\",\")))   #split the values of each row for tags column \n",
    "# df['n_tags'].head(50)                                        #and count each row value \n",
    "print(df['tags'].head())                                       #this to print tags after convert it to loowercase"
   ]
  },
  {
   "cell_type": "code",
   "execution_count": 750,
   "id": "25820cf5",
   "metadata": {},
   "outputs": [],
   "source": [
    "bag_of_words= ['summer',                                  #this is more words customer use it for seach \n",
    "                 \"women's fashion\",\n",
    "                 'fashion',\n",
    "                 'women',\n",
    "                 'casual',\n",
    "                 'plus size',\n",
    "                 'sleeveless',\n",
    "                 'dress',\n",
    "                 'shorts',\n",
    "                 'tops',\n",
    "                 'sexy',\n",
    "                 'beach',\n",
    "                 'sleeve',\n",
    "                 'short sleeves',\n",
    "                 'print',\n",
    "                 'shirt',\n",
    "                 'tank',\n",
    "                 'necks',\n",
    "                 'v-neck',\n",
    "                 'printed']\n"
   ]
  },
  {
   "cell_type": "markdown",
   "id": "3cd725cb",
   "metadata": {},
   "source": [
    "1 First replace uppercases with lowercases\n",
    "\n",
    "2 Create separate columns with top 20 tags 'bag_of_words'"
   ]
  },
  {
   "cell_type": "code",
   "execution_count": 751,
   "id": "a06eb6c4",
   "metadata": {},
   "outputs": [],
   "source": [
    "for word in bag_of_words:\n",
    "    # First check if str contains the word\n",
    "    #If yes converto to 1 , if no convert to 0\n",
    "    # Again convert 1 and 0 into strings for dummy variables later.\n",
    "    df[\"tag_\"+word] = df.tags.str.lower().str.contains(word).astype(int).astype(str)"
   ]
  },
  {
   "cell_type": "code",
   "execution_count": 752,
   "id": "21316cbc",
   "metadata": {},
   "outputs": [],
   "source": [
    "df.drop(['tags'],axis=1,inplace=True)  #now we can drop tags column"
   ]
  },
  {
   "cell_type": "code",
   "execution_count": 753,
   "id": "1d15e1c7",
   "metadata": {},
   "outputs": [
    {
     "data": {
      "text/plain": [
       "Index(['price', 'retail_price', 'units_sold', 'uses_ad_boosts', 'rating',\n",
       "       'rating_count', 'badges_count', 'badge_local_product',\n",
       "       'badge_product_quality', 'badge_fast_shipping', 'product_color',\n",
       "       'product_variation_size_id', 'product_variation_inventory',\n",
       "       'shipping_option_price', 'countries_shipped_to',\n",
       "       'merchant_info_subtitle', 'merchant_rating_count', 'merchant_rating',\n",
       "       'merchant_has_profile_picture', 'discounted_price', 'n_tags',\n",
       "       'tag_summer', 'tag_women's fashion', 'tag_fashion', 'tag_women',\n",
       "       'tag_casual', 'tag_plus size', 'tag_sleeveless', 'tag_dress',\n",
       "       'tag_shorts', 'tag_tops', 'tag_sexy', 'tag_beach', 'tag_sleeve',\n",
       "       'tag_short sleeves', 'tag_print', 'tag_shirt', 'tag_tank', 'tag_necks',\n",
       "       'tag_v-neck', 'tag_printed'],\n",
       "      dtype='object')"
      ]
     },
     "execution_count": 753,
     "metadata": {},
     "output_type": "execute_result"
    }
   ],
   "source": [
    "df.head()\n",
    "df.columns"
   ]
  },
  {
   "cell_type": "markdown",
   "id": "afdb2ea7",
   "metadata": {},
   "source": [
    "# Product Color\n"
   ]
  },
  {
   "cell_type": "code",
   "execution_count": 754,
   "id": "04d61fc6",
   "metadata": {},
   "outputs": [
    {
     "name": "stdout",
     "output_type": "stream",
     "text": [
      "['yellow' 'black' 'white' 'lakeblue' 'apricot' 'brown' 'winered' 'blue'\n",
      " 'red' 'navyblue' 'green' 'khaki' 'White' 'white & green' 'multicolor'\n",
      " 'lightpink' 'pink' 'RED' 'armygreen' 'lightblue' nan 'coffee' 'grey'\n",
      " 'skyblue' 'watermelonred' 'pink & black' 'whitefloral' 'purple' 'navy'\n",
      " 'pink & white' 'rosered' 'orange' 'Black' 'mintgreen' 'leopardprint'\n",
      " 'gray' 'navy blue' 'star' 'rose' 'lightyellow' 'camouflage'\n",
      " 'black & yellow' 'whitestripe' 'navyblue & white' 'black & blue'\n",
      " 'lightred' 'violet' 'gold' 'black & green' 'white & black' 'burgundy'\n",
      " 'black & white' 'lightgrey' 'coolblack' 'lightgreen' 'beige' 'darkblue'\n",
      " 'darkgreen' 'silver' 'wine red' 'Army green' 'pink & blue' 'rainbow'\n",
      " 'claret' 'floral' 'brown & yellow' 'light green' 'Pink' 'blue & pink'\n",
      " 'dustypink' 'camel' 'orange-red' 'rosegold' 'ivory' 'fluorescentgreen'\n",
      " 'winered & yellow' 'offwhite' 'lightgray' 'wine' 'army' 'applegreen'\n",
      " 'nude' 'pink & grey' 'Rose red' 'denimblue' 'blackwhite' 'Blue' 'leopard'\n",
      " 'coralred' 'tan' 'orange & camouflage' 'army green' 'offblack' 'jasper'\n",
      " 'white & red' 'red & blue' 'greysnakeskinprint' 'lightpurple'\n",
      " 'black & stripe' 'lightkhaki' 'prussianblue' 'gray & white']\n",
      "black               302\n",
      "white               254\n",
      "yellow              105\n",
      "blue                 99\n",
      "pink                 99\n",
      "                   ... \n",
      "navyblue & white      1\n",
      "winered & yellow      1\n",
      "offwhite              1\n",
      "lightgray             1\n",
      "gray & white          1\n",
      "Name: product_color, Length: 101, dtype: int64\n"
     ]
    }
   ],
   "source": [
    "print(df['product_color'].unique())  #from this method we determine the values of this column\n",
    "print(df['product_color'].value_counts())"
   ]
  },
  {
   "cell_type": "code",
   "execution_count": 755,
   "id": "7b2a62bf",
   "metadata": {},
   "outputs": [
    {
     "data": {
      "text/plain": [
       "<AxesSubplot:title={'center':'Distribution of Products by Color'}, xlabel='Color', ylabel='Percentage of Products'>"
      ]
     },
     "execution_count": 755,
     "metadata": {},
     "output_type": "execute_result"
    },
    {
     "data": {
      "image/png": "[encoded data removed]",
      "text/plain": [
       "<Figure size 432x288 with 1 Axes>"
      ]
     },
     "metadata": {
      "needs_background": "light"
     },
     "output_type": "display_data"
    }
   ],
   "source": [
    "#plot number each color\n",
    "plt.title('Distribution of Products by Color')   \n",
    "plt.ylabel('Percentage of Products')\n",
    "plt.xlabel('Color')\n",
    "df['product_color'].value_counts(normalize=True).plot(kind='bar')"
   ]
  },
  {
   "cell_type": "code",
   "execution_count": 756,
   "id": "cc4419a6",
   "metadata": {},
   "outputs": [
    {
     "name": "stdout",
     "output_type": "stream",
     "text": [
      "['yellow' 'black' 'white' 'lakeblue' 'apricot' 'brown' 'winered' 'blue'\n",
      " 'red' 'navyblue' 'green' 'khaki' 'white & green' 'multicolor' 'lightpink'\n",
      " 'pink' 'armygreen' 'lightblue' 'coffee' 'grey' 'skyblue' 'watermelonred'\n",
      " 'pink & black' 'whitefloral' 'purple' 'navy' 'pink & white' 'rosered'\n",
      " 'orange' 'mintgreen' 'leopardprint' 'navy blue' 'star' 'rose'\n",
      " 'lightyellow' 'camouflage' 'black & yellow' 'whitestripe'\n",
      " 'navyblue & white' 'black & blue' 'lightred' 'violet' 'gold'\n",
      " 'black & green' 'white & black' 'burgundy' 'black & white' 'lightgrey'\n",
      " 'coolblack' 'lightgreen' 'beige' 'darkblue' 'darkgreen' 'silver'\n",
      " 'wine red' 'army green' 'pink & blue' 'rainbow' 'claret' 'floral'\n",
      " 'brown & yellow' 'light green' 'blue & pink' 'dustypink' 'camel'\n",
      " 'orange-red' 'rosegold' 'ivory' 'fluorescentgreen' 'winered & yellow'\n",
      " 'offwhite' 'lightgray' 'wine' 'army' 'applegreen' 'nude' 'pink & grey'\n",
      " 'rose red' 'denimblue' 'blackwhite' 'leopard' 'coralred' 'tan'\n",
      " 'orange & camouflage' 'offblack' 'jasper' 'white & red' 'red & blue'\n",
      " 'greysnakeskinprint' 'lightpurple' 'black & stripe' 'lightkhaki'\n",
      " 'prussianblue' 'gray & white']\n"
     ]
    }
   ],
   "source": [
    "#on the color column we will make some updates \n",
    "df['product_color']=df['product_color'].str.lower()  #convert all values of this column to lowercase\n",
    "\n",
    "df['product_color'].replace('gray', 'grey', inplace=True)  #convet the value of gray to grey \n",
    "df['product_color'].replace(np.nan, 'black', inplace=True) #to fill the nan values by the most frequent color\n",
    "\n",
    "# df['product_color'].replace('RED', 'red', inplace=True)\n",
    "# df['product_color'].replace('White', 'white', inplace=True)\n",
    "# df['product_color'].replace('Blue', 'blue', inplace=True)\n",
    "\n",
    "print(df['product_color'].unique()) \n"
   ]
  },
  {
   "cell_type": "code",
   "execution_count": 757,
   "id": "ebfe6e45",
   "metadata": {},
   "outputs": [],
   "source": [
    "# df['product_color']=df['product_color'].str.lower()  #convert all values of this column to lowercase\n",
    "# color_to_change = {                                               #make dictionary from colors\n",
    "# 'coolblack': 'black','offwhite': 'white', \n",
    "# 'bluue': 'blue',      'prussianblue': 'blue',\n",
    "# 'navyblue': 'blue',   'navy blue': 'blue',\n",
    "# 'lightblue': 'blue',  'skyblue': 'blue',\n",
    "# 'darkblue': 'blue',   'navy' : 'blue',\n",
    "# 'bluee': 'blue',      'bluue': 'blue',\n",
    "# 'denimblue': 'blue',  'lakeblue': 'blue', \n",
    "# 'gold': 'yellow',     'winered': 'red',\n",
    "# 'winered': 'red',     'lightyellow': 'yellow',\n",
    "# 'rosered': 'red',     'watermelonred': 'red',\n",
    "# 'wine red': 'red',    'rose': 'red',\n",
    "# 'orange-red': 'red',  'Rose red': 'red',\n",
    "# 'wine': 'red',        'coralred': 'red',\n",
    "# 'burgundy': 'red',    'lightred': 'red', \n",
    "# 'lightpink': 'pink',  'Pink': 'pink',\n",
    "# 'dustypink': 'pink',  'armygreen':'green',\n",
    "# 'khaki': 'green',     'lightgreen': 'green',\n",
    "# 'army green':'green', 'fluorescentgreen':'green',\n",
    "# 'applegreen':'green', 'Army green': 'green',\n",
    "# 'mintgreen': 'green', 'army': 'green', \n",
    "# 'lightkhaki':'green', 'darkgreen': 'green', \n",
    "# 'light green':'green','lightkhaki': 'green', \n",
    "# 'lightgray': 'grey',  'apricot': 'orange',\n",
    "# 'violet': 'purple',   'lightpurple': 'purple', \n",
    "# 'gray': 'grey',       'silver': 'grey',\n",
    "# 'coffee': 'brown',    'blackwhite': 'dual', \n",
    "#  np.nan: 'black'}"
   ]
  },
  {
   "cell_type": "code",
   "execution_count": 758,
   "id": "2d945aeb",
   "metadata": {},
   "outputs": [],
   "source": [
    "# def update_color(color):         #in this cell we check and return any color contain ' & '\n",
    "#     if color in color_to_change: \n",
    "#         return color_to_change[color]\n",
    "#     elif color in color_to_change.values(): \n",
    "#         return color\n",
    "#     elif ' & ' in color: \n",
    "#         return 'dual'\n",
    "#     else:\n",
    "#         return 'black'\n",
    "# df['product_color'] = df.product_color.apply(update_color)"
   ]
  },
  {
   "cell_type": "code",
   "execution_count": 759,
   "id": "ca8a3b24",
   "metadata": {},
   "outputs": [
    {
     "data": {
      "text/plain": [
       "black               346\n",
       "white               257\n",
       "yellow              105\n",
       "pink                101\n",
       "blue                100\n",
       "                   ... \n",
       "rosegold              1\n",
       "ivory                 1\n",
       "winered & yellow      1\n",
       "offwhite              1\n",
       "gray & white          1\n",
       "Name: product_color, Length: 94, dtype: int64"
      ]
     },
     "execution_count": 759,
     "metadata": {},
     "output_type": "execute_result"
    }
   ],
   "source": [
    "pd.options.display.max_rows = 50\n",
    "df['product_color'].value_counts()"
   ]
  },
  {
   "cell_type": "code",
   "execution_count": 760,
   "id": "97c649ee",
   "metadata": {},
   "outputs": [
    {
     "data": {
      "image/png": "[encoded data removed]",
      "text/plain": [
       "<Figure size 1080x864 with 1 Axes>"
      ]
     },
     "metadata": {
      "needs_background": "light"
     },
     "output_type": "display_data"
    }
   ],
   "source": [
    "import seaborn as sns\n",
    "plt.figure(figsize=(15, 12))                   #this show the most frequency colors                    \n",
    "ax = sns.countplot(x = 'product_color',\n",
    "                   order = df['product_color'].value_counts().index,\n",
    "                   palette= \"Set2\",\n",
    "                   data=df)\n",
    "ax.set(xlabel='Color', ylabel='Count')\n",
    "plt.xticks(rotation=45, ha='right')\n",
    "plt.show()"
   ]
  },
  {
   "cell_type": "code",
   "execution_count": 761,
   "id": "4bc33db3",
   "metadata": {},
   "outputs": [],
   "source": [
    "df.drop('product_color' , inplace=True , axis=1)   #dropped the color column  by using it or not, no improve in the model    "
   ]
  },
  {
   "cell_type": "code",
   "execution_count": 762,
   "id": "d73f81cc",
   "metadata": {},
   "outputs": [
    {
     "data": {
      "text/plain": [
       "price                           0\n",
       "retail_price                    0\n",
       "units_sold                      0\n",
       "uses_ad_boosts                  0\n",
       "rating                          0\n",
       "rating_count                    0\n",
       "badges_count                    0\n",
       "badge_local_product             0\n",
       "badge_product_quality           0\n",
       "badge_fast_shipping             0\n",
       "product_variation_size_id       0\n",
       "product_variation_inventory     0\n",
       "shipping_option_price           0\n",
       "countries_shipped_to            0\n",
       "merchant_info_subtitle          1\n",
       "merchant_rating_count           0\n",
       "merchant_rating                 0\n",
       "merchant_has_profile_picture    0\n",
       "discounted_price                0\n",
       "n_tags                          0\n",
       "tag_summer                      0\n",
       "tag_women's fashion             0\n",
       "tag_fashion                     0\n",
       "tag_women                       0\n",
       "tag_casual                      0\n",
       "tag_plus size                   0\n",
       "tag_sleeveless                  0\n",
       "tag_dress                       0\n",
       "tag_shorts                      0\n",
       "tag_tops                        0\n",
       "tag_sexy                        0\n",
       "tag_beach                       0\n",
       "tag_sleeve                      0\n",
       "tag_short sleeves               0\n",
       "tag_print                       0\n",
       "tag_shirt                       0\n",
       "tag_tank                        0\n",
       "tag_necks                       0\n",
       "tag_v-neck                      0\n",
       "tag_printed                     0\n",
       "dtype: int64"
      ]
     },
     "execution_count": 762,
     "metadata": {},
     "output_type": "execute_result"
    }
   ],
   "source": [
    "df.isnull().sum()                 #this for check if the data has any null values"
   ]
  },
  {
   "cell_type": "code",
   "execution_count": 763,
   "id": "0236979d",
   "metadata": {},
   "outputs": [],
   "source": [
    "# df.drop('discounted_price', axis=1, inplace=True)"
   ]
  },
  {
   "cell_type": "markdown",
   "id": "81ed7460",
   "metadata": {},
   "source": [
    "# Check product_variation_size_id coloumn and make some updates on it "
   ]
  },
  {
   "cell_type": "code",
   "execution_count": 764,
   "id": "afdca518",
   "metadata": {},
   "outputs": [
    {
     "name": "stdout",
     "output_type": "stream",
     "text": [
      "S                647\n",
      "XS               357\n",
      "M                204\n",
      "XXS              102\n",
      "L                 50\n",
      "                ... \n",
      "2                  1\n",
      "20PCS-10PAIRS      1\n",
      "Size-5XL           1\n",
      "Size/S             1\n",
      "36                 1\n",
      "Name: product_variation_size_id, Length: 106, dtype: int64\n"
     ]
    }
   ],
   "source": [
    "#show the values count of Products size \n",
    "print(df['product_variation_size_id'].value_counts()) "
   ]
  },
  {
   "cell_type": "code",
   "execution_count": 765,
   "id": "db07afb2",
   "metadata": {},
   "outputs": [
    {
     "data": {
      "text/plain": [
       "array(['M', 'L', 'XS', 'S', 'XL', '26(Waist 72cm 28inch)', 'S.',\n",
       "       'S(bust 88cm)', 'XXS', 's', '29', 'choose a size', 'XXXS',\n",
       "       'Base Coat', 'Size M', 'XXL', 'M.', 'XS.',\n",
       "       '100 x 100cm(39.3 x 39.3inch)', '2pcs', '4XL', '1', '25-S',\n",
       "       'Size-XXS', '5PAIRS', '35', 'Pack of 1', 'Size S', 'Size-S', '6XL',\n",
       "       '25', 'S/M(child)', '60', 'Size-XS', 'S (waist58-62cm)',\n",
       "       'SIZE XXS', '10 ml', 'X   L', 'Women Size 36', '04-3XL',\n",
       "       'Size -XXS', '1 pc.', 'Floating Chair for Kid', 'S Pink', '34',\n",
       "       'US-S', 'Size XXS', 'pants-S', 'XXXXL', 'SIZE-XXS', 'SIZE XS',\n",
       "       '1pc', 'Size S.', '100 cm', 'S..', 'Round', '4-5 Years', '5', '33',\n",
       "       '30 cm', '2', 'XXXXXL', '20PCS-10PAIRS', '2XL', 'Size-5XL',\n",
       "       'Size4XL', 'One Size', 'size S', 'Size/S', 'B', 'SizeL', '20pcs',\n",
       "       '1 PC - XL', 'Suit-S', 'Base & Top & Matte Top Coat',\n",
       "       'Baby Float Boat', '1m by 3m', 'SIZE S', 'White', '40 cm', '5XL',\n",
       "       '10pcs', 'H01', 'S(Pink & Black)', '32/L', 'daughter 24M', 'XXXL',\n",
       "       '4', '3XL', '80 X 200 CM', 'EU 35', '100pcs', 'first  generation',\n",
       "       'Size--S', 'SIZE-4XL', 'L.', 'Women Size 37', 'S Diameter 30cm',\n",
       "       'Size-L', 'AU plug Low quality', '3 layered anklet', '17',\n",
       "       'US 6.5 (EU 37)', 'US5.5-EU35', 'EU39(US8)', '36'], dtype=object)"
      ]
     },
     "execution_count": 765,
     "metadata": {},
     "output_type": "execute_result"
    }
   ],
   "source": [
    "#show the the values of the product size \"different size\"\n",
    "df['product_variation_size_id'].unique()               "
   ]
  },
  {
   "cell_type": "code",
   "execution_count": 766,
   "id": "77ed7659",
   "metadata": {},
   "outputs": [],
   "source": [
    "# df['product_variation_size_id'].astype(str)  #convert the values to string\n",
    "# df['product_variation_size_id'] = str(df['product_variation_size_id'])\n",
    "# type(df['product_variation_size_id'])"
   ]
  },
  {
   "cell_type": "code",
   "execution_count": 767,
   "id": "23559fa0",
   "metadata": {},
   "outputs": [],
   "source": [
    "#in below cell i replace some of sizes to main sizes as below "
   ]
  },
  {
   "cell_type": "code",
   "execution_count": 768,
   "id": "296bba6b",
   "metadata": {},
   "outputs": [],
   "source": [
    "df['product_variation_size_id'].replace(['S', 'S.', 's', 'Size S', 'Size-S', 'Size S.', 'Suit-S', \n",
    "                                         'size S','S Pink', 'pants-S', 'US-S', 'SIZE S', 'S (waist58-62cm)', \n",
    "                                         'Size--S', '25-S', 'Size/S', 'S Diameter 30cm', 'S..',\n",
    "                                         'S(Pink & Black)'], 'S', inplace=True)\n",
    "df['product_variation_size_id'].replace(['XS', 'XS.', 'SIZE XS', 'Size-XS'], 'XS', inplace=True)\n",
    "df['product_variation_size_id'].replace(['XXS', 'XXXS', 'SIZE-XXS', 'Size -XXS', 'Size XXS',\n",
    "                                         'Size-XXS', 'SIZE XXS'], 'XXS+', inplace=True)\n",
    "df['product_variation_size_id'].replace(['M', 'M.', 'Size M'], 'M', inplace=True)\n",
    "df['product_variation_size_id'].replace(['L', 'SizeL', '32/L', 'L.', 'Size-L'], 'L', inplace=True)\n",
    "df['product_variation_size_id'].replace(['XL', '2XL', '1 PC - XL', 'X   L'], 'XL', inplace=True)\n",
    "df['product_variation_size_id'].replace(['XXL', '4XL', '2XL', 'Size4XL', '3XL', \n",
    "                                         'XXXXXL', '1 PC - XL', 'SIZE-4XL', '04-3XL', \n",
    "                                         'Size-5XL', 'XXXXL', '5XL', 'XXXL'], 'XXL+', inplace=True)\n",
    "size_val_counts = df['product_variation_size_id'].value_counts()\n",
    "# Select the values where the count is less than 5 \n",
    "to_change = size_val_counts[size_val_counts <= 5].index\n",
    "df.loc[df['product_variation_size_id'].isin(to_change), 'product_variation_size_id'] = \"Other\"\n",
    "df['product_variation_size_id'] = df['product_variation_size_id'].replace(np.nan, \"Other\")"
   ]
  },
  {
   "cell_type": "code",
   "execution_count": 769,
   "id": "ebcb1729",
   "metadata": {},
   "outputs": [
    {
     "data": {
      "text/plain": [
       "S        696\n",
       "XS       370\n",
       "M        210\n",
       "XXS+     115\n",
       "Other     69\n",
       "L         56\n",
       "XXL+      34\n",
       "XL        23\n",
       "Name: product_variation_size_id, dtype: int64"
      ]
     },
     "execution_count": 769,
     "metadata": {},
     "output_type": "execute_result"
    }
   ],
   "source": [
    "df['product_variation_size_id'].value_counts()"
   ]
  },
  {
   "cell_type": "code",
   "execution_count": 770,
   "id": "28a40517",
   "metadata": {},
   "outputs": [
    {
     "data": {
      "image/png": "[encoded data removed]",
      "text/plain": [
       "<Figure size 720x432 with 1 Axes>"
      ]
     },
     "metadata": {
      "needs_background": "light"
     },
     "output_type": "display_data"
    }
   ],
   "source": [
    "#this show the most repeated sizes and the number of repeats\n",
    "plt.figure(figsize=(10, 6))                               \n",
    "ax = sns.countplot(x = 'product_variation_size_id',\n",
    "                   order = df['product_variation_size_id'].value_counts().index,\n",
    "                   palette= \"Set2\",\n",
    "                   data=df)\n",
    "ax.set(xlabel='Size', ylabel='Count')\n",
    "\n",
    "plt.show()"
   ]
  },
  {
   "cell_type": "code",
   "execution_count": 771,
   "id": "7e0efc3a",
   "metadata": {},
   "outputs": [
    {
     "data": {
      "text/html": [
       "<div>\n",
       "<style scoped>\n",
       "    .dataframe tbody tr th:only-of-type {\n",
       "        vertical-align: middle;\n",
       "    }\n",
       "\n",
       "    .dataframe tbody tr th {\n",
       "        vertical-align: top;\n",
       "    }\n",
       "\n",
       "    .dataframe thead th {\n",
       "        text-align: right;\n",
       "    }\n",
       "</style>\n",
       "<table border=\"1\" class=\"dataframe\">\n",
       "  <thead>\n",
       "    <tr style=\"text-align: right;\">\n",
       "      <th></th>\n",
       "      <th>price</th>\n",
       "      <th>retail_price</th>\n",
       "      <th>units_sold</th>\n",
       "      <th>uses_ad_boosts</th>\n",
       "      <th>rating</th>\n",
       "      <th>rating_count</th>\n",
       "      <th>badges_count</th>\n",
       "      <th>badge_local_product</th>\n",
       "      <th>badge_product_quality</th>\n",
       "      <th>badge_fast_shipping</th>\n",
       "      <th>...</th>\n",
       "      <th>tag_sexy</th>\n",
       "      <th>tag_beach</th>\n",
       "      <th>tag_sleeve</th>\n",
       "      <th>tag_short sleeves</th>\n",
       "      <th>tag_print</th>\n",
       "      <th>tag_shirt</th>\n",
       "      <th>tag_tank</th>\n",
       "      <th>tag_necks</th>\n",
       "      <th>tag_v-neck</th>\n",
       "      <th>tag_printed</th>\n",
       "    </tr>\n",
       "  </thead>\n",
       "  <tbody>\n",
       "    <tr>\n",
       "      <th>0</th>\n",
       "      <td>8.00</td>\n",
       "      <td>7</td>\n",
       "      <td>10000</td>\n",
       "      <td>1</td>\n",
       "      <td>4</td>\n",
       "      <td>1670</td>\n",
       "      <td>0</td>\n",
       "      <td>0</td>\n",
       "      <td>0</td>\n",
       "      <td>0</td>\n",
       "      <td>...</td>\n",
       "      <td>0</td>\n",
       "      <td>0</td>\n",
       "      <td>1</td>\n",
       "      <td>0</td>\n",
       "      <td>0</td>\n",
       "      <td>0</td>\n",
       "      <td>1</td>\n",
       "      <td>0</td>\n",
       "      <td>0</td>\n",
       "      <td>0</td>\n",
       "    </tr>\n",
       "    <tr>\n",
       "      <th>1</th>\n",
       "      <td>8.00</td>\n",
       "      <td>7</td>\n",
       "      <td>1000</td>\n",
       "      <td>0</td>\n",
       "      <td>4</td>\n",
       "      <td>843</td>\n",
       "      <td>1</td>\n",
       "      <td>1</td>\n",
       "      <td>0</td>\n",
       "      <td>0</td>\n",
       "      <td>...</td>\n",
       "      <td>1</td>\n",
       "      <td>1</td>\n",
       "      <td>0</td>\n",
       "      <td>0</td>\n",
       "      <td>0</td>\n",
       "      <td>0</td>\n",
       "      <td>0</td>\n",
       "      <td>0</td>\n",
       "      <td>0</td>\n",
       "      <td>0</td>\n",
       "    </tr>\n",
       "    <tr>\n",
       "      <th>2</th>\n",
       "      <td>6.00</td>\n",
       "      <td>34</td>\n",
       "      <td>100</td>\n",
       "      <td>0</td>\n",
       "      <td>4</td>\n",
       "      <td>10</td>\n",
       "      <td>0</td>\n",
       "      <td>0</td>\n",
       "      <td>0</td>\n",
       "      <td>0</td>\n",
       "      <td>...</td>\n",
       "      <td>0</td>\n",
       "      <td>0</td>\n",
       "      <td>1</td>\n",
       "      <td>0</td>\n",
       "      <td>0</td>\n",
       "      <td>1</td>\n",
       "      <td>1</td>\n",
       "      <td>0</td>\n",
       "      <td>0</td>\n",
       "      <td>0</td>\n",
       "    </tr>\n",
       "    <tr>\n",
       "      <th>3</th>\n",
       "      <td>4.67</td>\n",
       "      <td>4</td>\n",
       "      <td>100</td>\n",
       "      <td>1</td>\n",
       "      <td>3</td>\n",
       "      <td>82</td>\n",
       "      <td>0</td>\n",
       "      <td>0</td>\n",
       "      <td>0</td>\n",
       "      <td>0</td>\n",
       "      <td>...</td>\n",
       "      <td>0</td>\n",
       "      <td>1</td>\n",
       "      <td>0</td>\n",
       "      <td>0</td>\n",
       "      <td>0</td>\n",
       "      <td>0</td>\n",
       "      <td>0</td>\n",
       "      <td>0</td>\n",
       "      <td>0</td>\n",
       "      <td>0</td>\n",
       "    </tr>\n",
       "    <tr>\n",
       "      <th>4</th>\n",
       "      <td>8.00</td>\n",
       "      <td>11</td>\n",
       "      <td>1000</td>\n",
       "      <td>0</td>\n",
       "      <td>4</td>\n",
       "      <td>127</td>\n",
       "      <td>0</td>\n",
       "      <td>0</td>\n",
       "      <td>0</td>\n",
       "      <td>0</td>\n",
       "      <td>...</td>\n",
       "      <td>0</td>\n",
       "      <td>1</td>\n",
       "      <td>1</td>\n",
       "      <td>0</td>\n",
       "      <td>1</td>\n",
       "      <td>0</td>\n",
       "      <td>0</td>\n",
       "      <td>0</td>\n",
       "      <td>1</td>\n",
       "      <td>0</td>\n",
       "    </tr>\n",
       "  </tbody>\n",
       "</table>\n",
       "<p>5 rows × 40 columns</p>\n",
       "</div>"
      ],
      "text/plain": [
       "   price  retail_price  units_sold  uses_ad_boosts  rating  rating_count  \\\n",
       "0   8.00             7       10000               1       4          1670   \n",
       "1   8.00             7        1000               0       4           843   \n",
       "2   6.00            34         100               0       4            10   \n",
       "3   4.67             4         100               1       3            82   \n",
       "4   8.00            11        1000               0       4           127   \n",
       "\n",
       "   badges_count badge_local_product badge_product_quality badge_fast_shipping  \\\n",
       "0             0                   0                     0                   0   \n",
       "1             1                   1                     0                   0   \n",
       "2             0                   0                     0                   0   \n",
       "3             0                   0                     0                   0   \n",
       "4             0                   0                     0                   0   \n",
       "\n",
       "   ... tag_sexy  tag_beach  tag_sleeve  tag_short sleeves tag_print  \\\n",
       "0  ...        0          0           1                  0         0   \n",
       "1  ...        1          1           0                  0         0   \n",
       "2  ...        0          0           1                  0         0   \n",
       "3  ...        0          1           0                  0         0   \n",
       "4  ...        0          1           1                  0         1   \n",
       "\n",
       "   tag_shirt  tag_tank  tag_necks  tag_v-neck  tag_printed  \n",
       "0          0         1          0           0            0  \n",
       "1          0         0          0           0            0  \n",
       "2          1         1          0           0            0  \n",
       "3          0         0          0           0            0  \n",
       "4          0         0          0           1            0  \n",
       "\n",
       "[5 rows x 40 columns]"
      ]
     },
     "execution_count": 771,
     "metadata": {},
     "output_type": "execute_result"
    }
   ],
   "source": [
    "df.head()                      #show the data after make some preprocessing on it "
   ]
  },
  {
   "cell_type": "markdown",
   "id": "26d8b5b4",
   "metadata": {},
   "source": [
    "# here we convert the categorical data to numeric values\n"
   ]
  },
  {
   "cell_type": "code",
   "execution_count": 772,
   "id": "07c3f53c",
   "metadata": {},
   "outputs": [],
   "source": [
    "# df = pd.get_dummies(df, columns=['product_color'], prefix='color_', drop_first=True)\n",
    "df = pd.get_dummies(df, columns=['product_variation_size_id'], prefix='size_', drop_first=True)"
   ]
  },
  {
   "cell_type": "code",
   "execution_count": 773,
   "id": "3228dc12",
   "metadata": {},
   "outputs": [
    {
     "data": {
      "text/html": [
       "<div>\n",
       "<style scoped>\n",
       "    .dataframe tbody tr th:only-of-type {\n",
       "        vertical-align: middle;\n",
       "    }\n",
       "\n",
       "    .dataframe tbody tr th {\n",
       "        vertical-align: top;\n",
       "    }\n",
       "\n",
       "    .dataframe thead th {\n",
       "        text-align: right;\n",
       "    }\n",
       "</style>\n",
       "<table border=\"1\" class=\"dataframe\">\n",
       "  <thead>\n",
       "    <tr style=\"text-align: right;\">\n",
       "      <th></th>\n",
       "      <th>price</th>\n",
       "      <th>retail_price</th>\n",
       "      <th>units_sold</th>\n",
       "      <th>uses_ad_boosts</th>\n",
       "      <th>rating</th>\n",
       "      <th>rating_count</th>\n",
       "      <th>badges_count</th>\n",
       "      <th>badge_local_product</th>\n",
       "      <th>badge_product_quality</th>\n",
       "      <th>badge_fast_shipping</th>\n",
       "      <th>...</th>\n",
       "      <th>tag_necks</th>\n",
       "      <th>tag_v-neck</th>\n",
       "      <th>tag_printed</th>\n",
       "      <th>size__M</th>\n",
       "      <th>size__Other</th>\n",
       "      <th>size__S</th>\n",
       "      <th>size__XL</th>\n",
       "      <th>size__XS</th>\n",
       "      <th>size__XXL+</th>\n",
       "      <th>size__XXS+</th>\n",
       "    </tr>\n",
       "  </thead>\n",
       "  <tbody>\n",
       "    <tr>\n",
       "      <th>0</th>\n",
       "      <td>8.00</td>\n",
       "      <td>7</td>\n",
       "      <td>10000</td>\n",
       "      <td>1</td>\n",
       "      <td>4</td>\n",
       "      <td>1670</td>\n",
       "      <td>0</td>\n",
       "      <td>0</td>\n",
       "      <td>0</td>\n",
       "      <td>0</td>\n",
       "      <td>...</td>\n",
       "      <td>0</td>\n",
       "      <td>0</td>\n",
       "      <td>0</td>\n",
       "      <td>1</td>\n",
       "      <td>0</td>\n",
       "      <td>0</td>\n",
       "      <td>0</td>\n",
       "      <td>0</td>\n",
       "      <td>0</td>\n",
       "      <td>0</td>\n",
       "    </tr>\n",
       "    <tr>\n",
       "      <th>1</th>\n",
       "      <td>8.00</td>\n",
       "      <td>7</td>\n",
       "      <td>1000</td>\n",
       "      <td>0</td>\n",
       "      <td>4</td>\n",
       "      <td>843</td>\n",
       "      <td>1</td>\n",
       "      <td>1</td>\n",
       "      <td>0</td>\n",
       "      <td>0</td>\n",
       "      <td>...</td>\n",
       "      <td>0</td>\n",
       "      <td>0</td>\n",
       "      <td>0</td>\n",
       "      <td>0</td>\n",
       "      <td>0</td>\n",
       "      <td>0</td>\n",
       "      <td>0</td>\n",
       "      <td>0</td>\n",
       "      <td>0</td>\n",
       "      <td>0</td>\n",
       "    </tr>\n",
       "    <tr>\n",
       "      <th>2</th>\n",
       "      <td>6.00</td>\n",
       "      <td>34</td>\n",
       "      <td>100</td>\n",
       "      <td>0</td>\n",
       "      <td>4</td>\n",
       "      <td>10</td>\n",
       "      <td>0</td>\n",
       "      <td>0</td>\n",
       "      <td>0</td>\n",
       "      <td>0</td>\n",
       "      <td>...</td>\n",
       "      <td>0</td>\n",
       "      <td>0</td>\n",
       "      <td>0</td>\n",
       "      <td>0</td>\n",
       "      <td>0</td>\n",
       "      <td>0</td>\n",
       "      <td>0</td>\n",
       "      <td>0</td>\n",
       "      <td>0</td>\n",
       "      <td>0</td>\n",
       "    </tr>\n",
       "    <tr>\n",
       "      <th>3</th>\n",
       "      <td>4.67</td>\n",
       "      <td>4</td>\n",
       "      <td>100</td>\n",
       "      <td>1</td>\n",
       "      <td>3</td>\n",
       "      <td>82</td>\n",
       "      <td>0</td>\n",
       "      <td>0</td>\n",
       "      <td>0</td>\n",
       "      <td>0</td>\n",
       "      <td>...</td>\n",
       "      <td>0</td>\n",
       "      <td>0</td>\n",
       "      <td>0</td>\n",
       "      <td>0</td>\n",
       "      <td>0</td>\n",
       "      <td>0</td>\n",
       "      <td>0</td>\n",
       "      <td>1</td>\n",
       "      <td>0</td>\n",
       "      <td>0</td>\n",
       "    </tr>\n",
       "    <tr>\n",
       "      <th>4</th>\n",
       "      <td>8.00</td>\n",
       "      <td>11</td>\n",
       "      <td>1000</td>\n",
       "      <td>0</td>\n",
       "      <td>4</td>\n",
       "      <td>127</td>\n",
       "      <td>0</td>\n",
       "      <td>0</td>\n",
       "      <td>0</td>\n",
       "      <td>0</td>\n",
       "      <td>...</td>\n",
       "      <td>0</td>\n",
       "      <td>1</td>\n",
       "      <td>0</td>\n",
       "      <td>0</td>\n",
       "      <td>0</td>\n",
       "      <td>1</td>\n",
       "      <td>0</td>\n",
       "      <td>0</td>\n",
       "      <td>0</td>\n",
       "      <td>0</td>\n",
       "    </tr>\n",
       "    <tr>\n",
       "      <th>...</th>\n",
       "      <td>...</td>\n",
       "      <td>...</td>\n",
       "      <td>...</td>\n",
       "      <td>...</td>\n",
       "      <td>...</td>\n",
       "      <td>...</td>\n",
       "      <td>...</td>\n",
       "      <td>...</td>\n",
       "      <td>...</td>\n",
       "      <td>...</td>\n",
       "      <td>...</td>\n",
       "      <td>...</td>\n",
       "      <td>...</td>\n",
       "      <td>...</td>\n",
       "      <td>...</td>\n",
       "      <td>...</td>\n",
       "      <td>...</td>\n",
       "      <td>...</td>\n",
       "      <td>...</td>\n",
       "      <td>...</td>\n",
       "      <td>...</td>\n",
       "    </tr>\n",
       "    <tr>\n",
       "      <th>1568</th>\n",
       "      <td>16.00</td>\n",
       "      <td>14</td>\n",
       "      <td>100</td>\n",
       "      <td>1</td>\n",
       "      <td>0</td>\n",
       "      <td>27</td>\n",
       "      <td>0</td>\n",
       "      <td>0</td>\n",
       "      <td>0</td>\n",
       "      <td>0</td>\n",
       "      <td>...</td>\n",
       "      <td>0</td>\n",
       "      <td>0</td>\n",
       "      <td>0</td>\n",
       "      <td>1</td>\n",
       "      <td>0</td>\n",
       "      <td>0</td>\n",
       "      <td>0</td>\n",
       "      <td>0</td>\n",
       "      <td>0</td>\n",
       "      <td>0</td>\n",
       "    </tr>\n",
       "    <tr>\n",
       "      <th>1569</th>\n",
       "      <td>6.00</td>\n",
       "      <td>17</td>\n",
       "      <td>5000</td>\n",
       "      <td>1</td>\n",
       "      <td>0</td>\n",
       "      <td>817</td>\n",
       "      <td>0</td>\n",
       "      <td>0</td>\n",
       "      <td>0</td>\n",
       "      <td>0</td>\n",
       "      <td>...</td>\n",
       "      <td>0</td>\n",
       "      <td>0</td>\n",
       "      <td>0</td>\n",
       "      <td>0</td>\n",
       "      <td>0</td>\n",
       "      <td>0</td>\n",
       "      <td>0</td>\n",
       "      <td>0</td>\n",
       "      <td>0</td>\n",
       "      <td>1</td>\n",
       "    </tr>\n",
       "    <tr>\n",
       "      <th>1570</th>\n",
       "      <td>4.83</td>\n",
       "      <td>51</td>\n",
       "      <td>50</td>\n",
       "      <td>1</td>\n",
       "      <td>0</td>\n",
       "      <td>1</td>\n",
       "      <td>0</td>\n",
       "      <td>0</td>\n",
       "      <td>0</td>\n",
       "      <td>0</td>\n",
       "      <td>...</td>\n",
       "      <td>0</td>\n",
       "      <td>1</td>\n",
       "      <td>0</td>\n",
       "      <td>0</td>\n",
       "      <td>0</td>\n",
       "      <td>0</td>\n",
       "      <td>0</td>\n",
       "      <td>1</td>\n",
       "      <td>0</td>\n",
       "      <td>0</td>\n",
       "    </tr>\n",
       "    <tr>\n",
       "      <th>1571</th>\n",
       "      <td>3.00</td>\n",
       "      <td>3</td>\n",
       "      <td>100</td>\n",
       "      <td>1</td>\n",
       "      <td>0</td>\n",
       "      <td>8</td>\n",
       "      <td>0</td>\n",
       "      <td>0</td>\n",
       "      <td>0</td>\n",
       "      <td>0</td>\n",
       "      <td>...</td>\n",
       "      <td>0</td>\n",
       "      <td>0</td>\n",
       "      <td>0</td>\n",
       "      <td>0</td>\n",
       "      <td>1</td>\n",
       "      <td>0</td>\n",
       "      <td>0</td>\n",
       "      <td>0</td>\n",
       "      <td>0</td>\n",
       "      <td>0</td>\n",
       "    </tr>\n",
       "    <tr>\n",
       "      <th>1572</th>\n",
       "      <td>13.00</td>\n",
       "      <td>11</td>\n",
       "      <td>100</td>\n",
       "      <td>1</td>\n",
       "      <td>0</td>\n",
       "      <td>4</td>\n",
       "      <td>0</td>\n",
       "      <td>0</td>\n",
       "      <td>0</td>\n",
       "      <td>0</td>\n",
       "      <td>...</td>\n",
       "      <td>0</td>\n",
       "      <td>0</td>\n",
       "      <td>1</td>\n",
       "      <td>0</td>\n",
       "      <td>0</td>\n",
       "      <td>1</td>\n",
       "      <td>0</td>\n",
       "      <td>0</td>\n",
       "      <td>0</td>\n",
       "      <td>0</td>\n",
       "    </tr>\n",
       "  </tbody>\n",
       "</table>\n",
       "<p>1573 rows × 46 columns</p>\n",
       "</div>"
      ],
      "text/plain": [
       "      price  retail_price  units_sold  uses_ad_boosts  rating  rating_count  \\\n",
       "0      8.00             7       10000               1       4          1670   \n",
       "1      8.00             7        1000               0       4           843   \n",
       "2      6.00            34         100               0       4            10   \n",
       "3      4.67             4         100               1       3            82   \n",
       "4      8.00            11        1000               0       4           127   \n",
       "...     ...           ...         ...             ...     ...           ...   \n",
       "1568  16.00            14         100               1       0            27   \n",
       "1569   6.00            17        5000               1       0           817   \n",
       "1570   4.83            51          50               1       0             1   \n",
       "1571   3.00             3         100               1       0             8   \n",
       "1572  13.00            11         100               1       0             4   \n",
       "\n",
       "      badges_count badge_local_product badge_product_quality  \\\n",
       "0                0                   0                     0   \n",
       "1                1                   1                     0   \n",
       "2                0                   0                     0   \n",
       "3                0                   0                     0   \n",
       "4                0                   0                     0   \n",
       "...            ...                 ...                   ...   \n",
       "1568             0                   0                     0   \n",
       "1569             0                   0                     0   \n",
       "1570             0                   0                     0   \n",
       "1571             0                   0                     0   \n",
       "1572             0                   0                     0   \n",
       "\n",
       "     badge_fast_shipping  ...  tag_necks  tag_v-neck  tag_printed size__M  \\\n",
       "0                      0  ...          0           0            0       1   \n",
       "1                      0  ...          0           0            0       0   \n",
       "2                      0  ...          0           0            0       0   \n",
       "3                      0  ...          0           0            0       0   \n",
       "4                      0  ...          0           1            0       0   \n",
       "...                  ...  ...        ...         ...          ...     ...   \n",
       "1568                   0  ...          0           0            0       1   \n",
       "1569                   0  ...          0           0            0       0   \n",
       "1570                   0  ...          0           1            0       0   \n",
       "1571                   0  ...          0           0            0       0   \n",
       "1572                   0  ...          0           0            1       0   \n",
       "\n",
       "      size__Other  size__S  size__XL  size__XS  size__XXL+ size__XXS+  \n",
       "0               0        0         0         0           0          0  \n",
       "1               0        0         0         0           0          0  \n",
       "2               0        0         0         0           0          0  \n",
       "3               0        0         0         1           0          0  \n",
       "4               0        1         0         0           0          0  \n",
       "...           ...      ...       ...       ...         ...        ...  \n",
       "1568            0        0         0         0           0          0  \n",
       "1569            0        0         0         0           0          1  \n",
       "1570            0        0         0         1           0          0  \n",
       "1571            1        0         0         0           0          0  \n",
       "1572            0        1         0         0           0          0  \n",
       "\n",
       "[1573 rows x 46 columns]"
      ]
     },
     "execution_count": 773,
     "metadata": {},
     "output_type": "execute_result"
    }
   ],
   "source": [
    "df"
   ]
  },
  {
   "cell_type": "markdown",
   "id": "5b3198bb",
   "metadata": {},
   "source": [
    "# merchant_info_subtitle column\n",
    "The subtitle text as shown on a seller's info section to the user. (raw, not preprocessed). The website shows this to the user to give an overview of the seller's stats to the user. Mostly consists of % ( reviews) written in french\n",
    "so we can get this percentage to save it in new feature called merchant_positive_pct"
   ]
  },
  {
   "cell_type": "code",
   "execution_count": 774,
   "id": "818a7d98",
   "metadata": {},
   "outputs": [
    {
     "data": {
      "text/plain": [
       "83 % avis positifs (32,168 notes)    14\n",
       "86 % avis positifs (12,309 notes)    11\n",
       "87 % avis positifs (42,919 notes)     8\n",
       "85 % avis positifs (80,093 notes)     7\n",
       "84 % avis positifs (5,654 notes)      6\n",
       "                                     ..\n",
       "77 % avis positifs (849 notes)        1\n",
       "82 % avis positifs (870 notes)        1\n",
       "90 % avis positifs (6,033 notes)      1\n",
       "(12,913 notes)                        1\n",
       "87 % avis positifs (1,086 notes)      1\n",
       "Name: merchant_info_subtitle, Length: 1058, dtype: int64"
      ]
     },
     "execution_count": 774,
     "metadata": {},
     "output_type": "execute_result"
    }
   ],
   "source": [
    "df['merchant_info_subtitle'].value_counts()\n"
   ]
  },
  {
   "cell_type": "code",
   "execution_count": 775,
   "id": "baca7f20",
   "metadata": {},
   "outputs": [],
   "source": [
    "#here we get the percentage for each row in merchant_info_subtitle col\n",
    "import re                                         \n",
    "def getPercentage(x): \n",
    "    match = re.search(r'\\d+%', str(x))\n",
    "    if match is None:\n",
    "        return None\n",
    "    else:\n",
    "        return float(match.group().rstrip(\"%\"))"
   ]
  },
  {
   "cell_type": "code",
   "execution_count": 776,
   "id": "280df5d3",
   "metadata": {},
   "outputs": [
    {
     "data": {
      "text/plain": [
       "0    88.0\n",
       "1    91.0\n",
       "2    83.0\n",
       "3    87.0\n",
       "4    91.0\n",
       "Name: merchant_positive_pct, dtype: float64"
      ]
     },
     "execution_count": 776,
     "metadata": {},
     "output_type": "execute_result"
    }
   ],
   "source": [
    "df['merchant_info_subtitle'] = df['merchant_info_subtitle'].str.replace(' ', '')\n",
    "df['merchant_positive_pct'] = df['merchant_info_subtitle'].apply(getPercentage)\n",
    "df['merchant_positive_pct'].head()"
   ]
  },
  {
   "cell_type": "code",
   "execution_count": 777,
   "id": "a4cdc769",
   "metadata": {},
   "outputs": [],
   "source": [
    "#fill any null values by the mean of total \n",
    "df['merchant_positive_pct'].fillna((df['merchant_positive_pct'].mean()), inplace=True)"
   ]
  },
  {
   "cell_type": "code",
   "execution_count": 778,
   "id": "2d1d985e",
   "metadata": {},
   "outputs": [],
   "source": [
    "# after i take the percentage for each row and \n",
    "# generate new col i will drop merchant_info_subtitle\n",
    "df.drop('merchant_info_subtitle' , axis=1 , inplace=True)"
   ]
  },
  {
   "cell_type": "code",
   "execution_count": 779,
   "id": "b9d681d9",
   "metadata": {},
   "outputs": [],
   "source": [
    "# df.drop(['product_color','product_variation_size_id'] , inplace=True , axis=1)"
   ]
  },
  {
   "cell_type": "code",
   "execution_count": 780,
   "id": "2d465fd8",
   "metadata": {},
   "outputs": [],
   "source": [
    "df.drop('discounted_price' , inplace=True , axis = 1) "
   ]
  },
  {
   "cell_type": "markdown",
   "id": "1f24984e",
   "metadata": {},
   "source": [
    "# now we can split data after we made preprocssing "
   ]
  },
  {
   "cell_type": "code",
   "execution_count": 781,
   "id": "27a9ed28",
   "metadata": {},
   "outputs": [
    {
     "name": "stdout",
     "output_type": "stream",
     "text": [
      "(1094, 45)\n",
      "(479, 45)\n"
     ]
    }
   ],
   "source": [
    "train_data_rows = train_data.shape[0]                       #number of rows train_new dataset \n",
    "train_data_cleaned = df.iloc[:train_data_rows]              #split df after preprocessing until train_data_rows\n",
    "print(train_data_cleaned.shape)                             #to show the train_data_cleaned shape\n",
    "test_data_cleaned = df.iloc[train_data_rows :]              #split df after preprocessing from train_data_rows to last row\n",
    "print(test_data_cleaned.shape)\n",
    "test_data_cleaned= test_data_cleaned.drop('rating', axis=1) #drop the rating column from test_data_cleaned "
   ]
  },
  {
   "cell_type": "code",
   "execution_count": 782,
   "id": "c1b9c509",
   "metadata": {},
   "outputs": [
    {
     "data": {
      "text/html": [
       "<div>\n",
       "<style scoped>\n",
       "    .dataframe tbody tr th:only-of-type {\n",
       "        vertical-align: middle;\n",
       "    }\n",
       "\n",
       "    .dataframe tbody tr th {\n",
       "        vertical-align: top;\n",
       "    }\n",
       "\n",
       "    .dataframe thead th {\n",
       "        text-align: right;\n",
       "    }\n",
       "</style>\n",
       "<table border=\"1\" class=\"dataframe\">\n",
       "  <thead>\n",
       "    <tr style=\"text-align: right;\">\n",
       "      <th></th>\n",
       "      <th>price</th>\n",
       "      <th>retail_price</th>\n",
       "      <th>units_sold</th>\n",
       "      <th>uses_ad_boosts</th>\n",
       "      <th>rating_count</th>\n",
       "      <th>badges_count</th>\n",
       "      <th>badge_local_product</th>\n",
       "      <th>badge_product_quality</th>\n",
       "      <th>badge_fast_shipping</th>\n",
       "      <th>product_variation_inventory</th>\n",
       "      <th>...</th>\n",
       "      <th>tag_v-neck</th>\n",
       "      <th>tag_printed</th>\n",
       "      <th>size__M</th>\n",
       "      <th>size__Other</th>\n",
       "      <th>size__S</th>\n",
       "      <th>size__XL</th>\n",
       "      <th>size__XS</th>\n",
       "      <th>size__XXL+</th>\n",
       "      <th>size__XXS+</th>\n",
       "      <th>merchant_positive_pct</th>\n",
       "    </tr>\n",
       "  </thead>\n",
       "  <tbody>\n",
       "    <tr>\n",
       "      <th>1094</th>\n",
       "      <td>5.75</td>\n",
       "      <td>5</td>\n",
       "      <td>10</td>\n",
       "      <td>1</td>\n",
       "      <td>0</td>\n",
       "      <td>0</td>\n",
       "      <td>0</td>\n",
       "      <td>0</td>\n",
       "      <td>0</td>\n",
       "      <td>5</td>\n",
       "      <td>...</td>\n",
       "      <td>0</td>\n",
       "      <td>0</td>\n",
       "      <td>0</td>\n",
       "      <td>0</td>\n",
       "      <td>0</td>\n",
       "      <td>0</td>\n",
       "      <td>1</td>\n",
       "      <td>0</td>\n",
       "      <td>0</td>\n",
       "      <td>33.0</td>\n",
       "    </tr>\n",
       "    <tr>\n",
       "      <th>1095</th>\n",
       "      <td>7.00</td>\n",
       "      <td>7</td>\n",
       "      <td>5000</td>\n",
       "      <td>0</td>\n",
       "      <td>579</td>\n",
       "      <td>0</td>\n",
       "      <td>0</td>\n",
       "      <td>0</td>\n",
       "      <td>0</td>\n",
       "      <td>50</td>\n",
       "      <td>...</td>\n",
       "      <td>0</td>\n",
       "      <td>0</td>\n",
       "      <td>0</td>\n",
       "      <td>0</td>\n",
       "      <td>0</td>\n",
       "      <td>0</td>\n",
       "      <td>1</td>\n",
       "      <td>0</td>\n",
       "      <td>0</td>\n",
       "      <td>86.0</td>\n",
       "    </tr>\n",
       "    <tr>\n",
       "      <th>1096</th>\n",
       "      <td>5.00</td>\n",
       "      <td>16</td>\n",
       "      <td>1000</td>\n",
       "      <td>1</td>\n",
       "      <td>62</td>\n",
       "      <td>0</td>\n",
       "      <td>0</td>\n",
       "      <td>0</td>\n",
       "      <td>0</td>\n",
       "      <td>20</td>\n",
       "      <td>...</td>\n",
       "      <td>0</td>\n",
       "      <td>0</td>\n",
       "      <td>0</td>\n",
       "      <td>0</td>\n",
       "      <td>0</td>\n",
       "      <td>0</td>\n",
       "      <td>1</td>\n",
       "      <td>0</td>\n",
       "      <td>0</td>\n",
       "      <td>85.0</td>\n",
       "    </tr>\n",
       "    <tr>\n",
       "      <th>1097</th>\n",
       "      <td>18.00</td>\n",
       "      <td>27</td>\n",
       "      <td>5000</td>\n",
       "      <td>1</td>\n",
       "      <td>1903</td>\n",
       "      <td>0</td>\n",
       "      <td>0</td>\n",
       "      <td>0</td>\n",
       "      <td>0</td>\n",
       "      <td>50</td>\n",
       "      <td>...</td>\n",
       "      <td>0</td>\n",
       "      <td>0</td>\n",
       "      <td>1</td>\n",
       "      <td>0</td>\n",
       "      <td>0</td>\n",
       "      <td>0</td>\n",
       "      <td>0</td>\n",
       "      <td>0</td>\n",
       "      <td>0</td>\n",
       "      <td>86.0</td>\n",
       "    </tr>\n",
       "    <tr>\n",
       "      <th>1098</th>\n",
       "      <td>12.00</td>\n",
       "      <td>81</td>\n",
       "      <td>20000</td>\n",
       "      <td>0</td>\n",
       "      <td>1799</td>\n",
       "      <td>0</td>\n",
       "      <td>0</td>\n",
       "      <td>0</td>\n",
       "      <td>0</td>\n",
       "      <td>50</td>\n",
       "      <td>...</td>\n",
       "      <td>0</td>\n",
       "      <td>0</td>\n",
       "      <td>1</td>\n",
       "      <td>0</td>\n",
       "      <td>0</td>\n",
       "      <td>0</td>\n",
       "      <td>0</td>\n",
       "      <td>0</td>\n",
       "      <td>0</td>\n",
       "      <td>88.0</td>\n",
       "    </tr>\n",
       "  </tbody>\n",
       "</table>\n",
       "<p>5 rows × 44 columns</p>\n",
       "</div>"
      ],
      "text/plain": [
       "      price  retail_price  units_sold  uses_ad_boosts  rating_count  \\\n",
       "1094   5.75             5          10               1             0   \n",
       "1095   7.00             7        5000               0           579   \n",
       "1096   5.00            16        1000               1            62   \n",
       "1097  18.00            27        5000               1          1903   \n",
       "1098  12.00            81       20000               0          1799   \n",
       "\n",
       "      badges_count badge_local_product badge_product_quality  \\\n",
       "1094             0                   0                     0   \n",
       "1095             0                   0                     0   \n",
       "1096             0                   0                     0   \n",
       "1097             0                   0                     0   \n",
       "1098             0                   0                     0   \n",
       "\n",
       "     badge_fast_shipping  product_variation_inventory  ...  tag_v-neck  \\\n",
       "1094                   0                            5  ...           0   \n",
       "1095                   0                           50  ...           0   \n",
       "1096                   0                           20  ...           0   \n",
       "1097                   0                           50  ...           0   \n",
       "1098                   0                           50  ...           0   \n",
       "\n",
       "      tag_printed  size__M  size__Other  size__S  size__XL size__XS  \\\n",
       "1094            0        0            0        0         0        1   \n",
       "1095            0        0            0        0         0        1   \n",
       "1096            0        0            0        0         0        1   \n",
       "1097            0        1            0        0         0        0   \n",
       "1098            0        1            0        0         0        0   \n",
       "\n",
       "     size__XXL+ size__XXS+ merchant_positive_pct  \n",
       "1094          0          0                  33.0  \n",
       "1095          0          0                  86.0  \n",
       "1096          0          0                  85.0  \n",
       "1097          0          0                  86.0  \n",
       "1098          0          0                  88.0  \n",
       "\n",
       "[5 rows x 44 columns]"
      ]
     },
     "execution_count": 782,
     "metadata": {},
     "output_type": "execute_result"
    }
   ],
   "source": [
    "test_data_cleaned.head()"
   ]
  },
  {
   "cell_type": "code",
   "execution_count": 783,
   "id": "05b8cf57",
   "metadata": {},
   "outputs": [
    {
     "name": "stdout",
     "output_type": "stream",
     "text": [
      "Your selected dataframe has 45 columns.\n",
      "There are 0 columns that have missing values.\n"
     ]
    },
    {
     "data": {
      "text/html": [
       "<div>\n",
       "<style scoped>\n",
       "    .dataframe tbody tr th:only-of-type {\n",
       "        vertical-align: middle;\n",
       "    }\n",
       "\n",
       "    .dataframe tbody tr th {\n",
       "        vertical-align: top;\n",
       "    }\n",
       "\n",
       "    .dataframe thead th {\n",
       "        text-align: right;\n",
       "    }\n",
       "</style>\n",
       "<table border=\"1\" class=\"dataframe\">\n",
       "  <thead>\n",
       "    <tr style=\"text-align: right;\">\n",
       "      <th></th>\n",
       "      <th>Missing Values</th>\n",
       "      <th>% of Total Values</th>\n",
       "    </tr>\n",
       "  </thead>\n",
       "  <tbody>\n",
       "  </tbody>\n",
       "</table>\n",
       "</div>"
      ],
      "text/plain": [
       "Empty DataFrame\n",
       "Columns: [Missing Values, % of Total Values]\n",
       "Index: []"
      ]
     },
     "execution_count": 783,
     "metadata": {},
     "output_type": "execute_result"
    }
   ],
   "source": [
    "# df=df.fillna(0)                        #missing_values_table in dataset \n",
    "def missing_values_table(df):\n",
    "        mis_val = df.isnull().sum()\n",
    "        mis_val_percent = 100 * df.isnull().sum() / len(df)\n",
    "        mis_val_table = pd.concat([mis_val, mis_val_percent], axis=1)\n",
    "        mis_val_table_ren_columns = mis_val_table.rename(\n",
    "        columns = {0 : 'Missing Values', 1 : '% of Total Values'})\n",
    "        mis_val_table_ren_columns = mis_val_table_ren_columns[\n",
    "            mis_val_table_ren_columns.iloc[:,1] != 0].sort_values(\n",
    "        '% of Total Values', ascending=False).round(1)\n",
    "        print (\"Your selected dataframe has \" + str(df.shape[1]) + \" columns.\\n\"      \n",
    "            \"There are \" + str(mis_val_table_ren_columns.shape[0]) +\n",
    "              \" columns that have missing values.\")\n",
    "        return mis_val_table_ren_columns\n",
    "    \n",
    "df_qa=missing_values_table(df)\n",
    "df_qa\n"
   ]
  },
  {
   "cell_type": "code",
   "execution_count": 784,
   "id": "e22a167f",
   "metadata": {},
   "outputs": [
    {
     "data": {
      "text/plain": [
       "price                           0\n",
       "retail_price                    0\n",
       "units_sold                      0\n",
       "uses_ad_boosts                  0\n",
       "rating_count                    0\n",
       "badges_count                    0\n",
       "badge_local_product             0\n",
       "badge_product_quality           0\n",
       "badge_fast_shipping             0\n",
       "product_variation_inventory     0\n",
       "shipping_option_price           0\n",
       "countries_shipped_to            0\n",
       "merchant_rating_count           0\n",
       "merchant_rating                 0\n",
       "merchant_has_profile_picture    0\n",
       "n_tags                          0\n",
       "tag_summer                      0\n",
       "tag_women's fashion             0\n",
       "tag_fashion                     0\n",
       "tag_women                       0\n",
       "tag_casual                      0\n",
       "tag_plus size                   0\n",
       "tag_sleeveless                  0\n",
       "tag_dress                       0\n",
       "tag_shorts                      0\n",
       "tag_tops                        0\n",
       "tag_sexy                        0\n",
       "tag_beach                       0\n",
       "tag_sleeve                      0\n",
       "tag_short sleeves               0\n",
       "tag_print                       0\n",
       "tag_shirt                       0\n",
       "tag_tank                        0\n",
       "tag_necks                       0\n",
       "tag_v-neck                      0\n",
       "tag_printed                     0\n",
       "size__M                         0\n",
       "size__Other                     0\n",
       "size__S                         0\n",
       "size__XL                        0\n",
       "size__XS                        0\n",
       "size__XXL+                      0\n",
       "size__XXS+                      0\n",
       "merchant_positive_pct           0\n",
       "dtype: int64"
      ]
     },
     "execution_count": 784,
     "metadata": {},
     "output_type": "execute_result"
    }
   ],
   "source": [
    "test_data_cleaned.isnull().sum()             #check if we have any null values in test dataset "
   ]
  },
  {
   "cell_type": "code",
   "execution_count": 785,
   "id": "bf7bf8b3",
   "metadata": {},
   "outputs": [
    {
     "data": {
      "text/plain": [
       "price                           0\n",
       "retail_price                    0\n",
       "units_sold                      0\n",
       "uses_ad_boosts                  0\n",
       "rating                          0\n",
       "rating_count                    0\n",
       "badges_count                    0\n",
       "badge_local_product             0\n",
       "badge_product_quality           0\n",
       "badge_fast_shipping             0\n",
       "product_variation_inventory     0\n",
       "shipping_option_price           0\n",
       "countries_shipped_to            0\n",
       "merchant_rating_count           0\n",
       "merchant_rating                 0\n",
       "merchant_has_profile_picture    0\n",
       "n_tags                          0\n",
       "tag_summer                      0\n",
       "tag_women's fashion             0\n",
       "tag_fashion                     0\n",
       "tag_women                       0\n",
       "tag_casual                      0\n",
       "tag_plus size                   0\n",
       "tag_sleeveless                  0\n",
       "tag_dress                       0\n",
       "tag_shorts                      0\n",
       "tag_tops                        0\n",
       "tag_sexy                        0\n",
       "tag_beach                       0\n",
       "tag_sleeve                      0\n",
       "tag_short sleeves               0\n",
       "tag_print                       0\n",
       "tag_shirt                       0\n",
       "tag_tank                        0\n",
       "tag_necks                       0\n",
       "tag_v-neck                      0\n",
       "tag_printed                     0\n",
       "size__M                         0\n",
       "size__Other                     0\n",
       "size__S                         0\n",
       "size__XL                        0\n",
       "size__XS                        0\n",
       "size__XXL+                      0\n",
       "size__XXS+                      0\n",
       "merchant_positive_pct           0\n",
       "dtype: int64"
      ]
     },
     "execution_count": 785,
     "metadata": {},
     "output_type": "execute_result"
    }
   ],
   "source": [
    "train_data_cleaned.isnull().sum()                 #check if we have any null values in test dataset "
   ]
  },
  {
   "cell_type": "code",
   "execution_count": 786,
   "id": "c25f91a0",
   "metadata": {},
   "outputs": [
    {
     "name": "stderr",
     "output_type": "stream",
     "text": [
      "UsageError: unrecognized arguments: #this show some features hist\n"
     ]
    }
   ],
   "source": [
    "%matplotlib inline                           #this show some features hist\n",
    "train_data_cleaned.hist(bins = 50, figsize=(20,16)) \n",
    "plt.show()"
   ]
  },
  {
   "cell_type": "code",
   "execution_count": 787,
   "id": "a0482e9a",
   "metadata": {},
   "outputs": [
    {
     "name": "stderr",
     "output_type": "stream",
     "text": [
      "UsageError: unrecognized arguments: #this show some features hist\n"
     ]
    }
   ],
   "source": [
    "%matplotlib inline                           #this show some features hist\n",
    "test_data_cleaned.hist(bins = 50, figsize=(20,16)) \n",
    "plt.show()"
   ]
  },
  {
   "cell_type": "code",
   "execution_count": null,
   "id": "8459aab2",
   "metadata": {},
   "outputs": [],
   "source": []
  },
  {
   "cell_type": "markdown",
   "id": "6f04021e",
   "metadata": {},
   "source": []
  },
  {
   "cell_type": "markdown",
   "id": "a04eaaa7",
   "metadata": {},
   "source": [
    "# Classification models"
   ]
  },
  {
   "cell_type": "code",
   "execution_count": 788,
   "id": "da614ee5",
   "metadata": {},
   "outputs": [],
   "source": [
    "#import some model to use it \n",
    "from sklearn.ensemble import RandomForestClassifier\n",
    "from sklearn.ensemble import GradientBoostingClassifier\n",
    "from sklearn.tree import DecisionTreeClassifier\n",
    "from sklearn.ensemble import RandomForestClassifier\n",
    "from sklearn.neural_network import MLPClassifier\n",
    "from sklearn import decomposition, datasets\n",
    "from sklearn import tree\n",
    "from sklearn.model_selection import GridSearchCV\n",
    "from sklearn.preprocessing import StandardScaler\n",
    "from sklearn.naive_bayes import CategoricalNB\n",
    "from sklearn.naive_bayes import GaussianNB"
   ]
  },
  {
   "cell_type": "code",
   "execution_count": 789,
   "id": "1db3820a",
   "metadata": {},
   "outputs": [
    {
     "name": "stdout",
     "output_type": "stream",
     "text": [
      "(1094, 44)\n",
      "(1094,)\n"
     ]
    }
   ],
   "source": [
    "#make varible called \"X\" \"input\" contains all columns without rating column\n",
    "X=train_data_cleaned.drop(columns ='rating' )   \n",
    "#make varaible called \"y\" \"target\" contain only rating column\n",
    "y= train_data_cleaned['rating']                 \n",
    "print(X.shape)\n",
    "print(y.shape)"
   ]
  },
  {
   "cell_type": "code",
   "execution_count": 790,
   "id": "96158b1b",
   "metadata": {},
   "outputs": [],
   "source": [
    "#make X_train, X_test, y_train, y_test on train data to train our model and test it \n",
    "X_train, X_test, y_train, y_test = train_test_split(X,\n",
    "                                                    y, test_size = .2,random_state=10 , shuffle=True)\n",
    "#when i use the all train data to fit the model the the predicted value improved so i use all data to fit the model "
   ]
  },
  {
   "cell_type": "markdown",
   "id": "7b483e1c",
   "metadata": {},
   "source": [
    "# DecisionTreeClassifier mode\n",
    "By using DecisionTreeClassifier model f1 on the kaggle \n",
    "range from 75 to 80 % depend on the different parameters "
   ]
  },
  {
   "cell_type": "code",
   "execution_count": 791,
   "id": "a8e65775",
   "metadata": {},
   "outputs": [
    {
     "data": {
      "text/plain": [
       "0.9927469454945528"
      ]
     },
     "execution_count": 791,
     "metadata": {},
     "output_type": "execute_result"
    }
   ],
   "source": [
    "ds=DecisionTreeClassifier(random_state=10 ,criterion='entropy',max_depth = 20 )#this when we use different Parameters \n",
    "# ds=DecisionTreeClassifier()  #this model without hyperparameter2\n",
    "ds.fit(X , y) #fit the model  on all train dataset\n",
    "pred=ds.predict(X) #test our model\n",
    "f1_score(y, pred,average = 'weighted')  #check the model f1 score\n",
    "#when i tried DecisionTreeClassifier by the default parameters f1 on kaggle become 79 and 80 % \n",
    "#and when i use other parameters the f1 changed "
   ]
  },
  {
   "cell_type": "code",
   "execution_count": 792,
   "id": "8310d579",
   "metadata": {},
   "outputs": [],
   "source": [
    "y_pred_test=ds.predict(test_data_cleaned)  #test the trained model on the test data \n",
    "y_pred_test= y_pred_test.astype(float) #convert the out put to float datatype "
   ]
  },
  {
   "cell_type": "code",
   "execution_count": 793,
   "id": "b0ec4d1f",
   "metadata": {},
   "outputs": [],
   "source": [
    "id = test_data['id']                                                           #in this line i take id from sample data \n",
    "pred_df = pd.DataFrame(data={'id': np.asarray(id), 'rating': y_pred_test})     #take prediction values and id to make df and \n",
    "pred_df.to_csv('pred_TES.csv', index=False)                                   #save them in csv file"
   ]
  },
  {
   "cell_type": "code",
   "execution_count": 794,
   "id": "23fabde8",
   "metadata": {},
   "outputs": [],
   "source": [
    "# y_pred= pd.DataFrame(np.array(y_pred_test))\n",
    "# y_pred.value_counts()"
   ]
  },
  {
   "cell_type": "markdown",
   "id": "2b3934c4",
   "metadata": {},
   "source": [
    "# RandomForestClassifier model"
   ]
  },
  {
   "cell_type": "code",
   "execution_count": 795,
   "id": "43b19e77",
   "metadata": {},
   "outputs": [
    {
     "data": {
      "text/plain": [
       "0.9926006016105771"
      ]
     },
     "execution_count": 795,
     "metadata": {},
     "output_type": "execute_result"
    }
   ],
   "source": [
    "# rfc= RandomForestClassifier(n_estimators =50, random_state=10)    #this when we use different Parameters  \n",
    "rfc= RandomForestClassifier() #make model randomforestclassifier     \"this give us best f1 score on kaggle\"\n",
    "rfc.fit(X , y) #train the model \n",
    "pred=rfc.predict(X)   #test the model \n",
    "# f1_score(y_test, pred,average = 'weighted')\n",
    "f1_score(y, pred,average = 'weighted')   #check the f1 score of the model\n",
    "#when i tried DecisionTreeClassifier by the default parameters f1 on kaggle become 81 and 83 % \n",
    "#and when i use other parameters the f1 changed "
   ]
  },
  {
   "cell_type": "code",
   "execution_count": 796,
   "id": "2a0860ba",
   "metadata": {},
   "outputs": [],
   "source": [
    "y_pred=rfc.predict(test_data_cleaned)                                 #make predictions for the test data \n",
    "y_pred= y_pred.astype(float)                                          #convert the output to float datatype"
   ]
  },
  {
   "cell_type": "code",
   "execution_count": 797,
   "id": "cd55fbcc",
   "metadata": {},
   "outputs": [],
   "source": [
    "id = test_data['id']                                                  #in this line i take id from sample data \n",
    "pred_df = pd.DataFrame(data={'id': np.asarray(id), 'rating': y_pred}) #take prediction values and id to make df and\n",
    "pred_df.to_csv('pred_TEST_final.csv', index=False)                    #save them in csv file"
   ]
  },
  {
   "cell_type": "code",
   "execution_count": 798,
   "id": "e2eaa7b4",
   "metadata": {},
   "outputs": [],
   "source": [
    "# y_pred= pd.DataFrame(np.array(y_pred))\n",
    "# y_pred.value_counts()"
   ]
  },
  {
   "cell_type": "markdown",
   "id": "7b543e47",
   "metadata": {},
   "source": [
    "# Support vector machines model"
   ]
  },
  {
   "cell_type": "code",
   "execution_count": 799,
   "id": "379568f0",
   "metadata": {},
   "outputs": [],
   "source": [
    "from sklearn.preprocessing import StandardScaler\n",
    "scaler= StandardScaler()\n",
    "X_train_scaled = scaler.fit_transform(X)"
   ]
  },
  {
   "cell_type": "code",
   "execution_count": 409,
   "id": "6a79d2cb",
   "metadata": {},
   "outputs": [],
   "source": [
    "#By using DecisionTreeClassifier model f1 on the kaggle range from 75 to 80 % depend on the different parameters "
   ]
  },
  {
   "cell_type": "code",
   "execution_count": 803,
   "id": "b9284e7c",
   "metadata": {},
   "outputs": [
    {
     "name": "stdout",
     "output_type": "stream",
     "text": [
      "Accuracy :  75.05\n",
      "F1 :  67.85\n"
     ]
    }
   ],
   "source": [
    "model_svc = SVC(gamma = 0.01 , C=1 , degree= 10) #create object from SVM\n",
    "model_svc.fit(X_train_scaled, y)               #train the model \n",
    "svc_pred = model_svc.predict(X_train_scaled)   #predict the train data to check the model \n",
    "#this check the accurracy and f1 score of svc model \n",
    "svc_accuracy = accuracy_score(y, svc_pred) \n",
    "svc_f1 = f1_score(y, svc_pred, average='weighted')\n",
    "print('Accuracy : ', \"%.2f\" % (svc_accuracy*100))\n",
    "print('F1 : ', \"%.2f\" % (svc_f1*100))\n",
    "#when i tried Support vector machinesr by the default parameters f1 on kaggle  become 70 to 75  % \n",
    "#and when i use other parameters the f1 changed "
   ]
  },
  {
   "cell_type": "code",
   "execution_count": 804,
   "id": "0a79fd12",
   "metadata": {},
   "outputs": [],
   "source": [
    "y_predsvc=model_svc.predict(test_data_cleaned) #make predictions for the test data \n",
    "y_predsvc= y_predsvc.astype(float)             #convert the output to float datatype"
   ]
  },
  {
   "cell_type": "code",
   "execution_count": 805,
   "id": "b65121d8",
   "metadata": {},
   "outputs": [],
   "source": [
    "id = test_data['id']                                                       #in this line i take id from sample data\n",
    "pred_df = pd.DataFrame(data={'id': np.asarray(id), 'rating': y_predsvc})   #take prediction values and id to make df and\n",
    "pred_df.to_csv('predcsv.csv', index=False)                                 #save them in csv file"
   ]
  },
  {
   "cell_type": "code",
   "execution_count": 806,
   "id": "229d07de",
   "metadata": {},
   "outputs": [],
   "source": [
    "# y_pred= pd.DataFrame(np.array(y_predsvc))\n",
    "# y_pred.value_counts()"
   ]
  },
  {
   "cell_type": "markdown",
   "id": "d3b2a3e4",
   "metadata": {},
   "source": [
    "# GaussianNB model\n",
    "this is the worst model i used it on this data "
   ]
  },
  {
   "cell_type": "code",
   "execution_count": 807,
   "id": "946e6f52",
   "metadata": {},
   "outputs": [
    {
     "data": {
      "text/plain": [
       "0.5360514059431413"
      ]
     },
     "execution_count": 807,
     "metadata": {},
     "output_type": "execute_result"
    }
   ],
   "source": [
    "model_GNB=GaussianNB()                     #genetrate model GaussianNB() without perparameters \n",
    "# model_GNB=GaussianNB(var_smoothing=1e-2) #genetrate model GaussianNB() with    perparameters \n",
    "model_GNB.fit(X , y)                       #train the model on train data\n",
    "predGNB=model_GNB.predict(X)            #test the model on train data \n",
    "f1_score(y, predGNB,average = 'weighted')  #check f1 score for our model \n"
   ]
  },
  {
   "cell_type": "code",
   "execution_count": 808,
   "id": "03e54779",
   "metadata": {},
   "outputs": [],
   "source": [
    "y_predGNB=model_GNB.predict(test_data_cleaned)  #predict the test data \n",
    "predGNB= y_predGNB.astype(float)                #convert the output to float datatype "
   ]
  },
  {
   "cell_type": "code",
   "execution_count": 809,
   "id": "05437868",
   "metadata": {},
   "outputs": [],
   "source": [
    "id = test_data['id']                                                       #in this line i take id from sample data\n",
    "pred_df = pd.DataFrame(data={'id': np.asarray(id), 'rating': y_predsvc})   #take prediction values and id to make df and\n",
    "pred_df.to_csv('predGaussianNB.csv', index=False)                                 #save them in csv file"
   ]
  },
  {
   "cell_type": "code",
   "execution_count": 810,
   "id": "c4e65e98",
   "metadata": {},
   "outputs": [],
   "source": [
    "# predGNB_test= pd.DataFrame(np.array(predGNB))\n",
    "# predGNB_test.value_counts()"
   ]
  },
  {
   "cell_type": "markdown",
   "id": "e55aed9c",
   "metadata": {},
   "source": [
    "# CategoricalNB model \n",
    "this works on categorical data "
   ]
  },
  {
   "cell_type": "code",
   "execution_count": 814,
   "id": "87c63b75",
   "metadata": {},
   "outputs": [
    {
     "data": {
      "text/plain": [
       "0.6537742417637844"
      ]
     },
     "execution_count": 814,
     "metadata": {},
     "output_type": "execute_result"
    }
   ],
   "source": [
    "from sklearn.preprocessing import MinMaxScaler #using pipleine to make apply this steps \n",
    "                                              # \"Normalizing\" ana \"CategoricalNB\"\n",
    "p = Pipeline([('Normalizing',MinMaxScaler()),('MultinomialNB',CategoricalNB())]) \n",
    "p.fit(X,y)                     #train the model on train data \n",
    "pre_CategoricalNB=p.predict(X) #test the model on train data \n",
    "f1_score(y, pre_CategoricalNB,average = 'weighted') #check the value of f1 score "
   ]
  },
  {
   "cell_type": "code",
   "execution_count": 815,
   "id": "065d1e0b",
   "metadata": {},
   "outputs": [],
   "source": [
    "y_CategoricalNB=p.predict(test_data_cleaned.astype(float))      #predict the test data \n",
    "# predCategoricalNB= y_CategoricalNB.astype(float)  #convert the output to float datatype "
   ]
  },
  {
   "cell_type": "code",
   "execution_count": 817,
   "id": "9b94ef15",
   "metadata": {},
   "outputs": [],
   "source": [
    "id = test_data['id']                                                       #in this line i take id from sample data\n",
    "pred_df = pd.DataFrame(data={'id': np.asarray(id), 'rating': y_predsvc})   #take prediction values and id to make df and\n",
    "pred_df.to_csv('predCategoricalNB.csv', index=False)                                 #save them in csv file"
   ]
  },
  {
   "cell_type": "code",
   "execution_count": null,
   "id": "860adac0",
   "metadata": {},
   "outputs": [],
   "source": [
    "#finally the best model i used it here is RandomForestClassifier model and DecisionTreeClassifier mode "
   ]
  }
 ],
 "metadata": {
  "kernelspec": {
   "display_name": "Python 3 (ipykernel)",
   "language": "python",
   "name": "python3"
  },
  "language_info": {
   "codemirror_mode": {
    "name": "ipython",
    "version": 3
   },
   "file_extension": ".py",
   "mimetype": "text/x-python",
   "name": "python",
   "nbconvert_exporter": "python",
   "pygments_lexer": "ipython3",
   "version": "3.9.7"
  }
 },
 "nbformat": 4,
 "nbformat_minor": 5
}
